{
 "cells": [
  {
   "cell_type": "markdown",
   "id": "5bd0ccd1",
   "metadata": {},
   "source": [
    "Machine Leaarning Model to Predict the Insurance Charges\n",
    "\n"
   ]
  },
  {
   "cell_type": "markdown",
   "id": "d8db87c7",
   "metadata": {},
   "source": [
    "Module No: 1 \n",
    "\n",
    "EDA --> Exploratory Data Analysis"
   ]
  },
  {
   "cell_type": "code",
   "execution_count": 1,
   "id": "5f79e5f1",
   "metadata": {},
   "outputs": [],
   "source": [
    "import pandas as pd\n",
    "import numpy as np\n",
    "import seaborn as sns\n",
    "import matplotlib.pyplot as plt\n",
    "import warnings\n",
    "\n",
    "warnings.filterwarnings('ignore')\n",
    "\n"
   ]
  },
  {
   "cell_type": "code",
   "execution_count": 2,
   "id": "03d2765d",
   "metadata": {},
   "outputs": [
    {
     "data": {
      "application/vnd.microsoft.datawrangler.viewer.v0+json": {
       "columns": [
        {
         "name": "index",
         "rawType": "int64",
         "type": "integer"
        },
        {
         "name": "age",
         "rawType": "int64",
         "type": "integer"
        },
        {
         "name": "sex",
         "rawType": "object",
         "type": "string"
        },
        {
         "name": "bmi",
         "rawType": "float64",
         "type": "float"
        },
        {
         "name": "children",
         "rawType": "int64",
         "type": "integer"
        },
        {
         "name": "smoker",
         "rawType": "object",
         "type": "string"
        },
        {
         "name": "region",
         "rawType": "object",
         "type": "string"
        },
        {
         "name": "charges",
         "rawType": "float64",
         "type": "float"
        }
       ],
       "ref": "ebbf609e-397b-4464-9e6a-1b4e6f3ccc25",
       "rows": [
        [
         "0",
         "19",
         "female",
         "27.9",
         "0",
         "yes",
         "southwest",
         "16884.924"
        ],
        [
         "1",
         "18",
         "male",
         "33.77",
         "1",
         "no",
         "southeast",
         "1725.5523"
        ],
        [
         "2",
         "28",
         "male",
         "33.0",
         "3",
         "no",
         "southeast",
         "4449.462"
        ],
        [
         "3",
         "33",
         "male",
         "22.705",
         "0",
         "no",
         "northwest",
         "21984.47061"
        ],
        [
         "4",
         "32",
         "male",
         "28.88",
         "0",
         "no",
         "northwest",
         "3866.8552"
        ],
        [
         "5",
         "31",
         "female",
         "25.74",
         "0",
         "no",
         "southeast",
         "3756.6216"
        ],
        [
         "6",
         "46",
         "female",
         "33.44",
         "1",
         "no",
         "southeast",
         "8240.5896"
        ],
        [
         "7",
         "37",
         "female",
         "27.74",
         "3",
         "no",
         "northwest",
         "7281.5056"
        ],
        [
         "8",
         "37",
         "male",
         "29.83",
         "2",
         "no",
         "northeast",
         "6406.4107"
        ],
        [
         "9",
         "60",
         "female",
         "25.84",
         "0",
         "no",
         "northwest",
         "28923.13692"
        ],
        [
         "10",
         "25",
         "male",
         "26.22",
         "0",
         "no",
         "northeast",
         "2721.3208"
        ],
        [
         "11",
         "62",
         "female",
         "26.29",
         "0",
         "yes",
         "southeast",
         "27808.7251"
        ],
        [
         "12",
         "23",
         "male",
         "34.4",
         "0",
         "no",
         "southwest",
         "1826.843"
        ],
        [
         "13",
         "56",
         "female",
         "39.82",
         "0",
         "no",
         "southeast",
         "11090.7178"
        ],
        [
         "14",
         "27",
         "male",
         "42.13",
         "0",
         "yes",
         "southeast",
         "39611.7577"
        ],
        [
         "15",
         "19",
         "male",
         "24.6",
         "1",
         "no",
         "southwest",
         "1837.237"
        ],
        [
         "16",
         "52",
         "female",
         "30.78",
         "1",
         "no",
         "northeast",
         "10797.3362"
        ],
        [
         "17",
         "23",
         "male",
         "23.845",
         "0",
         "no",
         "northeast",
         "2395.17155"
        ],
        [
         "18",
         "56",
         "male",
         "40.3",
         "0",
         "no",
         "southwest",
         "10602.385"
        ],
        [
         "19",
         "30",
         "male",
         "35.3",
         "0",
         "yes",
         "southwest",
         "36837.467"
        ],
        [
         "20",
         "60",
         "female",
         "36.005",
         "0",
         "no",
         "northeast",
         "13228.84695"
        ],
        [
         "21",
         "30",
         "female",
         "32.4",
         "1",
         "no",
         "southwest",
         "4149.736"
        ],
        [
         "22",
         "18",
         "male",
         "34.1",
         "0",
         "no",
         "southeast",
         "1137.011"
        ],
        [
         "23",
         "34",
         "female",
         "31.92",
         "1",
         "yes",
         "northeast",
         "37701.8768"
        ],
        [
         "24",
         "37",
         "male",
         "28.025",
         "2",
         "no",
         "northwest",
         "6203.90175"
        ],
        [
         "25",
         "59",
         "female",
         "27.72",
         "3",
         "no",
         "southeast",
         "14001.1338"
        ],
        [
         "26",
         "63",
         "female",
         "23.085",
         "0",
         "no",
         "northeast",
         "14451.83515"
        ],
        [
         "27",
         "55",
         "female",
         "32.775",
         "2",
         "no",
         "northwest",
         "12268.63225"
        ],
        [
         "28",
         "23",
         "male",
         "17.385",
         "1",
         "no",
         "northwest",
         "2775.19215"
        ],
        [
         "29",
         "31",
         "male",
         "36.3",
         "2",
         "yes",
         "southwest",
         "38711.0"
        ],
        [
         "30",
         "22",
         "male",
         "35.6",
         "0",
         "yes",
         "southwest",
         "35585.576"
        ],
        [
         "31",
         "18",
         "female",
         "26.315",
         "0",
         "no",
         "northeast",
         "2198.18985"
        ],
        [
         "32",
         "19",
         "female",
         "28.6",
         "5",
         "no",
         "southwest",
         "4687.797"
        ],
        [
         "33",
         "63",
         "male",
         "28.31",
         "0",
         "no",
         "northwest",
         "13770.0979"
        ],
        [
         "34",
         "28",
         "male",
         "36.4",
         "1",
         "yes",
         "southwest",
         "51194.55914"
        ],
        [
         "35",
         "19",
         "male",
         "20.425",
         "0",
         "no",
         "northwest",
         "1625.43375"
        ],
        [
         "36",
         "62",
         "female",
         "32.965",
         "3",
         "no",
         "northwest",
         "15612.19335"
        ],
        [
         "37",
         "26",
         "male",
         "20.8",
         "0",
         "no",
         "southwest",
         "2302.3"
        ],
        [
         "38",
         "35",
         "male",
         "36.67",
         "1",
         "yes",
         "northeast",
         "39774.2763"
        ],
        [
         "39",
         "60",
         "male",
         "39.9",
         "0",
         "yes",
         "southwest",
         "48173.361"
        ],
        [
         "40",
         "24",
         "female",
         "26.6",
         "0",
         "no",
         "northeast",
         "3046.062"
        ],
        [
         "41",
         "31",
         "female",
         "36.63",
         "2",
         "no",
         "southeast",
         "4949.7587"
        ],
        [
         "42",
         "41",
         "male",
         "21.78",
         "1",
         "no",
         "southeast",
         "6272.4772"
        ],
        [
         "43",
         "37",
         "female",
         "30.8",
         "2",
         "no",
         "southeast",
         "6313.759"
        ],
        [
         "44",
         "38",
         "male",
         "37.05",
         "1",
         "no",
         "northeast",
         "6079.6715"
        ],
        [
         "45",
         "55",
         "male",
         "37.3",
         "0",
         "no",
         "southwest",
         "20630.28351"
        ],
        [
         "46",
         "18",
         "female",
         "38.665",
         "2",
         "no",
         "northeast",
         "3393.35635"
        ],
        [
         "47",
         "28",
         "female",
         "34.77",
         "0",
         "no",
         "northwest",
         "3556.9223"
        ],
        [
         "48",
         "60",
         "female",
         "24.53",
         "0",
         "no",
         "southeast",
         "12629.8967"
        ],
        [
         "49",
         "36",
         "male",
         "35.2",
         "1",
         "yes",
         "southeast",
         "38709.176"
        ]
       ],
       "shape": {
        "columns": 7,
        "rows": 1338
       }
      },
      "text/html": [
       "<div>\n",
       "<style scoped>\n",
       "    .dataframe tbody tr th:only-of-type {\n",
       "        vertical-align: middle;\n",
       "    }\n",
       "\n",
       "    .dataframe tbody tr th {\n",
       "        vertical-align: top;\n",
       "    }\n",
       "\n",
       "    .dataframe thead th {\n",
       "        text-align: right;\n",
       "    }\n",
       "</style>\n",
       "<table border=\"1\" class=\"dataframe\">\n",
       "  <thead>\n",
       "    <tr style=\"text-align: right;\">\n",
       "      <th></th>\n",
       "      <th>age</th>\n",
       "      <th>sex</th>\n",
       "      <th>bmi</th>\n",
       "      <th>children</th>\n",
       "      <th>smoker</th>\n",
       "      <th>region</th>\n",
       "      <th>charges</th>\n",
       "    </tr>\n",
       "  </thead>\n",
       "  <tbody>\n",
       "    <tr>\n",
       "      <th>0</th>\n",
       "      <td>19</td>\n",
       "      <td>female</td>\n",
       "      <td>27.900</td>\n",
       "      <td>0</td>\n",
       "      <td>yes</td>\n",
       "      <td>southwest</td>\n",
       "      <td>16884.92400</td>\n",
       "    </tr>\n",
       "    <tr>\n",
       "      <th>1</th>\n",
       "      <td>18</td>\n",
       "      <td>male</td>\n",
       "      <td>33.770</td>\n",
       "      <td>1</td>\n",
       "      <td>no</td>\n",
       "      <td>southeast</td>\n",
       "      <td>1725.55230</td>\n",
       "    </tr>\n",
       "    <tr>\n",
       "      <th>2</th>\n",
       "      <td>28</td>\n",
       "      <td>male</td>\n",
       "      <td>33.000</td>\n",
       "      <td>3</td>\n",
       "      <td>no</td>\n",
       "      <td>southeast</td>\n",
       "      <td>4449.46200</td>\n",
       "    </tr>\n",
       "    <tr>\n",
       "      <th>3</th>\n",
       "      <td>33</td>\n",
       "      <td>male</td>\n",
       "      <td>22.705</td>\n",
       "      <td>0</td>\n",
       "      <td>no</td>\n",
       "      <td>northwest</td>\n",
       "      <td>21984.47061</td>\n",
       "    </tr>\n",
       "    <tr>\n",
       "      <th>4</th>\n",
       "      <td>32</td>\n",
       "      <td>male</td>\n",
       "      <td>28.880</td>\n",
       "      <td>0</td>\n",
       "      <td>no</td>\n",
       "      <td>northwest</td>\n",
       "      <td>3866.85520</td>\n",
       "    </tr>\n",
       "    <tr>\n",
       "      <th>...</th>\n",
       "      <td>...</td>\n",
       "      <td>...</td>\n",
       "      <td>...</td>\n",
       "      <td>...</td>\n",
       "      <td>...</td>\n",
       "      <td>...</td>\n",
       "      <td>...</td>\n",
       "    </tr>\n",
       "    <tr>\n",
       "      <th>1333</th>\n",
       "      <td>50</td>\n",
       "      <td>male</td>\n",
       "      <td>30.970</td>\n",
       "      <td>3</td>\n",
       "      <td>no</td>\n",
       "      <td>northwest</td>\n",
       "      <td>10600.54830</td>\n",
       "    </tr>\n",
       "    <tr>\n",
       "      <th>1334</th>\n",
       "      <td>18</td>\n",
       "      <td>female</td>\n",
       "      <td>31.920</td>\n",
       "      <td>0</td>\n",
       "      <td>no</td>\n",
       "      <td>northeast</td>\n",
       "      <td>2205.98080</td>\n",
       "    </tr>\n",
       "    <tr>\n",
       "      <th>1335</th>\n",
       "      <td>18</td>\n",
       "      <td>female</td>\n",
       "      <td>36.850</td>\n",
       "      <td>0</td>\n",
       "      <td>no</td>\n",
       "      <td>southeast</td>\n",
       "      <td>1629.83350</td>\n",
       "    </tr>\n",
       "    <tr>\n",
       "      <th>1336</th>\n",
       "      <td>21</td>\n",
       "      <td>female</td>\n",
       "      <td>25.800</td>\n",
       "      <td>0</td>\n",
       "      <td>no</td>\n",
       "      <td>southwest</td>\n",
       "      <td>2007.94500</td>\n",
       "    </tr>\n",
       "    <tr>\n",
       "      <th>1337</th>\n",
       "      <td>61</td>\n",
       "      <td>female</td>\n",
       "      <td>29.070</td>\n",
       "      <td>0</td>\n",
       "      <td>yes</td>\n",
       "      <td>northwest</td>\n",
       "      <td>29141.36030</td>\n",
       "    </tr>\n",
       "  </tbody>\n",
       "</table>\n",
       "<p>1338 rows × 7 columns</p>\n",
       "</div>"
      ],
      "text/plain": [
       "      age     sex     bmi  children smoker     region      charges\n",
       "0      19  female  27.900         0    yes  southwest  16884.92400\n",
       "1      18    male  33.770         1     no  southeast   1725.55230\n",
       "2      28    male  33.000         3     no  southeast   4449.46200\n",
       "3      33    male  22.705         0     no  northwest  21984.47061\n",
       "4      32    male  28.880         0     no  northwest   3866.85520\n",
       "...   ...     ...     ...       ...    ...        ...          ...\n",
       "1333   50    male  30.970         3     no  northwest  10600.54830\n",
       "1334   18  female  31.920         0     no  northeast   2205.98080\n",
       "1335   18  female  36.850         0     no  southeast   1629.83350\n",
       "1336   21  female  25.800         0     no  southwest   2007.94500\n",
       "1337   61  female  29.070         0    yes  northwest  29141.36030\n",
       "\n",
       "[1338 rows x 7 columns]"
      ]
     },
     "execution_count": 2,
     "metadata": {},
     "output_type": "execute_result"
    }
   ],
   "source": [
    "data = pd.read_csv('insurance.csv')\n",
    "data\n"
   ]
  },
  {
   "cell_type": "code",
   "execution_count": 3,
   "id": "a49c95b5",
   "metadata": {},
   "outputs": [
    {
     "data": {
      "text/plain": [
       "(1338, 7)"
      ]
     },
     "execution_count": 3,
     "metadata": {},
     "output_type": "execute_result"
    }
   ],
   "source": [
    "data.shape "
   ]
  },
  {
   "cell_type": "code",
   "execution_count": 4,
   "id": "6e6c0ef6",
   "metadata": {},
   "outputs": [
    {
     "data": {
      "application/vnd.microsoft.datawrangler.viewer.v0+json": {
       "columns": [
        {
         "name": "index",
         "rawType": "int64",
         "type": "integer"
        },
        {
         "name": "age",
         "rawType": "int64",
         "type": "integer"
        },
        {
         "name": "sex",
         "rawType": "object",
         "type": "string"
        },
        {
         "name": "bmi",
         "rawType": "float64",
         "type": "float"
        },
        {
         "name": "children",
         "rawType": "int64",
         "type": "integer"
        },
        {
         "name": "smoker",
         "rawType": "object",
         "type": "string"
        },
        {
         "name": "region",
         "rawType": "object",
         "type": "string"
        },
        {
         "name": "charges",
         "rawType": "float64",
         "type": "float"
        }
       ],
       "ref": "33a31add-c3d9-4be4-bea0-1b721bbfb615",
       "rows": [
        [
         "0",
         "19",
         "female",
         "27.9",
         "0",
         "yes",
         "southwest",
         "16884.924"
        ],
        [
         "1",
         "18",
         "male",
         "33.77",
         "1",
         "no",
         "southeast",
         "1725.5523"
        ],
        [
         "2",
         "28",
         "male",
         "33.0",
         "3",
         "no",
         "southeast",
         "4449.462"
        ],
        [
         "3",
         "33",
         "male",
         "22.705",
         "0",
         "no",
         "northwest",
         "21984.47061"
        ],
        [
         "4",
         "32",
         "male",
         "28.88",
         "0",
         "no",
         "northwest",
         "3866.8552"
        ]
       ],
       "shape": {
        "columns": 7,
        "rows": 5
       }
      },
      "text/html": [
       "<div>\n",
       "<style scoped>\n",
       "    .dataframe tbody tr th:only-of-type {\n",
       "        vertical-align: middle;\n",
       "    }\n",
       "\n",
       "    .dataframe tbody tr th {\n",
       "        vertical-align: top;\n",
       "    }\n",
       "\n",
       "    .dataframe thead th {\n",
       "        text-align: right;\n",
       "    }\n",
       "</style>\n",
       "<table border=\"1\" class=\"dataframe\">\n",
       "  <thead>\n",
       "    <tr style=\"text-align: right;\">\n",
       "      <th></th>\n",
       "      <th>age</th>\n",
       "      <th>sex</th>\n",
       "      <th>bmi</th>\n",
       "      <th>children</th>\n",
       "      <th>smoker</th>\n",
       "      <th>region</th>\n",
       "      <th>charges</th>\n",
       "    </tr>\n",
       "  </thead>\n",
       "  <tbody>\n",
       "    <tr>\n",
       "      <th>0</th>\n",
       "      <td>19</td>\n",
       "      <td>female</td>\n",
       "      <td>27.900</td>\n",
       "      <td>0</td>\n",
       "      <td>yes</td>\n",
       "      <td>southwest</td>\n",
       "      <td>16884.92400</td>\n",
       "    </tr>\n",
       "    <tr>\n",
       "      <th>1</th>\n",
       "      <td>18</td>\n",
       "      <td>male</td>\n",
       "      <td>33.770</td>\n",
       "      <td>1</td>\n",
       "      <td>no</td>\n",
       "      <td>southeast</td>\n",
       "      <td>1725.55230</td>\n",
       "    </tr>\n",
       "    <tr>\n",
       "      <th>2</th>\n",
       "      <td>28</td>\n",
       "      <td>male</td>\n",
       "      <td>33.000</td>\n",
       "      <td>3</td>\n",
       "      <td>no</td>\n",
       "      <td>southeast</td>\n",
       "      <td>4449.46200</td>\n",
       "    </tr>\n",
       "    <tr>\n",
       "      <th>3</th>\n",
       "      <td>33</td>\n",
       "      <td>male</td>\n",
       "      <td>22.705</td>\n",
       "      <td>0</td>\n",
       "      <td>no</td>\n",
       "      <td>northwest</td>\n",
       "      <td>21984.47061</td>\n",
       "    </tr>\n",
       "    <tr>\n",
       "      <th>4</th>\n",
       "      <td>32</td>\n",
       "      <td>male</td>\n",
       "      <td>28.880</td>\n",
       "      <td>0</td>\n",
       "      <td>no</td>\n",
       "      <td>northwest</td>\n",
       "      <td>3866.85520</td>\n",
       "    </tr>\n",
       "  </tbody>\n",
       "</table>\n",
       "</div>"
      ],
      "text/plain": [
       "   age     sex     bmi  children smoker     region      charges\n",
       "0   19  female  27.900         0    yes  southwest  16884.92400\n",
       "1   18    male  33.770         1     no  southeast   1725.55230\n",
       "2   28    male  33.000         3     no  southeast   4449.46200\n",
       "3   33    male  22.705         0     no  northwest  21984.47061\n",
       "4   32    male  28.880         0     no  northwest   3866.85520"
      ]
     },
     "execution_count": 4,
     "metadata": {},
     "output_type": "execute_result"
    }
   ],
   "source": [
    "data.head()"
   ]
  },
  {
   "cell_type": "code",
   "execution_count": 5,
   "id": "5e278d9d",
   "metadata": {},
   "outputs": [
    {
     "name": "stdout",
     "output_type": "stream",
     "text": [
      "<class 'pandas.core.frame.DataFrame'>\n",
      "RangeIndex: 1338 entries, 0 to 1337\n",
      "Data columns (total 7 columns):\n",
      " #   Column    Non-Null Count  Dtype  \n",
      "---  ------    --------------  -----  \n",
      " 0   age       1338 non-null   int64  \n",
      " 1   sex       1338 non-null   object \n",
      " 2   bmi       1338 non-null   float64\n",
      " 3   children  1338 non-null   int64  \n",
      " 4   smoker    1338 non-null   object \n",
      " 5   region    1338 non-null   object \n",
      " 6   charges   1338 non-null   float64\n",
      "dtypes: float64(2), int64(2), object(3)\n",
      "memory usage: 73.3+ KB\n"
     ]
    }
   ],
   "source": [
    "data.info()"
   ]
  },
  {
   "cell_type": "code",
   "execution_count": 6,
   "id": "5f746d20",
   "metadata": {},
   "outputs": [
    {
     "data": {
      "application/vnd.microsoft.datawrangler.viewer.v0+json": {
       "columns": [
        {
         "name": "index",
         "rawType": "object",
         "type": "string"
        },
        {
         "name": "age",
         "rawType": "float64",
         "type": "float"
        },
        {
         "name": "bmi",
         "rawType": "float64",
         "type": "float"
        },
        {
         "name": "children",
         "rawType": "float64",
         "type": "float"
        },
        {
         "name": "charges",
         "rawType": "float64",
         "type": "float"
        }
       ],
       "ref": "ea570b83-ef9a-44d9-b0ae-a408d7535a9c",
       "rows": [
        [
         "count",
         "1338.0",
         "1338.0",
         "1338.0",
         "1338.0"
        ],
        [
         "mean",
         "39.20702541106129",
         "30.66339686098655",
         "1.0949177877429",
         "13270.422265141257"
        ],
        [
         "std",
         "14.049960379216154",
         "6.098186911679014",
         "1.205492739781914",
         "12110.011236694001"
        ],
        [
         "min",
         "18.0",
         "15.96",
         "0.0",
         "1121.8739"
        ],
        [
         "25%",
         "27.0",
         "26.29625",
         "0.0",
         "4740.28715"
        ],
        [
         "50%",
         "39.0",
         "30.4",
         "1.0",
         "9382.033"
        ],
        [
         "75%",
         "51.0",
         "34.69375",
         "2.0",
         "16639.912515"
        ],
        [
         "max",
         "64.0",
         "53.13",
         "5.0",
         "63770.42801"
        ]
       ],
       "shape": {
        "columns": 4,
        "rows": 8
       }
      },
      "text/html": [
       "<div>\n",
       "<style scoped>\n",
       "    .dataframe tbody tr th:only-of-type {\n",
       "        vertical-align: middle;\n",
       "    }\n",
       "\n",
       "    .dataframe tbody tr th {\n",
       "        vertical-align: top;\n",
       "    }\n",
       "\n",
       "    .dataframe thead th {\n",
       "        text-align: right;\n",
       "    }\n",
       "</style>\n",
       "<table border=\"1\" class=\"dataframe\">\n",
       "  <thead>\n",
       "    <tr style=\"text-align: right;\">\n",
       "      <th></th>\n",
       "      <th>age</th>\n",
       "      <th>bmi</th>\n",
       "      <th>children</th>\n",
       "      <th>charges</th>\n",
       "    </tr>\n",
       "  </thead>\n",
       "  <tbody>\n",
       "    <tr>\n",
       "      <th>count</th>\n",
       "      <td>1338.000000</td>\n",
       "      <td>1338.000000</td>\n",
       "      <td>1338.000000</td>\n",
       "      <td>1338.000000</td>\n",
       "    </tr>\n",
       "    <tr>\n",
       "      <th>mean</th>\n",
       "      <td>39.207025</td>\n",
       "      <td>30.663397</td>\n",
       "      <td>1.094918</td>\n",
       "      <td>13270.422265</td>\n",
       "    </tr>\n",
       "    <tr>\n",
       "      <th>std</th>\n",
       "      <td>14.049960</td>\n",
       "      <td>6.098187</td>\n",
       "      <td>1.205493</td>\n",
       "      <td>12110.011237</td>\n",
       "    </tr>\n",
       "    <tr>\n",
       "      <th>min</th>\n",
       "      <td>18.000000</td>\n",
       "      <td>15.960000</td>\n",
       "      <td>0.000000</td>\n",
       "      <td>1121.873900</td>\n",
       "    </tr>\n",
       "    <tr>\n",
       "      <th>25%</th>\n",
       "      <td>27.000000</td>\n",
       "      <td>26.296250</td>\n",
       "      <td>0.000000</td>\n",
       "      <td>4740.287150</td>\n",
       "    </tr>\n",
       "    <tr>\n",
       "      <th>50%</th>\n",
       "      <td>39.000000</td>\n",
       "      <td>30.400000</td>\n",
       "      <td>1.000000</td>\n",
       "      <td>9382.033000</td>\n",
       "    </tr>\n",
       "    <tr>\n",
       "      <th>75%</th>\n",
       "      <td>51.000000</td>\n",
       "      <td>34.693750</td>\n",
       "      <td>2.000000</td>\n",
       "      <td>16639.912515</td>\n",
       "    </tr>\n",
       "    <tr>\n",
       "      <th>max</th>\n",
       "      <td>64.000000</td>\n",
       "      <td>53.130000</td>\n",
       "      <td>5.000000</td>\n",
       "      <td>63770.428010</td>\n",
       "    </tr>\n",
       "  </tbody>\n",
       "</table>\n",
       "</div>"
      ],
      "text/plain": [
       "               age          bmi     children       charges\n",
       "count  1338.000000  1338.000000  1338.000000   1338.000000\n",
       "mean     39.207025    30.663397     1.094918  13270.422265\n",
       "std      14.049960     6.098187     1.205493  12110.011237\n",
       "min      18.000000    15.960000     0.000000   1121.873900\n",
       "25%      27.000000    26.296250     0.000000   4740.287150\n",
       "50%      39.000000    30.400000     1.000000   9382.033000\n",
       "75%      51.000000    34.693750     2.000000  16639.912515\n",
       "max      64.000000    53.130000     5.000000  63770.428010"
      ]
     },
     "execution_count": 6,
     "metadata": {},
     "output_type": "execute_result"
    }
   ],
   "source": [
    "data.describe()"
   ]
  },
  {
   "cell_type": "code",
   "execution_count": 7,
   "id": "65ed2cca",
   "metadata": {},
   "outputs": [
    {
     "data": {
      "application/vnd.microsoft.datawrangler.viewer.v0+json": {
       "columns": [
        {
         "name": "index",
         "rawType": "object",
         "type": "string"
        },
        {
         "name": "0",
         "rawType": "int64",
         "type": "integer"
        }
       ],
       "ref": "07968838-2740-4274-9f34-5ffdd1b09424",
       "rows": [
        [
         "age",
         "0"
        ],
        [
         "sex",
         "0"
        ],
        [
         "bmi",
         "0"
        ],
        [
         "children",
         "0"
        ],
        [
         "smoker",
         "0"
        ],
        [
         "region",
         "0"
        ],
        [
         "charges",
         "0"
        ]
       ],
       "shape": {
        "columns": 1,
        "rows": 7
       }
      },
      "text/plain": [
       "age         0\n",
       "sex         0\n",
       "bmi         0\n",
       "children    0\n",
       "smoker      0\n",
       "region      0\n",
       "charges     0\n",
       "dtype: int64"
      ]
     },
     "execution_count": 7,
     "metadata": {},
     "output_type": "execute_result"
    }
   ],
   "source": [
    "data.isnull().sum() #finds the Null values and sum it to finds how many are missing"
   ]
  },
  {
   "cell_type": "code",
   "execution_count": 8,
   "id": "74a75008",
   "metadata": {},
   "outputs": [
    {
     "data": {
      "text/plain": [
       "Index(['age', 'sex', 'bmi', 'children', 'smoker', 'region', 'charges'], dtype='object')"
      ]
     },
     "execution_count": 8,
     "metadata": {},
     "output_type": "execute_result"
    }
   ],
   "source": [
    "#Extracting the Numeric Columns\n",
    "data.columns"
   ]
  },
  {
   "cell_type": "code",
   "execution_count": 9,
   "id": "f1613f25",
   "metadata": {},
   "outputs": [
    {
     "data": {
      "image/png": "[encoded data removed]",
      "text/plain": [
       "<Figure size 600x500 with 1 Axes>"
      ]
     },
     "metadata": {},
     "output_type": "display_data"
    },
    {
     "data": {
      "image/png": "[encoded data removed]",
      "text/plain": [
       "<Figure size 600x500 with 1 Axes>"
      ]
     },
     "metadata": {},
     "output_type": "display_data"
    },
    {
     "data": {
      "image/png": "[encoded data removed]",
      "text/plain": [
       "<Figure size 600x500 with 1 Axes>"
      ]
     },
     "metadata": {},
     "output_type": "display_data"
    },
    {
     "data": {
      "image/png": "[encoded data removed]",
      "text/plain": [
       "<Figure size 600x500 with 1 Axes>"
      ]
     },
     "metadata": {},
     "output_type": "display_data"
    }
   ],
   "source": [
    "numeric_columns = ['age', 'bmi', 'children', 'charges']\n",
    "for columns in numeric_columns:\n",
    "    plt.figure(figsize=(6,5))\n",
    "    sns.histplot(data[columns], kde=True, bins=20)\n",
    "\n"
   ]
  },
  {
   "cell_type": "code",
   "execution_count": 10,
   "id": "1f324c95",
   "metadata": {},
   "outputs": [
    {
     "data": {
      "text/plain": [
       "<Axes: xlabel='children', ylabel='count'>"
      ]
     },
     "execution_count": 10,
     "metadata": {},
     "output_type": "execute_result"
    },
    {
     "data": {
      "image/png": "[encoded data removed]",
      "text/plain": [
       "<Figure size 640x480 with 1 Axes>"
      ]
     },
     "metadata": {},
     "output_type": "display_data"
    }
   ],
   "source": [
    "sns.countplot(x=data['children'])"
   ]
  },
  {
   "cell_type": "code",
   "execution_count": 11,
   "id": "cc04fff7",
   "metadata": {},
   "outputs": [
    {
     "data": {
      "text/plain": [
       "<Axes: xlabel='sex', ylabel='count'>"
      ]
     },
     "execution_count": 11,
     "metadata": {},
     "output_type": "execute_result"
    },
    {
     "data": {
      "image/png": "[encoded data removed]",
      "text/plain": [
       "<Figure size 640x480 with 1 Axes>"
      ]
     },
     "metadata": {},
     "output_type": "display_data"
    }
   ],
   "source": [
    "sns.countplot(x=data['sex'])"
   ]
  },
  {
   "cell_type": "code",
   "execution_count": 12,
   "id": "83a0525a",
   "metadata": {},
   "outputs": [
    {
     "data": {
      "text/plain": [
       "<Axes: xlabel='smoker', ylabel='count'>"
      ]
     },
     "execution_count": 12,
     "metadata": {},
     "output_type": "execute_result"
    },
    {
     "data": {
      "image/png": "[encoded data removed]",
      "text/plain": [
       "<Figure size 640x480 with 1 Axes>"
      ]
     },
     "metadata": {},
     "output_type": "display_data"
    }
   ],
   "source": [
    "sns.countplot(x=data['smoker'])"
   ]
  },
  {
   "cell_type": "code",
   "execution_count": 13,
   "id": "22b88af3",
   "metadata": {},
   "outputs": [
    {
     "data": {
      "image/png": "[encoded data removed]",
      "text/plain": [
       "<Figure size 600x500 with 1 Axes>"
      ]
     },
     "metadata": {},
     "output_type": "display_data"
    },
    {
     "data": {
      "image/png": "[encoded data removed]",
      "text/plain": [
       "<Figure size 600x500 with 1 Axes>"
      ]
     },
     "metadata": {},
     "output_type": "display_data"
    },
    {
     "data": {
      "image/png": "[encoded data removed]",
      "text/plain": [
       "<Figure size 600x500 with 1 Axes>"
      ]
     },
     "metadata": {},
     "output_type": "display_data"
    },
    {
     "data": {
      "image/png": "[encoded data removed]",
      "text/plain": [
       "<Figure size 600x500 with 1 Axes>"
      ]
     },
     "metadata": {},
     "output_type": "display_data"
    }
   ],
   "source": [
    "for columns in numeric_columns:\n",
    "    plt.figure(figsize=(6,5))\n",
    "    sns.boxplot(x=data[columns])"
   ]
  },
  {
   "cell_type": "code",
   "execution_count": 14,
   "id": "57f22e4d",
   "metadata": {},
   "outputs": [
    {
     "data": {
      "text/plain": [
       "<Axes: >"
      ]
     },
     "execution_count": 14,
     "metadata": {},
     "output_type": "execute_result"
    },
    {
     "data": {
      "image/png": "[encoded data removed]",
      "text/plain": [
       "<Figure size 800x800 with 2 Axes>"
      ]
     },
     "metadata": {},
     "output_type": "display_data"
    }
   ],
   "source": [
    "plt.figure(figsize=(8,8))\n",
    "sns.heatmap(data.corr(numeric_only=True), annot=True)"
   ]
  },
  {
   "cell_type": "markdown",
   "id": "cae0a621",
   "metadata": {},
   "source": [
    "Data Cleaning and Preprocessing"
   ]
  },
  {
   "cell_type": "code",
   "execution_count": 15,
   "id": "cf3361a1",
   "metadata": {},
   "outputs": [],
   "source": [
    "#Filling the Missing Values\n",
    "filling_missing_rows = data['charges'].fillna(data['charges'].mean(), inplace=True)\n",
    "filling_missing_rows"
   ]
  },
  {
   "cell_type": "code",
   "execution_count": 16,
   "id": "2d40c845",
   "metadata": {},
   "outputs": [],
   "source": [
    "#Removing Duplicate Rows\n",
    "duplicates = data.drop_duplicates(inplace=True)\n",
    "duplicates"
   ]
  },
  {
   "cell_type": "code",
   "execution_count": 17,
   "id": "bab3b147",
   "metadata": {},
   "outputs": [],
   "source": [
    "cleaned_data = data.copy()"
   ]
  },
  {
   "cell_type": "code",
   "execution_count": 18,
   "id": "3900631c",
   "metadata": {},
   "outputs": [
    {
     "data": {
      "application/vnd.microsoft.datawrangler.viewer.v0+json": {
       "columns": [
        {
         "name": "index",
         "rawType": "int64",
         "type": "integer"
        },
        {
         "name": "age",
         "rawType": "int64",
         "type": "integer"
        },
        {
         "name": "sex",
         "rawType": "object",
         "type": "string"
        },
        {
         "name": "bmi",
         "rawType": "float64",
         "type": "float"
        },
        {
         "name": "children",
         "rawType": "int64",
         "type": "integer"
        },
        {
         "name": "smoker",
         "rawType": "object",
         "type": "string"
        },
        {
         "name": "region",
         "rawType": "object",
         "type": "string"
        },
        {
         "name": "charges",
         "rawType": "float64",
         "type": "float"
        }
       ],
       "ref": "b917bb63-4549-4bca-a60a-1d144fcc0464",
       "rows": [
        [
         "0",
         "19",
         "female",
         "27.9",
         "0",
         "yes",
         "southwest",
         "16884.924"
        ],
        [
         "1",
         "18",
         "male",
         "33.77",
         "1",
         "no",
         "southeast",
         "1725.5523"
        ],
        [
         "2",
         "28",
         "male",
         "33.0",
         "3",
         "no",
         "southeast",
         "4449.462"
        ],
        [
         "3",
         "33",
         "male",
         "22.705",
         "0",
         "no",
         "northwest",
         "21984.47061"
        ],
        [
         "4",
         "32",
         "male",
         "28.88",
         "0",
         "no",
         "northwest",
         "3866.8552"
        ]
       ],
       "shape": {
        "columns": 7,
        "rows": 5
       }
      },
      "text/html": [
       "<div>\n",
       "<style scoped>\n",
       "    .dataframe tbody tr th:only-of-type {\n",
       "        vertical-align: middle;\n",
       "    }\n",
       "\n",
       "    .dataframe tbody tr th {\n",
       "        vertical-align: top;\n",
       "    }\n",
       "\n",
       "    .dataframe thead th {\n",
       "        text-align: right;\n",
       "    }\n",
       "</style>\n",
       "<table border=\"1\" class=\"dataframe\">\n",
       "  <thead>\n",
       "    <tr style=\"text-align: right;\">\n",
       "      <th></th>\n",
       "      <th>age</th>\n",
       "      <th>sex</th>\n",
       "      <th>bmi</th>\n",
       "      <th>children</th>\n",
       "      <th>smoker</th>\n",
       "      <th>region</th>\n",
       "      <th>charges</th>\n",
       "    </tr>\n",
       "  </thead>\n",
       "  <tbody>\n",
       "    <tr>\n",
       "      <th>0</th>\n",
       "      <td>19</td>\n",
       "      <td>female</td>\n",
       "      <td>27.900</td>\n",
       "      <td>0</td>\n",
       "      <td>yes</td>\n",
       "      <td>southwest</td>\n",
       "      <td>16884.92400</td>\n",
       "    </tr>\n",
       "    <tr>\n",
       "      <th>1</th>\n",
       "      <td>18</td>\n",
       "      <td>male</td>\n",
       "      <td>33.770</td>\n",
       "      <td>1</td>\n",
       "      <td>no</td>\n",
       "      <td>southeast</td>\n",
       "      <td>1725.55230</td>\n",
       "    </tr>\n",
       "    <tr>\n",
       "      <th>2</th>\n",
       "      <td>28</td>\n",
       "      <td>male</td>\n",
       "      <td>33.000</td>\n",
       "      <td>3</td>\n",
       "      <td>no</td>\n",
       "      <td>southeast</td>\n",
       "      <td>4449.46200</td>\n",
       "    </tr>\n",
       "    <tr>\n",
       "      <th>3</th>\n",
       "      <td>33</td>\n",
       "      <td>male</td>\n",
       "      <td>22.705</td>\n",
       "      <td>0</td>\n",
       "      <td>no</td>\n",
       "      <td>northwest</td>\n",
       "      <td>21984.47061</td>\n",
       "    </tr>\n",
       "    <tr>\n",
       "      <th>4</th>\n",
       "      <td>32</td>\n",
       "      <td>male</td>\n",
       "      <td>28.880</td>\n",
       "      <td>0</td>\n",
       "      <td>no</td>\n",
       "      <td>northwest</td>\n",
       "      <td>3866.85520</td>\n",
       "    </tr>\n",
       "  </tbody>\n",
       "</table>\n",
       "</div>"
      ],
      "text/plain": [
       "   age     sex     bmi  children smoker     region      charges\n",
       "0   19  female  27.900         0    yes  southwest  16884.92400\n",
       "1   18    male  33.770         1     no  southeast   1725.55230\n",
       "2   28    male  33.000         3     no  southeast   4449.46200\n",
       "3   33    male  22.705         0     no  northwest  21984.47061\n",
       "4   32    male  28.880         0     no  northwest   3866.85520"
      ]
     },
     "execution_count": 18,
     "metadata": {},
     "output_type": "execute_result"
    }
   ],
   "source": [
    "cleaned_data.head()"
   ]
  },
  {
   "cell_type": "code",
   "execution_count": 19,
   "id": "1ff6e3a8",
   "metadata": {},
   "outputs": [
    {
     "data": {
      "text/plain": [
       "(1337, 7)"
      ]
     },
     "execution_count": 19,
     "metadata": {},
     "output_type": "execute_result"
    }
   ],
   "source": [
    "cleaned_data.shape"
   ]
  },
  {
   "cell_type": "code",
   "execution_count": 20,
   "id": "f76f05a4",
   "metadata": {},
   "outputs": [
    {
     "data": {
      "application/vnd.microsoft.datawrangler.viewer.v0+json": {
       "columns": [
        {
         "name": "index",
         "rawType": "object",
         "type": "string"
        },
        {
         "name": "0",
         "rawType": "int64",
         "type": "integer"
        }
       ],
       "ref": "7a665b1b-e2d7-4ea9-b6f1-85d5f30e7e7b",
       "rows": [
        [
         "age",
         "0"
        ],
        [
         "sex",
         "0"
        ],
        [
         "bmi",
         "0"
        ],
        [
         "children",
         "0"
        ],
        [
         "smoker",
         "0"
        ],
        [
         "region",
         "0"
        ],
        [
         "charges",
         "0"
        ]
       ],
       "shape": {
        "columns": 1,
        "rows": 7
       }
      },
      "text/plain": [
       "age         0\n",
       "sex         0\n",
       "bmi         0\n",
       "children    0\n",
       "smoker      0\n",
       "region      0\n",
       "charges     0\n",
       "dtype: int64"
      ]
     },
     "execution_count": 20,
     "metadata": {},
     "output_type": "execute_result"
    }
   ],
   "source": [
    "cleaned_data.isnull().sum()"
   ]
  },
  {
   "cell_type": "code",
   "execution_count": 21,
   "id": "e30712fa",
   "metadata": {},
   "outputs": [
    {
     "data": {
      "application/vnd.microsoft.datawrangler.viewer.v0+json": {
       "columns": [
        {
         "name": "index",
         "rawType": "object",
         "type": "string"
        },
        {
         "name": "0",
         "rawType": "object",
         "type": "unknown"
        }
       ],
       "ref": "390e57d2-defe-456b-8c7b-257d4902c250",
       "rows": [
        [
         "age",
         "int64"
        ],
        [
         "sex",
         "object"
        ],
        [
         "bmi",
         "float64"
        ],
        [
         "children",
         "int64"
        ],
        [
         "smoker",
         "object"
        ],
        [
         "region",
         "object"
        ],
        [
         "charges",
         "float64"
        ]
       ],
       "shape": {
        "columns": 1,
        "rows": 7
       }
      },
      "text/plain": [
       "age           int64\n",
       "sex          object\n",
       "bmi         float64\n",
       "children      int64\n",
       "smoker       object\n",
       "region       object\n",
       "charges     float64\n",
       "dtype: object"
      ]
     },
     "execution_count": 21,
     "metadata": {},
     "output_type": "execute_result"
    }
   ],
   "source": [
    "cleaned_data.dtypes"
   ]
  },
  {
   "cell_type": "code",
   "execution_count": 22,
   "id": "a50b178f",
   "metadata": {},
   "outputs": [
    {
     "data": {
      "application/vnd.microsoft.datawrangler.viewer.v0+json": {
       "columns": [
        {
         "name": "sex",
         "rawType": "object",
         "type": "string"
        },
        {
         "name": "count",
         "rawType": "int64",
         "type": "integer"
        }
       ],
       "ref": "6dd53b08-5e20-4980-94db-881ebd9943ea",
       "rows": [
        [
         "male",
         "675"
        ],
        [
         "female",
         "662"
        ]
       ],
       "shape": {
        "columns": 1,
        "rows": 2
       }
      },
      "text/plain": [
       "sex\n",
       "male      675\n",
       "female    662\n",
       "Name: count, dtype: int64"
      ]
     },
     "execution_count": 22,
     "metadata": {},
     "output_type": "execute_result"
    }
   ],
   "source": [
    "cleaned_data['sex'].value_counts()"
   ]
  },
  {
   "cell_type": "code",
   "execution_count": 23,
   "id": "10c81d99",
   "metadata": {},
   "outputs": [],
   "source": [
    "#Encoding the columns --> label Encoding\n",
    "\n",
    "cleaned_data['sex'] = cleaned_data['sex'].map({'male' : 0, 'female' : 1})\n"
   ]
  },
  {
   "cell_type": "code",
   "execution_count": 24,
   "id": "4eac83c4",
   "metadata": {},
   "outputs": [
    {
     "data": {
      "application/vnd.microsoft.datawrangler.viewer.v0+json": {
       "columns": [
        {
         "name": "index",
         "rawType": "int64",
         "type": "integer"
        },
        {
         "name": "age",
         "rawType": "int64",
         "type": "integer"
        },
        {
         "name": "sex",
         "rawType": "int64",
         "type": "integer"
        },
        {
         "name": "bmi",
         "rawType": "float64",
         "type": "float"
        },
        {
         "name": "children",
         "rawType": "int64",
         "type": "integer"
        },
        {
         "name": "smoker",
         "rawType": "object",
         "type": "string"
        },
        {
         "name": "region",
         "rawType": "object",
         "type": "string"
        },
        {
         "name": "charges",
         "rawType": "float64",
         "type": "float"
        }
       ],
       "ref": "eb6c5b2b-779c-4104-aa90-ba16b68ee17b",
       "rows": [
        [
         "0",
         "19",
         "1",
         "27.9",
         "0",
         "yes",
         "southwest",
         "16884.924"
        ],
        [
         "1",
         "18",
         "0",
         "33.77",
         "1",
         "no",
         "southeast",
         "1725.5523"
        ],
        [
         "2",
         "28",
         "0",
         "33.0",
         "3",
         "no",
         "southeast",
         "4449.462"
        ],
        [
         "3",
         "33",
         "0",
         "22.705",
         "0",
         "no",
         "northwest",
         "21984.47061"
        ],
        [
         "4",
         "32",
         "0",
         "28.88",
         "0",
         "no",
         "northwest",
         "3866.8552"
        ]
       ],
       "shape": {
        "columns": 7,
        "rows": 5
       }
      },
      "text/html": [
       "<div>\n",
       "<style scoped>\n",
       "    .dataframe tbody tr th:only-of-type {\n",
       "        vertical-align: middle;\n",
       "    }\n",
       "\n",
       "    .dataframe tbody tr th {\n",
       "        vertical-align: top;\n",
       "    }\n",
       "\n",
       "    .dataframe thead th {\n",
       "        text-align: right;\n",
       "    }\n",
       "</style>\n",
       "<table border=\"1\" class=\"dataframe\">\n",
       "  <thead>\n",
       "    <tr style=\"text-align: right;\">\n",
       "      <th></th>\n",
       "      <th>age</th>\n",
       "      <th>sex</th>\n",
       "      <th>bmi</th>\n",
       "      <th>children</th>\n",
       "      <th>smoker</th>\n",
       "      <th>region</th>\n",
       "      <th>charges</th>\n",
       "    </tr>\n",
       "  </thead>\n",
       "  <tbody>\n",
       "    <tr>\n",
       "      <th>0</th>\n",
       "      <td>19</td>\n",
       "      <td>1</td>\n",
       "      <td>27.900</td>\n",
       "      <td>0</td>\n",
       "      <td>yes</td>\n",
       "      <td>southwest</td>\n",
       "      <td>16884.92400</td>\n",
       "    </tr>\n",
       "    <tr>\n",
       "      <th>1</th>\n",
       "      <td>18</td>\n",
       "      <td>0</td>\n",
       "      <td>33.770</td>\n",
       "      <td>1</td>\n",
       "      <td>no</td>\n",
       "      <td>southeast</td>\n",
       "      <td>1725.55230</td>\n",
       "    </tr>\n",
       "    <tr>\n",
       "      <th>2</th>\n",
       "      <td>28</td>\n",
       "      <td>0</td>\n",
       "      <td>33.000</td>\n",
       "      <td>3</td>\n",
       "      <td>no</td>\n",
       "      <td>southeast</td>\n",
       "      <td>4449.46200</td>\n",
       "    </tr>\n",
       "    <tr>\n",
       "      <th>3</th>\n",
       "      <td>33</td>\n",
       "      <td>0</td>\n",
       "      <td>22.705</td>\n",
       "      <td>0</td>\n",
       "      <td>no</td>\n",
       "      <td>northwest</td>\n",
       "      <td>21984.47061</td>\n",
       "    </tr>\n",
       "    <tr>\n",
       "      <th>4</th>\n",
       "      <td>32</td>\n",
       "      <td>0</td>\n",
       "      <td>28.880</td>\n",
       "      <td>0</td>\n",
       "      <td>no</td>\n",
       "      <td>northwest</td>\n",
       "      <td>3866.85520</td>\n",
       "    </tr>\n",
       "  </tbody>\n",
       "</table>\n",
       "</div>"
      ],
      "text/plain": [
       "   age  sex     bmi  children smoker     region      charges\n",
       "0   19    1  27.900         0    yes  southwest  16884.92400\n",
       "1   18    0  33.770         1     no  southeast   1725.55230\n",
       "2   28    0  33.000         3     no  southeast   4449.46200\n",
       "3   33    0  22.705         0     no  northwest  21984.47061\n",
       "4   32    0  28.880         0     no  northwest   3866.85520"
      ]
     },
     "execution_count": 24,
     "metadata": {},
     "output_type": "execute_result"
    }
   ],
   "source": [
    "cleaned_data.head()"
   ]
  },
  {
   "cell_type": "code",
   "execution_count": 25,
   "id": "620374e9",
   "metadata": {},
   "outputs": [
    {
     "data": {
      "application/vnd.microsoft.datawrangler.viewer.v0+json": {
       "columns": [
        {
         "name": "smoker",
         "rawType": "object",
         "type": "string"
        },
        {
         "name": "count",
         "rawType": "int64",
         "type": "integer"
        }
       ],
       "ref": "923781c7-9550-4fbf-896a-1a206c2b39ae",
       "rows": [
        [
         "no",
         "1063"
        ],
        [
         "yes",
         "274"
        ]
       ],
       "shape": {
        "columns": 1,
        "rows": 2
       }
      },
      "text/plain": [
       "smoker\n",
       "no     1063\n",
       "yes     274\n",
       "Name: count, dtype: int64"
      ]
     },
     "execution_count": 25,
     "metadata": {},
     "output_type": "execute_result"
    }
   ],
   "source": [
    "cleaned_data['smoker'].value_counts()"
   ]
  },
  {
   "cell_type": "code",
   "execution_count": 26,
   "id": "6ffa3531",
   "metadata": {},
   "outputs": [],
   "source": [
    "cleaned_data['smoker'] = cleaned_data['smoker'].map({'yes' : 1, 'no' : 0})"
   ]
  },
  {
   "cell_type": "code",
   "execution_count": 27,
   "id": "6153a8db",
   "metadata": {},
   "outputs": [
    {
     "data": {
      "application/vnd.microsoft.datawrangler.viewer.v0+json": {
       "columns": [
        {
         "name": "index",
         "rawType": "int64",
         "type": "integer"
        },
        {
         "name": "age",
         "rawType": "int64",
         "type": "integer"
        },
        {
         "name": "sex",
         "rawType": "int64",
         "type": "integer"
        },
        {
         "name": "bmi",
         "rawType": "float64",
         "type": "float"
        },
        {
         "name": "children",
         "rawType": "int64",
         "type": "integer"
        },
        {
         "name": "smoker",
         "rawType": "int64",
         "type": "integer"
        },
        {
         "name": "region",
         "rawType": "object",
         "type": "string"
        },
        {
         "name": "charges",
         "rawType": "float64",
         "type": "float"
        }
       ],
       "ref": "d928ff77-d182-4c46-a20b-930794a462cc",
       "rows": [
        [
         "0",
         "19",
         "1",
         "27.9",
         "0",
         "1",
         "southwest",
         "16884.924"
        ],
        [
         "1",
         "18",
         "0",
         "33.77",
         "1",
         "0",
         "southeast",
         "1725.5523"
        ],
        [
         "2",
         "28",
         "0",
         "33.0",
         "3",
         "0",
         "southeast",
         "4449.462"
        ],
        [
         "3",
         "33",
         "0",
         "22.705",
         "0",
         "0",
         "northwest",
         "21984.47061"
        ],
        [
         "4",
         "32",
         "0",
         "28.88",
         "0",
         "0",
         "northwest",
         "3866.8552"
        ]
       ],
       "shape": {
        "columns": 7,
        "rows": 5
       }
      },
      "text/html": [
       "<div>\n",
       "<style scoped>\n",
       "    .dataframe tbody tr th:only-of-type {\n",
       "        vertical-align: middle;\n",
       "    }\n",
       "\n",
       "    .dataframe tbody tr th {\n",
       "        vertical-align: top;\n",
       "    }\n",
       "\n",
       "    .dataframe thead th {\n",
       "        text-align: right;\n",
       "    }\n",
       "</style>\n",
       "<table border=\"1\" class=\"dataframe\">\n",
       "  <thead>\n",
       "    <tr style=\"text-align: right;\">\n",
       "      <th></th>\n",
       "      <th>age</th>\n",
       "      <th>sex</th>\n",
       "      <th>bmi</th>\n",
       "      <th>children</th>\n",
       "      <th>smoker</th>\n",
       "      <th>region</th>\n",
       "      <th>charges</th>\n",
       "    </tr>\n",
       "  </thead>\n",
       "  <tbody>\n",
       "    <tr>\n",
       "      <th>0</th>\n",
       "      <td>19</td>\n",
       "      <td>1</td>\n",
       "      <td>27.900</td>\n",
       "      <td>0</td>\n",
       "      <td>1</td>\n",
       "      <td>southwest</td>\n",
       "      <td>16884.92400</td>\n",
       "    </tr>\n",
       "    <tr>\n",
       "      <th>1</th>\n",
       "      <td>18</td>\n",
       "      <td>0</td>\n",
       "      <td>33.770</td>\n",
       "      <td>1</td>\n",
       "      <td>0</td>\n",
       "      <td>southeast</td>\n",
       "      <td>1725.55230</td>\n",
       "    </tr>\n",
       "    <tr>\n",
       "      <th>2</th>\n",
       "      <td>28</td>\n",
       "      <td>0</td>\n",
       "      <td>33.000</td>\n",
       "      <td>3</td>\n",
       "      <td>0</td>\n",
       "      <td>southeast</td>\n",
       "      <td>4449.46200</td>\n",
       "    </tr>\n",
       "    <tr>\n",
       "      <th>3</th>\n",
       "      <td>33</td>\n",
       "      <td>0</td>\n",
       "      <td>22.705</td>\n",
       "      <td>0</td>\n",
       "      <td>0</td>\n",
       "      <td>northwest</td>\n",
       "      <td>21984.47061</td>\n",
       "    </tr>\n",
       "    <tr>\n",
       "      <th>4</th>\n",
       "      <td>32</td>\n",
       "      <td>0</td>\n",
       "      <td>28.880</td>\n",
       "      <td>0</td>\n",
       "      <td>0</td>\n",
       "      <td>northwest</td>\n",
       "      <td>3866.85520</td>\n",
       "    </tr>\n",
       "  </tbody>\n",
       "</table>\n",
       "</div>"
      ],
      "text/plain": [
       "   age  sex     bmi  children  smoker     region      charges\n",
       "0   19    1  27.900         0       1  southwest  16884.92400\n",
       "1   18    0  33.770         1       0  southeast   1725.55230\n",
       "2   28    0  33.000         3       0  southeast   4449.46200\n",
       "3   33    0  22.705         0       0  northwest  21984.47061\n",
       "4   32    0  28.880         0       0  northwest   3866.85520"
      ]
     },
     "execution_count": 27,
     "metadata": {},
     "output_type": "execute_result"
    }
   ],
   "source": [
    "cleaned_data.head()"
   ]
  },
  {
   "cell_type": "code",
   "execution_count": 28,
   "id": "b8a3feab",
   "metadata": {},
   "outputs": [],
   "source": [
    "#Changing the columns name of Sex ---> gender \n",
    "cleaned_data.rename(columns={'sex' : 'gender'}, inplace=True)"
   ]
  },
  {
   "cell_type": "code",
   "execution_count": 29,
   "id": "4afe05d3",
   "metadata": {},
   "outputs": [
    {
     "data": {
      "application/vnd.microsoft.datawrangler.viewer.v0+json": {
       "columns": [
        {
         "name": "index",
         "rawType": "int64",
         "type": "integer"
        },
        {
         "name": "age",
         "rawType": "int64",
         "type": "integer"
        },
        {
         "name": "gender",
         "rawType": "int64",
         "type": "integer"
        },
        {
         "name": "bmi",
         "rawType": "float64",
         "type": "float"
        },
        {
         "name": "children",
         "rawType": "int64",
         "type": "integer"
        },
        {
         "name": "smoker",
         "rawType": "int64",
         "type": "integer"
        },
        {
         "name": "region",
         "rawType": "object",
         "type": "string"
        },
        {
         "name": "charges",
         "rawType": "float64",
         "type": "float"
        }
       ],
       "ref": "ec921744-5316-4d7b-b691-897e2a6aadb3",
       "rows": [
        [
         "0",
         "19",
         "1",
         "27.9",
         "0",
         "1",
         "southwest",
         "16884.924"
        ],
        [
         "1",
         "18",
         "0",
         "33.77",
         "1",
         "0",
         "southeast",
         "1725.5523"
        ],
        [
         "2",
         "28",
         "0",
         "33.0",
         "3",
         "0",
         "southeast",
         "4449.462"
        ],
        [
         "3",
         "33",
         "0",
         "22.705",
         "0",
         "0",
         "northwest",
         "21984.47061"
        ],
        [
         "4",
         "32",
         "0",
         "28.88",
         "0",
         "0",
         "northwest",
         "3866.8552"
        ]
       ],
       "shape": {
        "columns": 7,
        "rows": 5
       }
      },
      "text/html": [
       "<div>\n",
       "<style scoped>\n",
       "    .dataframe tbody tr th:only-of-type {\n",
       "        vertical-align: middle;\n",
       "    }\n",
       "\n",
       "    .dataframe tbody tr th {\n",
       "        vertical-align: top;\n",
       "    }\n",
       "\n",
       "    .dataframe thead th {\n",
       "        text-align: right;\n",
       "    }\n",
       "</style>\n",
       "<table border=\"1\" class=\"dataframe\">\n",
       "  <thead>\n",
       "    <tr style=\"text-align: right;\">\n",
       "      <th></th>\n",
       "      <th>age</th>\n",
       "      <th>gender</th>\n",
       "      <th>bmi</th>\n",
       "      <th>children</th>\n",
       "      <th>smoker</th>\n",
       "      <th>region</th>\n",
       "      <th>charges</th>\n",
       "    </tr>\n",
       "  </thead>\n",
       "  <tbody>\n",
       "    <tr>\n",
       "      <th>0</th>\n",
       "      <td>19</td>\n",
       "      <td>1</td>\n",
       "      <td>27.900</td>\n",
       "      <td>0</td>\n",
       "      <td>1</td>\n",
       "      <td>southwest</td>\n",
       "      <td>16884.92400</td>\n",
       "    </tr>\n",
       "    <tr>\n",
       "      <th>1</th>\n",
       "      <td>18</td>\n",
       "      <td>0</td>\n",
       "      <td>33.770</td>\n",
       "      <td>1</td>\n",
       "      <td>0</td>\n",
       "      <td>southeast</td>\n",
       "      <td>1725.55230</td>\n",
       "    </tr>\n",
       "    <tr>\n",
       "      <th>2</th>\n",
       "      <td>28</td>\n",
       "      <td>0</td>\n",
       "      <td>33.000</td>\n",
       "      <td>3</td>\n",
       "      <td>0</td>\n",
       "      <td>southeast</td>\n",
       "      <td>4449.46200</td>\n",
       "    </tr>\n",
       "    <tr>\n",
       "      <th>3</th>\n",
       "      <td>33</td>\n",
       "      <td>0</td>\n",
       "      <td>22.705</td>\n",
       "      <td>0</td>\n",
       "      <td>0</td>\n",
       "      <td>northwest</td>\n",
       "      <td>21984.47061</td>\n",
       "    </tr>\n",
       "    <tr>\n",
       "      <th>4</th>\n",
       "      <td>32</td>\n",
       "      <td>0</td>\n",
       "      <td>28.880</td>\n",
       "      <td>0</td>\n",
       "      <td>0</td>\n",
       "      <td>northwest</td>\n",
       "      <td>3866.85520</td>\n",
       "    </tr>\n",
       "  </tbody>\n",
       "</table>\n",
       "</div>"
      ],
      "text/plain": [
       "   age  gender     bmi  children  smoker     region      charges\n",
       "0   19       1  27.900         0       1  southwest  16884.92400\n",
       "1   18       0  33.770         1       0  southeast   1725.55230\n",
       "2   28       0  33.000         3       0  southeast   4449.46200\n",
       "3   33       0  22.705         0       0  northwest  21984.47061\n",
       "4   32       0  28.880         0       0  northwest   3866.85520"
      ]
     },
     "execution_count": 29,
     "metadata": {},
     "output_type": "execute_result"
    }
   ],
   "source": [
    "cleaned_data.head()"
   ]
  },
  {
   "cell_type": "code",
   "execution_count": 30,
   "id": "851b3138",
   "metadata": {},
   "outputs": [
    {
     "data": {
      "application/vnd.microsoft.datawrangler.viewer.v0+json": {
       "columns": [
        {
         "name": "region",
         "rawType": "object",
         "type": "string"
        },
        {
         "name": "count",
         "rawType": "int64",
         "type": "integer"
        }
       ],
       "ref": "4d834ee6-bfeb-41a5-87e9-0d5f2516152c",
       "rows": [
        [
         "southeast",
         "364"
        ],
        [
         "southwest",
         "325"
        ],
        [
         "northwest",
         "324"
        ],
        [
         "northeast",
         "324"
        ]
       ],
       "shape": {
        "columns": 1,
        "rows": 4
       }
      },
      "text/plain": [
       "region\n",
       "southeast    364\n",
       "southwest    325\n",
       "northwest    324\n",
       "northeast    324\n",
       "Name: count, dtype: int64"
      ]
     },
     "execution_count": 30,
     "metadata": {},
     "output_type": "execute_result"
    }
   ],
   "source": [
    "cleaned_data['region'].value_counts()"
   ]
  },
  {
   "cell_type": "code",
   "execution_count": 31,
   "id": "864b9487",
   "metadata": {},
   "outputs": [],
   "source": [
    "#Applying One-Hot Encoding ---> making new columns for each category\n",
    "cleaned_data = pd.get_dummies(cleaned_data,columns=['region'], drop_first=True)"
   ]
  },
  {
   "cell_type": "code",
   "execution_count": 32,
   "id": "7aaaecb1",
   "metadata": {},
   "outputs": [
    {
     "data": {
      "application/vnd.microsoft.datawrangler.viewer.v0+json": {
       "columns": [
        {
         "name": "index",
         "rawType": "int64",
         "type": "integer"
        },
        {
         "name": "age",
         "rawType": "int64",
         "type": "integer"
        },
        {
         "name": "gender",
         "rawType": "int64",
         "type": "integer"
        },
        {
         "name": "bmi",
         "rawType": "float64",
         "type": "float"
        },
        {
         "name": "children",
         "rawType": "int64",
         "type": "integer"
        },
        {
         "name": "smoker",
         "rawType": "int64",
         "type": "integer"
        },
        {
         "name": "charges",
         "rawType": "float64",
         "type": "float"
        },
        {
         "name": "region_northwest",
         "rawType": "bool",
         "type": "boolean"
        },
        {
         "name": "region_southeast",
         "rawType": "bool",
         "type": "boolean"
        },
        {
         "name": "region_southwest",
         "rawType": "bool",
         "type": "boolean"
        }
       ],
       "ref": "1484029e-7efa-4f28-b5de-57dfb6926a53",
       "rows": [
        [
         "0",
         "19",
         "1",
         "27.9",
         "0",
         "1",
         "16884.924",
         "False",
         "False",
         "True"
        ],
        [
         "1",
         "18",
         "0",
         "33.77",
         "1",
         "0",
         "1725.5523",
         "False",
         "True",
         "False"
        ],
        [
         "2",
         "28",
         "0",
         "33.0",
         "3",
         "0",
         "4449.462",
         "False",
         "True",
         "False"
        ],
        [
         "3",
         "33",
         "0",
         "22.705",
         "0",
         "0",
         "21984.47061",
         "True",
         "False",
         "False"
        ],
        [
         "4",
         "32",
         "0",
         "28.88",
         "0",
         "0",
         "3866.8552",
         "True",
         "False",
         "False"
        ]
       ],
       "shape": {
        "columns": 9,
        "rows": 5
       }
      },
      "text/html": [
       "<div>\n",
       "<style scoped>\n",
       "    .dataframe tbody tr th:only-of-type {\n",
       "        vertical-align: middle;\n",
       "    }\n",
       "\n",
       "    .dataframe tbody tr th {\n",
       "        vertical-align: top;\n",
       "    }\n",
       "\n",
       "    .dataframe thead th {\n",
       "        text-align: right;\n",
       "    }\n",
       "</style>\n",
       "<table border=\"1\" class=\"dataframe\">\n",
       "  <thead>\n",
       "    <tr style=\"text-align: right;\">\n",
       "      <th></th>\n",
       "      <th>age</th>\n",
       "      <th>gender</th>\n",
       "      <th>bmi</th>\n",
       "      <th>children</th>\n",
       "      <th>smoker</th>\n",
       "      <th>charges</th>\n",
       "      <th>region_northwest</th>\n",
       "      <th>region_southeast</th>\n",
       "      <th>region_southwest</th>\n",
       "    </tr>\n",
       "  </thead>\n",
       "  <tbody>\n",
       "    <tr>\n",
       "      <th>0</th>\n",
       "      <td>19</td>\n",
       "      <td>1</td>\n",
       "      <td>27.900</td>\n",
       "      <td>0</td>\n",
       "      <td>1</td>\n",
       "      <td>16884.92400</td>\n",
       "      <td>False</td>\n",
       "      <td>False</td>\n",
       "      <td>True</td>\n",
       "    </tr>\n",
       "    <tr>\n",
       "      <th>1</th>\n",
       "      <td>18</td>\n",
       "      <td>0</td>\n",
       "      <td>33.770</td>\n",
       "      <td>1</td>\n",
       "      <td>0</td>\n",
       "      <td>1725.55230</td>\n",
       "      <td>False</td>\n",
       "      <td>True</td>\n",
       "      <td>False</td>\n",
       "    </tr>\n",
       "    <tr>\n",
       "      <th>2</th>\n",
       "      <td>28</td>\n",
       "      <td>0</td>\n",
       "      <td>33.000</td>\n",
       "      <td>3</td>\n",
       "      <td>0</td>\n",
       "      <td>4449.46200</td>\n",
       "      <td>False</td>\n",
       "      <td>True</td>\n",
       "      <td>False</td>\n",
       "    </tr>\n",
       "    <tr>\n",
       "      <th>3</th>\n",
       "      <td>33</td>\n",
       "      <td>0</td>\n",
       "      <td>22.705</td>\n",
       "      <td>0</td>\n",
       "      <td>0</td>\n",
       "      <td>21984.47061</td>\n",
       "      <td>True</td>\n",
       "      <td>False</td>\n",
       "      <td>False</td>\n",
       "    </tr>\n",
       "    <tr>\n",
       "      <th>4</th>\n",
       "      <td>32</td>\n",
       "      <td>0</td>\n",
       "      <td>28.880</td>\n",
       "      <td>0</td>\n",
       "      <td>0</td>\n",
       "      <td>3866.85520</td>\n",
       "      <td>True</td>\n",
       "      <td>False</td>\n",
       "      <td>False</td>\n",
       "    </tr>\n",
       "  </tbody>\n",
       "</table>\n",
       "</div>"
      ],
      "text/plain": [
       "   age  gender     bmi  children  smoker      charges  region_northwest  \\\n",
       "0   19       1  27.900         0       1  16884.92400             False   \n",
       "1   18       0  33.770         1       0   1725.55230             False   \n",
       "2   28       0  33.000         3       0   4449.46200             False   \n",
       "3   33       0  22.705         0       0  21984.47061              True   \n",
       "4   32       0  28.880         0       0   3866.85520              True   \n",
       "\n",
       "   region_southeast  region_southwest  \n",
       "0             False              True  \n",
       "1              True             False  \n",
       "2              True             False  \n",
       "3             False             False  \n",
       "4             False             False  "
      ]
     },
     "execution_count": 32,
     "metadata": {},
     "output_type": "execute_result"
    }
   ],
   "source": [
    "cleaned_data.head()"
   ]
  },
  {
   "cell_type": "code",
   "execution_count": 33,
   "id": "972dad79",
   "metadata": {},
   "outputs": [
    {
     "data": {
      "application/vnd.microsoft.datawrangler.viewer.v0+json": {
       "columns": [
        {
         "name": "index",
         "rawType": "int64",
         "type": "integer"
        },
        {
         "name": "age",
         "rawType": "int64",
         "type": "integer"
        },
        {
         "name": "gender",
         "rawType": "int64",
         "type": "integer"
        },
        {
         "name": "bmi",
         "rawType": "int64",
         "type": "integer"
        },
        {
         "name": "children",
         "rawType": "int64",
         "type": "integer"
        },
        {
         "name": "smoker",
         "rawType": "int64",
         "type": "integer"
        },
        {
         "name": "charges",
         "rawType": "int64",
         "type": "integer"
        },
        {
         "name": "region_northwest",
         "rawType": "int64",
         "type": "integer"
        },
        {
         "name": "region_southeast",
         "rawType": "int64",
         "type": "integer"
        },
        {
         "name": "region_southwest",
         "rawType": "int64",
         "type": "integer"
        }
       ],
       "ref": "6aeda412-aab6-449d-b21e-9e3cce851cd1",
       "rows": [
        [
         "0",
         "19",
         "1",
         "27",
         "0",
         "1",
         "16884",
         "0",
         "0",
         "1"
        ],
        [
         "1",
         "18",
         "0",
         "33",
         "1",
         "0",
         "1725",
         "0",
         "1",
         "0"
        ],
        [
         "2",
         "28",
         "0",
         "33",
         "3",
         "0",
         "4449",
         "0",
         "1",
         "0"
        ],
        [
         "3",
         "33",
         "0",
         "22",
         "0",
         "0",
         "21984",
         "1",
         "0",
         "0"
        ],
        [
         "4",
         "32",
         "0",
         "28",
         "0",
         "0",
         "3866",
         "1",
         "0",
         "0"
        ],
        [
         "5",
         "31",
         "1",
         "25",
         "0",
         "0",
         "3756",
         "0",
         "1",
         "0"
        ],
        [
         "6",
         "46",
         "1",
         "33",
         "1",
         "0",
         "8240",
         "0",
         "1",
         "0"
        ],
        [
         "7",
         "37",
         "1",
         "27",
         "3",
         "0",
         "7281",
         "1",
         "0",
         "0"
        ],
        [
         "8",
         "37",
         "0",
         "29",
         "2",
         "0",
         "6406",
         "0",
         "0",
         "0"
        ],
        [
         "9",
         "60",
         "1",
         "25",
         "0",
         "0",
         "28923",
         "1",
         "0",
         "0"
        ],
        [
         "10",
         "25",
         "0",
         "26",
         "0",
         "0",
         "2721",
         "0",
         "0",
         "0"
        ],
        [
         "11",
         "62",
         "1",
         "26",
         "0",
         "1",
         "27808",
         "0",
         "1",
         "0"
        ],
        [
         "12",
         "23",
         "0",
         "34",
         "0",
         "0",
         "1826",
         "0",
         "0",
         "1"
        ],
        [
         "13",
         "56",
         "1",
         "39",
         "0",
         "0",
         "11090",
         "0",
         "1",
         "0"
        ],
        [
         "14",
         "27",
         "0",
         "42",
         "0",
         "1",
         "39611",
         "0",
         "1",
         "0"
        ],
        [
         "15",
         "19",
         "0",
         "24",
         "1",
         "0",
         "1837",
         "0",
         "0",
         "1"
        ],
        [
         "16",
         "52",
         "1",
         "30",
         "1",
         "0",
         "10797",
         "0",
         "0",
         "0"
        ],
        [
         "17",
         "23",
         "0",
         "23",
         "0",
         "0",
         "2395",
         "0",
         "0",
         "0"
        ],
        [
         "18",
         "56",
         "0",
         "40",
         "0",
         "0",
         "10602",
         "0",
         "0",
         "1"
        ],
        [
         "19",
         "30",
         "0",
         "35",
         "0",
         "1",
         "36837",
         "0",
         "0",
         "1"
        ],
        [
         "20",
         "60",
         "1",
         "36",
         "0",
         "0",
         "13228",
         "0",
         "0",
         "0"
        ],
        [
         "21",
         "30",
         "1",
         "32",
         "1",
         "0",
         "4149",
         "0",
         "0",
         "1"
        ],
        [
         "22",
         "18",
         "0",
         "34",
         "0",
         "0",
         "1137",
         "0",
         "1",
         "0"
        ],
        [
         "23",
         "34",
         "1",
         "31",
         "1",
         "1",
         "37701",
         "0",
         "0",
         "0"
        ],
        [
         "24",
         "37",
         "0",
         "28",
         "2",
         "0",
         "6203",
         "1",
         "0",
         "0"
        ],
        [
         "25",
         "59",
         "1",
         "27",
         "3",
         "0",
         "14001",
         "0",
         "1",
         "0"
        ],
        [
         "26",
         "63",
         "1",
         "23",
         "0",
         "0",
         "14451",
         "0",
         "0",
         "0"
        ],
        [
         "27",
         "55",
         "1",
         "32",
         "2",
         "0",
         "12268",
         "1",
         "0",
         "0"
        ],
        [
         "28",
         "23",
         "0",
         "17",
         "1",
         "0",
         "2775",
         "1",
         "0",
         "0"
        ],
        [
         "29",
         "31",
         "0",
         "36",
         "2",
         "1",
         "38711",
         "0",
         "0",
         "1"
        ],
        [
         "30",
         "22",
         "0",
         "35",
         "0",
         "1",
         "35585",
         "0",
         "0",
         "1"
        ],
        [
         "31",
         "18",
         "1",
         "26",
         "0",
         "0",
         "2198",
         "0",
         "0",
         "0"
        ],
        [
         "32",
         "19",
         "1",
         "28",
         "5",
         "0",
         "4687",
         "0",
         "0",
         "1"
        ],
        [
         "33",
         "63",
         "0",
         "28",
         "0",
         "0",
         "13770",
         "1",
         "0",
         "0"
        ],
        [
         "34",
         "28",
         "0",
         "36",
         "1",
         "1",
         "51194",
         "0",
         "0",
         "1"
        ],
        [
         "35",
         "19",
         "0",
         "20",
         "0",
         "0",
         "1625",
         "1",
         "0",
         "0"
        ],
        [
         "36",
         "62",
         "1",
         "32",
         "3",
         "0",
         "15612",
         "1",
         "0",
         "0"
        ],
        [
         "37",
         "26",
         "0",
         "20",
         "0",
         "0",
         "2302",
         "0",
         "0",
         "1"
        ],
        [
         "38",
         "35",
         "0",
         "36",
         "1",
         "1",
         "39774",
         "0",
         "0",
         "0"
        ],
        [
         "39",
         "60",
         "0",
         "39",
         "0",
         "1",
         "48173",
         "0",
         "0",
         "1"
        ],
        [
         "40",
         "24",
         "1",
         "26",
         "0",
         "0",
         "3046",
         "0",
         "0",
         "0"
        ],
        [
         "41",
         "31",
         "1",
         "36",
         "2",
         "0",
         "4949",
         "0",
         "1",
         "0"
        ],
        [
         "42",
         "41",
         "0",
         "21",
         "1",
         "0",
         "6272",
         "0",
         "1",
         "0"
        ],
        [
         "43",
         "37",
         "1",
         "30",
         "2",
         "0",
         "6313",
         "0",
         "1",
         "0"
        ],
        [
         "44",
         "38",
         "0",
         "37",
         "1",
         "0",
         "6079",
         "0",
         "0",
         "0"
        ],
        [
         "45",
         "55",
         "0",
         "37",
         "0",
         "0",
         "20630",
         "0",
         "0",
         "1"
        ],
        [
         "46",
         "18",
         "1",
         "38",
         "2",
         "0",
         "3393",
         "0",
         "0",
         "0"
        ],
        [
         "47",
         "28",
         "1",
         "34",
         "0",
         "0",
         "3556",
         "1",
         "0",
         "0"
        ],
        [
         "48",
         "60",
         "1",
         "24",
         "0",
         "0",
         "12629",
         "0",
         "1",
         "0"
        ],
        [
         "49",
         "36",
         "0",
         "35",
         "1",
         "1",
         "38709",
         "0",
         "1",
         "0"
        ]
       ],
       "shape": {
        "columns": 9,
        "rows": 1337
       }
      },
      "text/html": [
       "<div>\n",
       "<style scoped>\n",
       "    .dataframe tbody tr th:only-of-type {\n",
       "        vertical-align: middle;\n",
       "    }\n",
       "\n",
       "    .dataframe tbody tr th {\n",
       "        vertical-align: top;\n",
       "    }\n",
       "\n",
       "    .dataframe thead th {\n",
       "        text-align: right;\n",
       "    }\n",
       "</style>\n",
       "<table border=\"1\" class=\"dataframe\">\n",
       "  <thead>\n",
       "    <tr style=\"text-align: right;\">\n",
       "      <th></th>\n",
       "      <th>age</th>\n",
       "      <th>gender</th>\n",
       "      <th>bmi</th>\n",
       "      <th>children</th>\n",
       "      <th>smoker</th>\n",
       "      <th>charges</th>\n",
       "      <th>region_northwest</th>\n",
       "      <th>region_southeast</th>\n",
       "      <th>region_southwest</th>\n",
       "    </tr>\n",
       "  </thead>\n",
       "  <tbody>\n",
       "    <tr>\n",
       "      <th>0</th>\n",
       "      <td>19</td>\n",
       "      <td>1</td>\n",
       "      <td>27</td>\n",
       "      <td>0</td>\n",
       "      <td>1</td>\n",
       "      <td>16884</td>\n",
       "      <td>0</td>\n",
       "      <td>0</td>\n",
       "      <td>1</td>\n",
       "    </tr>\n",
       "    <tr>\n",
       "      <th>1</th>\n",
       "      <td>18</td>\n",
       "      <td>0</td>\n",
       "      <td>33</td>\n",
       "      <td>1</td>\n",
       "      <td>0</td>\n",
       "      <td>1725</td>\n",
       "      <td>0</td>\n",
       "      <td>1</td>\n",
       "      <td>0</td>\n",
       "    </tr>\n",
       "    <tr>\n",
       "      <th>2</th>\n",
       "      <td>28</td>\n",
       "      <td>0</td>\n",
       "      <td>33</td>\n",
       "      <td>3</td>\n",
       "      <td>0</td>\n",
       "      <td>4449</td>\n",
       "      <td>0</td>\n",
       "      <td>1</td>\n",
       "      <td>0</td>\n",
       "    </tr>\n",
       "    <tr>\n",
       "      <th>3</th>\n",
       "      <td>33</td>\n",
       "      <td>0</td>\n",
       "      <td>22</td>\n",
       "      <td>0</td>\n",
       "      <td>0</td>\n",
       "      <td>21984</td>\n",
       "      <td>1</td>\n",
       "      <td>0</td>\n",
       "      <td>0</td>\n",
       "    </tr>\n",
       "    <tr>\n",
       "      <th>4</th>\n",
       "      <td>32</td>\n",
       "      <td>0</td>\n",
       "      <td>28</td>\n",
       "      <td>0</td>\n",
       "      <td>0</td>\n",
       "      <td>3866</td>\n",
       "      <td>1</td>\n",
       "      <td>0</td>\n",
       "      <td>0</td>\n",
       "    </tr>\n",
       "    <tr>\n",
       "      <th>...</th>\n",
       "      <td>...</td>\n",
       "      <td>...</td>\n",
       "      <td>...</td>\n",
       "      <td>...</td>\n",
       "      <td>...</td>\n",
       "      <td>...</td>\n",
       "      <td>...</td>\n",
       "      <td>...</td>\n",
       "      <td>...</td>\n",
       "    </tr>\n",
       "    <tr>\n",
       "      <th>1333</th>\n",
       "      <td>50</td>\n",
       "      <td>0</td>\n",
       "      <td>30</td>\n",
       "      <td>3</td>\n",
       "      <td>0</td>\n",
       "      <td>10600</td>\n",
       "      <td>1</td>\n",
       "      <td>0</td>\n",
       "      <td>0</td>\n",
       "    </tr>\n",
       "    <tr>\n",
       "      <th>1334</th>\n",
       "      <td>18</td>\n",
       "      <td>1</td>\n",
       "      <td>31</td>\n",
       "      <td>0</td>\n",
       "      <td>0</td>\n",
       "      <td>2205</td>\n",
       "      <td>0</td>\n",
       "      <td>0</td>\n",
       "      <td>0</td>\n",
       "    </tr>\n",
       "    <tr>\n",
       "      <th>1335</th>\n",
       "      <td>18</td>\n",
       "      <td>1</td>\n",
       "      <td>36</td>\n",
       "      <td>0</td>\n",
       "      <td>0</td>\n",
       "      <td>1629</td>\n",
       "      <td>0</td>\n",
       "      <td>1</td>\n",
       "      <td>0</td>\n",
       "    </tr>\n",
       "    <tr>\n",
       "      <th>1336</th>\n",
       "      <td>21</td>\n",
       "      <td>1</td>\n",
       "      <td>25</td>\n",
       "      <td>0</td>\n",
       "      <td>0</td>\n",
       "      <td>2007</td>\n",
       "      <td>0</td>\n",
       "      <td>0</td>\n",
       "      <td>1</td>\n",
       "    </tr>\n",
       "    <tr>\n",
       "      <th>1337</th>\n",
       "      <td>61</td>\n",
       "      <td>1</td>\n",
       "      <td>29</td>\n",
       "      <td>0</td>\n",
       "      <td>1</td>\n",
       "      <td>29141</td>\n",
       "      <td>1</td>\n",
       "      <td>0</td>\n",
       "      <td>0</td>\n",
       "    </tr>\n",
       "  </tbody>\n",
       "</table>\n",
       "<p>1337 rows × 9 columns</p>\n",
       "</div>"
      ],
      "text/plain": [
       "      age  gender  bmi  children  smoker  charges  region_northwest  \\\n",
       "0      19       1   27         0       1    16884                 0   \n",
       "1      18       0   33         1       0     1725                 0   \n",
       "2      28       0   33         3       0     4449                 0   \n",
       "3      33       0   22         0       0    21984                 1   \n",
       "4      32       0   28         0       0     3866                 1   \n",
       "...   ...     ...  ...       ...     ...      ...               ...   \n",
       "1333   50       0   30         3       0    10600                 1   \n",
       "1334   18       1   31         0       0     2205                 0   \n",
       "1335   18       1   36         0       0     1629                 0   \n",
       "1336   21       1   25         0       0     2007                 0   \n",
       "1337   61       1   29         0       1    29141                 1   \n",
       "\n",
       "      region_southeast  region_southwest  \n",
       "0                    0                 1  \n",
       "1                    1                 0  \n",
       "2                    1                 0  \n",
       "3                    0                 0  \n",
       "4                    0                 0  \n",
       "...                ...               ...  \n",
       "1333                 0                 0  \n",
       "1334                 0                 0  \n",
       "1335                 1                 0  \n",
       "1336                 0                 1  \n",
       "1337                 0                 0  \n",
       "\n",
       "[1337 rows x 9 columns]"
      ]
     },
     "execution_count": 33,
     "metadata": {},
     "output_type": "execute_result"
    }
   ],
   "source": [
    "cleaned_data = cleaned_data.astype(int)\n",
    "cleaned_data"
   ]
  },
  {
   "cell_type": "markdown",
   "id": "5716fc04",
   "metadata": {},
   "source": [
    "Feature Engineering and Extarction"
   ]
  },
  {
   "cell_type": "code",
   "execution_count": 34,
   "id": "cce76a4b",
   "metadata": {},
   "outputs": [
    {
     "data": {
      "text/plain": [
       "<Axes: xlabel='bmi', ylabel='Count'>"
      ]
     },
     "execution_count": 34,
     "metadata": {},
     "output_type": "execute_result"
    },
    {
     "data": {
      "image/png": "[encoded data removed]",
      "text/plain": [
       "<Figure size 640x480 with 1 Axes>"
      ]
     },
     "metadata": {},
     "output_type": "display_data"
    }
   ],
   "source": [
    "sns.histplot(data['bmi'])"
   ]
  },
  {
   "cell_type": "code",
   "execution_count": 35,
   "id": "ed8581f2",
   "metadata": {},
   "outputs": [],
   "source": [
    "#creating Category for BMI\n",
    "cleaned_data['bmi_category'] = pd.cut(\n",
    "    cleaned_data['bmi'], \n",
    "    bins=[0, 18.5, 24.9, 29.9, float('inf')],\n",
    "    labels=['Underweight', 'Normal', 'Overweight', 'Obese']\n",
    ")"
   ]
  },
  {
   "cell_type": "code",
   "execution_count": 36,
   "id": "49208b9b",
   "metadata": {},
   "outputs": [
    {
     "data": {
      "application/vnd.microsoft.datawrangler.viewer.v0+json": {
       "columns": [
        {
         "name": "index",
         "rawType": "int64",
         "type": "integer"
        },
        {
         "name": "age",
         "rawType": "int64",
         "type": "integer"
        },
        {
         "name": "gender",
         "rawType": "int64",
         "type": "integer"
        },
        {
         "name": "bmi",
         "rawType": "int64",
         "type": "integer"
        },
        {
         "name": "children",
         "rawType": "int64",
         "type": "integer"
        },
        {
         "name": "smoker",
         "rawType": "int64",
         "type": "integer"
        },
        {
         "name": "charges",
         "rawType": "int64",
         "type": "integer"
        },
        {
         "name": "region_northwest",
         "rawType": "int64",
         "type": "integer"
        },
        {
         "name": "region_southeast",
         "rawType": "int64",
         "type": "integer"
        },
        {
         "name": "region_southwest",
         "rawType": "int64",
         "type": "integer"
        },
        {
         "name": "bmi_category",
         "rawType": "category",
         "type": "unknown"
        }
       ],
       "ref": "a25173af-9c86-4a30-863b-f4c1a8719b17",
       "rows": [
        [
         "0",
         "19",
         "1",
         "27",
         "0",
         "1",
         "16884",
         "0",
         "0",
         "1",
         "Overweight"
        ],
        [
         "1",
         "18",
         "0",
         "33",
         "1",
         "0",
         "1725",
         "0",
         "1",
         "0",
         "Obese"
        ],
        [
         "2",
         "28",
         "0",
         "33",
         "3",
         "0",
         "4449",
         "0",
         "1",
         "0",
         "Obese"
        ],
        [
         "3",
         "33",
         "0",
         "22",
         "0",
         "0",
         "21984",
         "1",
         "0",
         "0",
         "Normal"
        ],
        [
         "4",
         "32",
         "0",
         "28",
         "0",
         "0",
         "3866",
         "1",
         "0",
         "0",
         "Overweight"
        ],
        [
         "5",
         "31",
         "1",
         "25",
         "0",
         "0",
         "3756",
         "0",
         "1",
         "0",
         "Overweight"
        ],
        [
         "6",
         "46",
         "1",
         "33",
         "1",
         "0",
         "8240",
         "0",
         "1",
         "0",
         "Obese"
        ],
        [
         "7",
         "37",
         "1",
         "27",
         "3",
         "0",
         "7281",
         "1",
         "0",
         "0",
         "Overweight"
        ],
        [
         "8",
         "37",
         "0",
         "29",
         "2",
         "0",
         "6406",
         "0",
         "0",
         "0",
         "Overweight"
        ],
        [
         "9",
         "60",
         "1",
         "25",
         "0",
         "0",
         "28923",
         "1",
         "0",
         "0",
         "Overweight"
        ],
        [
         "10",
         "25",
         "0",
         "26",
         "0",
         "0",
         "2721",
         "0",
         "0",
         "0",
         "Overweight"
        ],
        [
         "11",
         "62",
         "1",
         "26",
         "0",
         "1",
         "27808",
         "0",
         "1",
         "0",
         "Overweight"
        ],
        [
         "12",
         "23",
         "0",
         "34",
         "0",
         "0",
         "1826",
         "0",
         "0",
         "1",
         "Obese"
        ],
        [
         "13",
         "56",
         "1",
         "39",
         "0",
         "0",
         "11090",
         "0",
         "1",
         "0",
         "Obese"
        ],
        [
         "14",
         "27",
         "0",
         "42",
         "0",
         "1",
         "39611",
         "0",
         "1",
         "0",
         "Obese"
        ],
        [
         "15",
         "19",
         "0",
         "24",
         "1",
         "0",
         "1837",
         "0",
         "0",
         "1",
         "Normal"
        ],
        [
         "16",
         "52",
         "1",
         "30",
         "1",
         "0",
         "10797",
         "0",
         "0",
         "0",
         "Obese"
        ],
        [
         "17",
         "23",
         "0",
         "23",
         "0",
         "0",
         "2395",
         "0",
         "0",
         "0",
         "Normal"
        ],
        [
         "18",
         "56",
         "0",
         "40",
         "0",
         "0",
         "10602",
         "0",
         "0",
         "1",
         "Obese"
        ],
        [
         "19",
         "30",
         "0",
         "35",
         "0",
         "1",
         "36837",
         "0",
         "0",
         "1",
         "Obese"
        ],
        [
         "20",
         "60",
         "1",
         "36",
         "0",
         "0",
         "13228",
         "0",
         "0",
         "0",
         "Obese"
        ],
        [
         "21",
         "30",
         "1",
         "32",
         "1",
         "0",
         "4149",
         "0",
         "0",
         "1",
         "Obese"
        ],
        [
         "22",
         "18",
         "0",
         "34",
         "0",
         "0",
         "1137",
         "0",
         "1",
         "0",
         "Obese"
        ],
        [
         "23",
         "34",
         "1",
         "31",
         "1",
         "1",
         "37701",
         "0",
         "0",
         "0",
         "Obese"
        ],
        [
         "24",
         "37",
         "0",
         "28",
         "2",
         "0",
         "6203",
         "1",
         "0",
         "0",
         "Overweight"
        ],
        [
         "25",
         "59",
         "1",
         "27",
         "3",
         "0",
         "14001",
         "0",
         "1",
         "0",
         "Overweight"
        ],
        [
         "26",
         "63",
         "1",
         "23",
         "0",
         "0",
         "14451",
         "0",
         "0",
         "0",
         "Normal"
        ],
        [
         "27",
         "55",
         "1",
         "32",
         "2",
         "0",
         "12268",
         "1",
         "0",
         "0",
         "Obese"
        ],
        [
         "28",
         "23",
         "0",
         "17",
         "1",
         "0",
         "2775",
         "1",
         "0",
         "0",
         "Underweight"
        ],
        [
         "29",
         "31",
         "0",
         "36",
         "2",
         "1",
         "38711",
         "0",
         "0",
         "1",
         "Obese"
        ],
        [
         "30",
         "22",
         "0",
         "35",
         "0",
         "1",
         "35585",
         "0",
         "0",
         "1",
         "Obese"
        ],
        [
         "31",
         "18",
         "1",
         "26",
         "0",
         "0",
         "2198",
         "0",
         "0",
         "0",
         "Overweight"
        ],
        [
         "32",
         "19",
         "1",
         "28",
         "5",
         "0",
         "4687",
         "0",
         "0",
         "1",
         "Overweight"
        ],
        [
         "33",
         "63",
         "0",
         "28",
         "0",
         "0",
         "13770",
         "1",
         "0",
         "0",
         "Overweight"
        ],
        [
         "34",
         "28",
         "0",
         "36",
         "1",
         "1",
         "51194",
         "0",
         "0",
         "1",
         "Obese"
        ],
        [
         "35",
         "19",
         "0",
         "20",
         "0",
         "0",
         "1625",
         "1",
         "0",
         "0",
         "Normal"
        ],
        [
         "36",
         "62",
         "1",
         "32",
         "3",
         "0",
         "15612",
         "1",
         "0",
         "0",
         "Obese"
        ],
        [
         "37",
         "26",
         "0",
         "20",
         "0",
         "0",
         "2302",
         "0",
         "0",
         "1",
         "Normal"
        ],
        [
         "38",
         "35",
         "0",
         "36",
         "1",
         "1",
         "39774",
         "0",
         "0",
         "0",
         "Obese"
        ],
        [
         "39",
         "60",
         "0",
         "39",
         "0",
         "1",
         "48173",
         "0",
         "0",
         "1",
         "Obese"
        ],
        [
         "40",
         "24",
         "1",
         "26",
         "0",
         "0",
         "3046",
         "0",
         "0",
         "0",
         "Overweight"
        ],
        [
         "41",
         "31",
         "1",
         "36",
         "2",
         "0",
         "4949",
         "0",
         "1",
         "0",
         "Obese"
        ],
        [
         "42",
         "41",
         "0",
         "21",
         "1",
         "0",
         "6272",
         "0",
         "1",
         "0",
         "Normal"
        ],
        [
         "43",
         "37",
         "1",
         "30",
         "2",
         "0",
         "6313",
         "0",
         "1",
         "0",
         "Obese"
        ],
        [
         "44",
         "38",
         "0",
         "37",
         "1",
         "0",
         "6079",
         "0",
         "0",
         "0",
         "Obese"
        ],
        [
         "45",
         "55",
         "0",
         "37",
         "0",
         "0",
         "20630",
         "0",
         "0",
         "1",
         "Obese"
        ],
        [
         "46",
         "18",
         "1",
         "38",
         "2",
         "0",
         "3393",
         "0",
         "0",
         "0",
         "Obese"
        ],
        [
         "47",
         "28",
         "1",
         "34",
         "0",
         "0",
         "3556",
         "1",
         "0",
         "0",
         "Obese"
        ],
        [
         "48",
         "60",
         "1",
         "24",
         "0",
         "0",
         "12629",
         "0",
         "1",
         "0",
         "Normal"
        ],
        [
         "49",
         "36",
         "0",
         "35",
         "1",
         "1",
         "38709",
         "0",
         "1",
         "0",
         "Obese"
        ]
       ],
       "shape": {
        "columns": 10,
        "rows": 1337
       }
      },
      "text/html": [
       "<div>\n",
       "<style scoped>\n",
       "    .dataframe tbody tr th:only-of-type {\n",
       "        vertical-align: middle;\n",
       "    }\n",
       "\n",
       "    .dataframe tbody tr th {\n",
       "        vertical-align: top;\n",
       "    }\n",
       "\n",
       "    .dataframe thead th {\n",
       "        text-align: right;\n",
       "    }\n",
       "</style>\n",
       "<table border=\"1\" class=\"dataframe\">\n",
       "  <thead>\n",
       "    <tr style=\"text-align: right;\">\n",
       "      <th></th>\n",
       "      <th>age</th>\n",
       "      <th>gender</th>\n",
       "      <th>bmi</th>\n",
       "      <th>children</th>\n",
       "      <th>smoker</th>\n",
       "      <th>charges</th>\n",
       "      <th>region_northwest</th>\n",
       "      <th>region_southeast</th>\n",
       "      <th>region_southwest</th>\n",
       "      <th>bmi_category</th>\n",
       "    </tr>\n",
       "  </thead>\n",
       "  <tbody>\n",
       "    <tr>\n",
       "      <th>0</th>\n",
       "      <td>19</td>\n",
       "      <td>1</td>\n",
       "      <td>27</td>\n",
       "      <td>0</td>\n",
       "      <td>1</td>\n",
       "      <td>16884</td>\n",
       "      <td>0</td>\n",
       "      <td>0</td>\n",
       "      <td>1</td>\n",
       "      <td>Overweight</td>\n",
       "    </tr>\n",
       "    <tr>\n",
       "      <th>1</th>\n",
       "      <td>18</td>\n",
       "      <td>0</td>\n",
       "      <td>33</td>\n",
       "      <td>1</td>\n",
       "      <td>0</td>\n",
       "      <td>1725</td>\n",
       "      <td>0</td>\n",
       "      <td>1</td>\n",
       "      <td>0</td>\n",
       "      <td>Obese</td>\n",
       "    </tr>\n",
       "    <tr>\n",
       "      <th>2</th>\n",
       "      <td>28</td>\n",
       "      <td>0</td>\n",
       "      <td>33</td>\n",
       "      <td>3</td>\n",
       "      <td>0</td>\n",
       "      <td>4449</td>\n",
       "      <td>0</td>\n",
       "      <td>1</td>\n",
       "      <td>0</td>\n",
       "      <td>Obese</td>\n",
       "    </tr>\n",
       "    <tr>\n",
       "      <th>3</th>\n",
       "      <td>33</td>\n",
       "      <td>0</td>\n",
       "      <td>22</td>\n",
       "      <td>0</td>\n",
       "      <td>0</td>\n",
       "      <td>21984</td>\n",
       "      <td>1</td>\n",
       "      <td>0</td>\n",
       "      <td>0</td>\n",
       "      <td>Normal</td>\n",
       "    </tr>\n",
       "    <tr>\n",
       "      <th>4</th>\n",
       "      <td>32</td>\n",
       "      <td>0</td>\n",
       "      <td>28</td>\n",
       "      <td>0</td>\n",
       "      <td>0</td>\n",
       "      <td>3866</td>\n",
       "      <td>1</td>\n",
       "      <td>0</td>\n",
       "      <td>0</td>\n",
       "      <td>Overweight</td>\n",
       "    </tr>\n",
       "    <tr>\n",
       "      <th>...</th>\n",
       "      <td>...</td>\n",
       "      <td>...</td>\n",
       "      <td>...</td>\n",
       "      <td>...</td>\n",
       "      <td>...</td>\n",
       "      <td>...</td>\n",
       "      <td>...</td>\n",
       "      <td>...</td>\n",
       "      <td>...</td>\n",
       "      <td>...</td>\n",
       "    </tr>\n",
       "    <tr>\n",
       "      <th>1333</th>\n",
       "      <td>50</td>\n",
       "      <td>0</td>\n",
       "      <td>30</td>\n",
       "      <td>3</td>\n",
       "      <td>0</td>\n",
       "      <td>10600</td>\n",
       "      <td>1</td>\n",
       "      <td>0</td>\n",
       "      <td>0</td>\n",
       "      <td>Obese</td>\n",
       "    </tr>\n",
       "    <tr>\n",
       "      <th>1334</th>\n",
       "      <td>18</td>\n",
       "      <td>1</td>\n",
       "      <td>31</td>\n",
       "      <td>0</td>\n",
       "      <td>0</td>\n",
       "      <td>2205</td>\n",
       "      <td>0</td>\n",
       "      <td>0</td>\n",
       "      <td>0</td>\n",
       "      <td>Obese</td>\n",
       "    </tr>\n",
       "    <tr>\n",
       "      <th>1335</th>\n",
       "      <td>18</td>\n",
       "      <td>1</td>\n",
       "      <td>36</td>\n",
       "      <td>0</td>\n",
       "      <td>0</td>\n",
       "      <td>1629</td>\n",
       "      <td>0</td>\n",
       "      <td>1</td>\n",
       "      <td>0</td>\n",
       "      <td>Obese</td>\n",
       "    </tr>\n",
       "    <tr>\n",
       "      <th>1336</th>\n",
       "      <td>21</td>\n",
       "      <td>1</td>\n",
       "      <td>25</td>\n",
       "      <td>0</td>\n",
       "      <td>0</td>\n",
       "      <td>2007</td>\n",
       "      <td>0</td>\n",
       "      <td>0</td>\n",
       "      <td>1</td>\n",
       "      <td>Overweight</td>\n",
       "    </tr>\n",
       "    <tr>\n",
       "      <th>1337</th>\n",
       "      <td>61</td>\n",
       "      <td>1</td>\n",
       "      <td>29</td>\n",
       "      <td>0</td>\n",
       "      <td>1</td>\n",
       "      <td>29141</td>\n",
       "      <td>1</td>\n",
       "      <td>0</td>\n",
       "      <td>0</td>\n",
       "      <td>Overweight</td>\n",
       "    </tr>\n",
       "  </tbody>\n",
       "</table>\n",
       "<p>1337 rows × 10 columns</p>\n",
       "</div>"
      ],
      "text/plain": [
       "      age  gender  bmi  children  smoker  charges  region_northwest  \\\n",
       "0      19       1   27         0       1    16884                 0   \n",
       "1      18       0   33         1       0     1725                 0   \n",
       "2      28       0   33         3       0     4449                 0   \n",
       "3      33       0   22         0       0    21984                 1   \n",
       "4      32       0   28         0       0     3866                 1   \n",
       "...   ...     ...  ...       ...     ...      ...               ...   \n",
       "1333   50       0   30         3       0    10600                 1   \n",
       "1334   18       1   31         0       0     2205                 0   \n",
       "1335   18       1   36         0       0     1629                 0   \n",
       "1336   21       1   25         0       0     2007                 0   \n",
       "1337   61       1   29         0       1    29141                 1   \n",
       "\n",
       "      region_southeast  region_southwest bmi_category  \n",
       "0                    0                 1   Overweight  \n",
       "1                    1                 0        Obese  \n",
       "2                    1                 0        Obese  \n",
       "3                    0                 0       Normal  \n",
       "4                    0                 0   Overweight  \n",
       "...                ...               ...          ...  \n",
       "1333                 0                 0        Obese  \n",
       "1334                 0                 0        Obese  \n",
       "1335                 1                 0        Obese  \n",
       "1336                 0                 1   Overweight  \n",
       "1337                 0                 0   Overweight  \n",
       "\n",
       "[1337 rows x 10 columns]"
      ]
     },
     "execution_count": 36,
     "metadata": {},
     "output_type": "execute_result"
    }
   ],
   "source": [
    "cleaned_data"
   ]
  },
  {
   "cell_type": "code",
   "execution_count": 37,
   "id": "ada89840",
   "metadata": {},
   "outputs": [],
   "source": [
    "#creating Category for Age\n",
    "cleaned_data['Age_category'] = pd.cut(\n",
    "    cleaned_data['age'], \n",
    "    bins=[0, 19, 39, 59, float('inf')],\n",
    "    labels=['teenager', 'Youngadult', 'middleage','Senioradult']\n",
    ")"
   ]
  },
  {
   "cell_type": "code",
   "execution_count": 38,
   "id": "cd6a5c94",
   "metadata": {},
   "outputs": [
    {
     "data": {
      "application/vnd.microsoft.datawrangler.viewer.v0+json": {
       "columns": [
        {
         "name": "index",
         "rawType": "int64",
         "type": "integer"
        },
        {
         "name": "age",
         "rawType": "int64",
         "type": "integer"
        },
        {
         "name": "gender",
         "rawType": "int64",
         "type": "integer"
        },
        {
         "name": "bmi",
         "rawType": "int64",
         "type": "integer"
        },
        {
         "name": "children",
         "rawType": "int64",
         "type": "integer"
        },
        {
         "name": "smoker",
         "rawType": "int64",
         "type": "integer"
        },
        {
         "name": "charges",
         "rawType": "int64",
         "type": "integer"
        },
        {
         "name": "region_northwest",
         "rawType": "int64",
         "type": "integer"
        },
        {
         "name": "region_southeast",
         "rawType": "int64",
         "type": "integer"
        },
        {
         "name": "region_southwest",
         "rawType": "int64",
         "type": "integer"
        },
        {
         "name": "bmi_category",
         "rawType": "category",
         "type": "unknown"
        },
        {
         "name": "Age_category",
         "rawType": "category",
         "type": "unknown"
        }
       ],
       "ref": "0941e18e-679c-4b00-bb46-aaacde87d4b1",
       "rows": [
        [
         "0",
         "19",
         "1",
         "27",
         "0",
         "1",
         "16884",
         "0",
         "0",
         "1",
         "Overweight",
         "teenager"
        ],
        [
         "1",
         "18",
         "0",
         "33",
         "1",
         "0",
         "1725",
         "0",
         "1",
         "0",
         "Obese",
         "teenager"
        ],
        [
         "2",
         "28",
         "0",
         "33",
         "3",
         "0",
         "4449",
         "0",
         "1",
         "0",
         "Obese",
         "Youngadult"
        ],
        [
         "3",
         "33",
         "0",
         "22",
         "0",
         "0",
         "21984",
         "1",
         "0",
         "0",
         "Normal",
         "Youngadult"
        ],
        [
         "4",
         "32",
         "0",
         "28",
         "0",
         "0",
         "3866",
         "1",
         "0",
         "0",
         "Overweight",
         "Youngadult"
        ],
        [
         "5",
         "31",
         "1",
         "25",
         "0",
         "0",
         "3756",
         "0",
         "1",
         "0",
         "Overweight",
         "Youngadult"
        ],
        [
         "6",
         "46",
         "1",
         "33",
         "1",
         "0",
         "8240",
         "0",
         "1",
         "0",
         "Obese",
         "middleage"
        ],
        [
         "7",
         "37",
         "1",
         "27",
         "3",
         "0",
         "7281",
         "1",
         "0",
         "0",
         "Overweight",
         "Youngadult"
        ],
        [
         "8",
         "37",
         "0",
         "29",
         "2",
         "0",
         "6406",
         "0",
         "0",
         "0",
         "Overweight",
         "Youngadult"
        ],
        [
         "9",
         "60",
         "1",
         "25",
         "0",
         "0",
         "28923",
         "1",
         "0",
         "0",
         "Overweight",
         "Senioradult"
        ],
        [
         "10",
         "25",
         "0",
         "26",
         "0",
         "0",
         "2721",
         "0",
         "0",
         "0",
         "Overweight",
         "Youngadult"
        ],
        [
         "11",
         "62",
         "1",
         "26",
         "0",
         "1",
         "27808",
         "0",
         "1",
         "0",
         "Overweight",
         "Senioradult"
        ],
        [
         "12",
         "23",
         "0",
         "34",
         "0",
         "0",
         "1826",
         "0",
         "0",
         "1",
         "Obese",
         "Youngadult"
        ],
        [
         "13",
         "56",
         "1",
         "39",
         "0",
         "0",
         "11090",
         "0",
         "1",
         "0",
         "Obese",
         "middleage"
        ],
        [
         "14",
         "27",
         "0",
         "42",
         "0",
         "1",
         "39611",
         "0",
         "1",
         "0",
         "Obese",
         "Youngadult"
        ],
        [
         "15",
         "19",
         "0",
         "24",
         "1",
         "0",
         "1837",
         "0",
         "0",
         "1",
         "Normal",
         "teenager"
        ],
        [
         "16",
         "52",
         "1",
         "30",
         "1",
         "0",
         "10797",
         "0",
         "0",
         "0",
         "Obese",
         "middleage"
        ],
        [
         "17",
         "23",
         "0",
         "23",
         "0",
         "0",
         "2395",
         "0",
         "0",
         "0",
         "Normal",
         "Youngadult"
        ],
        [
         "18",
         "56",
         "0",
         "40",
         "0",
         "0",
         "10602",
         "0",
         "0",
         "1",
         "Obese",
         "middleage"
        ],
        [
         "19",
         "30",
         "0",
         "35",
         "0",
         "1",
         "36837",
         "0",
         "0",
         "1",
         "Obese",
         "Youngadult"
        ],
        [
         "20",
         "60",
         "1",
         "36",
         "0",
         "0",
         "13228",
         "0",
         "0",
         "0",
         "Obese",
         "Senioradult"
        ],
        [
         "21",
         "30",
         "1",
         "32",
         "1",
         "0",
         "4149",
         "0",
         "0",
         "1",
         "Obese",
         "Youngadult"
        ],
        [
         "22",
         "18",
         "0",
         "34",
         "0",
         "0",
         "1137",
         "0",
         "1",
         "0",
         "Obese",
         "teenager"
        ],
        [
         "23",
         "34",
         "1",
         "31",
         "1",
         "1",
         "37701",
         "0",
         "0",
         "0",
         "Obese",
         "Youngadult"
        ],
        [
         "24",
         "37",
         "0",
         "28",
         "2",
         "0",
         "6203",
         "1",
         "0",
         "0",
         "Overweight",
         "Youngadult"
        ],
        [
         "25",
         "59",
         "1",
         "27",
         "3",
         "0",
         "14001",
         "0",
         "1",
         "0",
         "Overweight",
         "middleage"
        ],
        [
         "26",
         "63",
         "1",
         "23",
         "0",
         "0",
         "14451",
         "0",
         "0",
         "0",
         "Normal",
         "Senioradult"
        ],
        [
         "27",
         "55",
         "1",
         "32",
         "2",
         "0",
         "12268",
         "1",
         "0",
         "0",
         "Obese",
         "middleage"
        ],
        [
         "28",
         "23",
         "0",
         "17",
         "1",
         "0",
         "2775",
         "1",
         "0",
         "0",
         "Underweight",
         "Youngadult"
        ],
        [
         "29",
         "31",
         "0",
         "36",
         "2",
         "1",
         "38711",
         "0",
         "0",
         "1",
         "Obese",
         "Youngadult"
        ],
        [
         "30",
         "22",
         "0",
         "35",
         "0",
         "1",
         "35585",
         "0",
         "0",
         "1",
         "Obese",
         "Youngadult"
        ],
        [
         "31",
         "18",
         "1",
         "26",
         "0",
         "0",
         "2198",
         "0",
         "0",
         "0",
         "Overweight",
         "teenager"
        ],
        [
         "32",
         "19",
         "1",
         "28",
         "5",
         "0",
         "4687",
         "0",
         "0",
         "1",
         "Overweight",
         "teenager"
        ],
        [
         "33",
         "63",
         "0",
         "28",
         "0",
         "0",
         "13770",
         "1",
         "0",
         "0",
         "Overweight",
         "Senioradult"
        ],
        [
         "34",
         "28",
         "0",
         "36",
         "1",
         "1",
         "51194",
         "0",
         "0",
         "1",
         "Obese",
         "Youngadult"
        ],
        [
         "35",
         "19",
         "0",
         "20",
         "0",
         "0",
         "1625",
         "1",
         "0",
         "0",
         "Normal",
         "teenager"
        ],
        [
         "36",
         "62",
         "1",
         "32",
         "3",
         "0",
         "15612",
         "1",
         "0",
         "0",
         "Obese",
         "Senioradult"
        ],
        [
         "37",
         "26",
         "0",
         "20",
         "0",
         "0",
         "2302",
         "0",
         "0",
         "1",
         "Normal",
         "Youngadult"
        ],
        [
         "38",
         "35",
         "0",
         "36",
         "1",
         "1",
         "39774",
         "0",
         "0",
         "0",
         "Obese",
         "Youngadult"
        ],
        [
         "39",
         "60",
         "0",
         "39",
         "0",
         "1",
         "48173",
         "0",
         "0",
         "1",
         "Obese",
         "Senioradult"
        ],
        [
         "40",
         "24",
         "1",
         "26",
         "0",
         "0",
         "3046",
         "0",
         "0",
         "0",
         "Overweight",
         "Youngadult"
        ],
        [
         "41",
         "31",
         "1",
         "36",
         "2",
         "0",
         "4949",
         "0",
         "1",
         "0",
         "Obese",
         "Youngadult"
        ],
        [
         "42",
         "41",
         "0",
         "21",
         "1",
         "0",
         "6272",
         "0",
         "1",
         "0",
         "Normal",
         "middleage"
        ],
        [
         "43",
         "37",
         "1",
         "30",
         "2",
         "0",
         "6313",
         "0",
         "1",
         "0",
         "Obese",
         "Youngadult"
        ],
        [
         "44",
         "38",
         "0",
         "37",
         "1",
         "0",
         "6079",
         "0",
         "0",
         "0",
         "Obese",
         "Youngadult"
        ],
        [
         "45",
         "55",
         "0",
         "37",
         "0",
         "0",
         "20630",
         "0",
         "0",
         "1",
         "Obese",
         "middleage"
        ],
        [
         "46",
         "18",
         "1",
         "38",
         "2",
         "0",
         "3393",
         "0",
         "0",
         "0",
         "Obese",
         "teenager"
        ],
        [
         "47",
         "28",
         "1",
         "34",
         "0",
         "0",
         "3556",
         "1",
         "0",
         "0",
         "Obese",
         "Youngadult"
        ],
        [
         "48",
         "60",
         "1",
         "24",
         "0",
         "0",
         "12629",
         "0",
         "1",
         "0",
         "Normal",
         "Senioradult"
        ],
        [
         "49",
         "36",
         "0",
         "35",
         "1",
         "1",
         "38709",
         "0",
         "1",
         "0",
         "Obese",
         "Youngadult"
        ]
       ],
       "shape": {
        "columns": 11,
        "rows": 1337
       }
      },
      "text/html": [
       "<div>\n",
       "<style scoped>\n",
       "    .dataframe tbody tr th:only-of-type {\n",
       "        vertical-align: middle;\n",
       "    }\n",
       "\n",
       "    .dataframe tbody tr th {\n",
       "        vertical-align: top;\n",
       "    }\n",
       "\n",
       "    .dataframe thead th {\n",
       "        text-align: right;\n",
       "    }\n",
       "</style>\n",
       "<table border=\"1\" class=\"dataframe\">\n",
       "  <thead>\n",
       "    <tr style=\"text-align: right;\">\n",
       "      <th></th>\n",
       "      <th>age</th>\n",
       "      <th>gender</th>\n",
       "      <th>bmi</th>\n",
       "      <th>children</th>\n",
       "      <th>smoker</th>\n",
       "      <th>charges</th>\n",
       "      <th>region_northwest</th>\n",
       "      <th>region_southeast</th>\n",
       "      <th>region_southwest</th>\n",
       "      <th>bmi_category</th>\n",
       "      <th>Age_category</th>\n",
       "    </tr>\n",
       "  </thead>\n",
       "  <tbody>\n",
       "    <tr>\n",
       "      <th>0</th>\n",
       "      <td>19</td>\n",
       "      <td>1</td>\n",
       "      <td>27</td>\n",
       "      <td>0</td>\n",
       "      <td>1</td>\n",
       "      <td>16884</td>\n",
       "      <td>0</td>\n",
       "      <td>0</td>\n",
       "      <td>1</td>\n",
       "      <td>Overweight</td>\n",
       "      <td>teenager</td>\n",
       "    </tr>\n",
       "    <tr>\n",
       "      <th>1</th>\n",
       "      <td>18</td>\n",
       "      <td>0</td>\n",
       "      <td>33</td>\n",
       "      <td>1</td>\n",
       "      <td>0</td>\n",
       "      <td>1725</td>\n",
       "      <td>0</td>\n",
       "      <td>1</td>\n",
       "      <td>0</td>\n",
       "      <td>Obese</td>\n",
       "      <td>teenager</td>\n",
       "    </tr>\n",
       "    <tr>\n",
       "      <th>2</th>\n",
       "      <td>28</td>\n",
       "      <td>0</td>\n",
       "      <td>33</td>\n",
       "      <td>3</td>\n",
       "      <td>0</td>\n",
       "      <td>4449</td>\n",
       "      <td>0</td>\n",
       "      <td>1</td>\n",
       "      <td>0</td>\n",
       "      <td>Obese</td>\n",
       "      <td>Youngadult</td>\n",
       "    </tr>\n",
       "    <tr>\n",
       "      <th>3</th>\n",
       "      <td>33</td>\n",
       "      <td>0</td>\n",
       "      <td>22</td>\n",
       "      <td>0</td>\n",
       "      <td>0</td>\n",
       "      <td>21984</td>\n",
       "      <td>1</td>\n",
       "      <td>0</td>\n",
       "      <td>0</td>\n",
       "      <td>Normal</td>\n",
       "      <td>Youngadult</td>\n",
       "    </tr>\n",
       "    <tr>\n",
       "      <th>4</th>\n",
       "      <td>32</td>\n",
       "      <td>0</td>\n",
       "      <td>28</td>\n",
       "      <td>0</td>\n",
       "      <td>0</td>\n",
       "      <td>3866</td>\n",
       "      <td>1</td>\n",
       "      <td>0</td>\n",
       "      <td>0</td>\n",
       "      <td>Overweight</td>\n",
       "      <td>Youngadult</td>\n",
       "    </tr>\n",
       "    <tr>\n",
       "      <th>...</th>\n",
       "      <td>...</td>\n",
       "      <td>...</td>\n",
       "      <td>...</td>\n",
       "      <td>...</td>\n",
       "      <td>...</td>\n",
       "      <td>...</td>\n",
       "      <td>...</td>\n",
       "      <td>...</td>\n",
       "      <td>...</td>\n",
       "      <td>...</td>\n",
       "      <td>...</td>\n",
       "    </tr>\n",
       "    <tr>\n",
       "      <th>1333</th>\n",
       "      <td>50</td>\n",
       "      <td>0</td>\n",
       "      <td>30</td>\n",
       "      <td>3</td>\n",
       "      <td>0</td>\n",
       "      <td>10600</td>\n",
       "      <td>1</td>\n",
       "      <td>0</td>\n",
       "      <td>0</td>\n",
       "      <td>Obese</td>\n",
       "      <td>middleage</td>\n",
       "    </tr>\n",
       "    <tr>\n",
       "      <th>1334</th>\n",
       "      <td>18</td>\n",
       "      <td>1</td>\n",
       "      <td>31</td>\n",
       "      <td>0</td>\n",
       "      <td>0</td>\n",
       "      <td>2205</td>\n",
       "      <td>0</td>\n",
       "      <td>0</td>\n",
       "      <td>0</td>\n",
       "      <td>Obese</td>\n",
       "      <td>teenager</td>\n",
       "    </tr>\n",
       "    <tr>\n",
       "      <th>1335</th>\n",
       "      <td>18</td>\n",
       "      <td>1</td>\n",
       "      <td>36</td>\n",
       "      <td>0</td>\n",
       "      <td>0</td>\n",
       "      <td>1629</td>\n",
       "      <td>0</td>\n",
       "      <td>1</td>\n",
       "      <td>0</td>\n",
       "      <td>Obese</td>\n",
       "      <td>teenager</td>\n",
       "    </tr>\n",
       "    <tr>\n",
       "      <th>1336</th>\n",
       "      <td>21</td>\n",
       "      <td>1</td>\n",
       "      <td>25</td>\n",
       "      <td>0</td>\n",
       "      <td>0</td>\n",
       "      <td>2007</td>\n",
       "      <td>0</td>\n",
       "      <td>0</td>\n",
       "      <td>1</td>\n",
       "      <td>Overweight</td>\n",
       "      <td>Youngadult</td>\n",
       "    </tr>\n",
       "    <tr>\n",
       "      <th>1337</th>\n",
       "      <td>61</td>\n",
       "      <td>1</td>\n",
       "      <td>29</td>\n",
       "      <td>0</td>\n",
       "      <td>1</td>\n",
       "      <td>29141</td>\n",
       "      <td>1</td>\n",
       "      <td>0</td>\n",
       "      <td>0</td>\n",
       "      <td>Overweight</td>\n",
       "      <td>Senioradult</td>\n",
       "    </tr>\n",
       "  </tbody>\n",
       "</table>\n",
       "<p>1337 rows × 11 columns</p>\n",
       "</div>"
      ],
      "text/plain": [
       "      age  gender  bmi  children  smoker  charges  region_northwest  \\\n",
       "0      19       1   27         0       1    16884                 0   \n",
       "1      18       0   33         1       0     1725                 0   \n",
       "2      28       0   33         3       0     4449                 0   \n",
       "3      33       0   22         0       0    21984                 1   \n",
       "4      32       0   28         0       0     3866                 1   \n",
       "...   ...     ...  ...       ...     ...      ...               ...   \n",
       "1333   50       0   30         3       0    10600                 1   \n",
       "1334   18       1   31         0       0     2205                 0   \n",
       "1335   18       1   36         0       0     1629                 0   \n",
       "1336   21       1   25         0       0     2007                 0   \n",
       "1337   61       1   29         0       1    29141                 1   \n",
       "\n",
       "      region_southeast  region_southwest bmi_category Age_category  \n",
       "0                    0                 1   Overweight     teenager  \n",
       "1                    1                 0        Obese     teenager  \n",
       "2                    1                 0        Obese   Youngadult  \n",
       "3                    0                 0       Normal   Youngadult  \n",
       "4                    0                 0   Overweight   Youngadult  \n",
       "...                ...               ...          ...          ...  \n",
       "1333                 0                 0        Obese    middleage  \n",
       "1334                 0                 0        Obese     teenager  \n",
       "1335                 1                 0        Obese     teenager  \n",
       "1336                 0                 1   Overweight   Youngadult  \n",
       "1337                 0                 0   Overweight  Senioradult  \n",
       "\n",
       "[1337 rows x 11 columns]"
      ]
     },
     "execution_count": 38,
     "metadata": {},
     "output_type": "execute_result"
    }
   ],
   "source": [
    "cleaned_data"
   ]
  },
  {
   "cell_type": "code",
   "execution_count": 39,
   "id": "a7f5da87",
   "metadata": {},
   "outputs": [],
   "source": [
    "cleaned_data = pd.get_dummies(cleaned_data,columns=['bmi_category'], drop_first=True)"
   ]
  },
  {
   "cell_type": "code",
   "execution_count": 40,
   "id": "eef0fe55",
   "metadata": {},
   "outputs": [],
   "source": [
    "cleaned_data = pd.get_dummies(cleaned_data,columns=['Age_category'], drop_first=True)"
   ]
  },
  {
   "cell_type": "code",
   "execution_count": 41,
   "id": "c7e56759",
   "metadata": {},
   "outputs": [
    {
     "data": {
      "application/vnd.microsoft.datawrangler.viewer.v0+json": {
       "columns": [
        {
         "name": "index",
         "rawType": "int64",
         "type": "integer"
        },
        {
         "name": "age",
         "rawType": "int64",
         "type": "integer"
        },
        {
         "name": "gender",
         "rawType": "int64",
         "type": "integer"
        },
        {
         "name": "bmi",
         "rawType": "int64",
         "type": "integer"
        },
        {
         "name": "children",
         "rawType": "int64",
         "type": "integer"
        },
        {
         "name": "smoker",
         "rawType": "int64",
         "type": "integer"
        },
        {
         "name": "charges",
         "rawType": "int64",
         "type": "integer"
        },
        {
         "name": "region_northwest",
         "rawType": "int64",
         "type": "integer"
        },
        {
         "name": "region_southeast",
         "rawType": "int64",
         "type": "integer"
        },
        {
         "name": "region_southwest",
         "rawType": "int64",
         "type": "integer"
        },
        {
         "name": "bmi_category_Normal",
         "rawType": "int64",
         "type": "integer"
        },
        {
         "name": "bmi_category_Overweight",
         "rawType": "int64",
         "type": "integer"
        },
        {
         "name": "bmi_category_Obese",
         "rawType": "int64",
         "type": "integer"
        },
        {
         "name": "Age_category_Youngadult",
         "rawType": "int64",
         "type": "integer"
        },
        {
         "name": "Age_category_middleage",
         "rawType": "int64",
         "type": "integer"
        },
        {
         "name": "Age_category_Senioradult",
         "rawType": "int64",
         "type": "integer"
        }
       ],
       "ref": "8c32cc1a-80ed-4257-b286-04a8e34352b6",
       "rows": [
        [
         "0",
         "19",
         "1",
         "27",
         "0",
         "1",
         "16884",
         "0",
         "0",
         "1",
         "0",
         "1",
         "0",
         "0",
         "0",
         "0"
        ],
        [
         "1",
         "18",
         "0",
         "33",
         "1",
         "0",
         "1725",
         "0",
         "1",
         "0",
         "0",
         "0",
         "1",
         "0",
         "0",
         "0"
        ],
        [
         "2",
         "28",
         "0",
         "33",
         "3",
         "0",
         "4449",
         "0",
         "1",
         "0",
         "0",
         "0",
         "1",
         "1",
         "0",
         "0"
        ],
        [
         "3",
         "33",
         "0",
         "22",
         "0",
         "0",
         "21984",
         "1",
         "0",
         "0",
         "1",
         "0",
         "0",
         "1",
         "0",
         "0"
        ],
        [
         "4",
         "32",
         "0",
         "28",
         "0",
         "0",
         "3866",
         "1",
         "0",
         "0",
         "0",
         "1",
         "0",
         "1",
         "0",
         "0"
        ],
        [
         "5",
         "31",
         "1",
         "25",
         "0",
         "0",
         "3756",
         "0",
         "1",
         "0",
         "0",
         "1",
         "0",
         "1",
         "0",
         "0"
        ],
        [
         "6",
         "46",
         "1",
         "33",
         "1",
         "0",
         "8240",
         "0",
         "1",
         "0",
         "0",
         "0",
         "1",
         "0",
         "1",
         "0"
        ],
        [
         "7",
         "37",
         "1",
         "27",
         "3",
         "0",
         "7281",
         "1",
         "0",
         "0",
         "0",
         "1",
         "0",
         "1",
         "0",
         "0"
        ],
        [
         "8",
         "37",
         "0",
         "29",
         "2",
         "0",
         "6406",
         "0",
         "0",
         "0",
         "0",
         "1",
         "0",
         "1",
         "0",
         "0"
        ],
        [
         "9",
         "60",
         "1",
         "25",
         "0",
         "0",
         "28923",
         "1",
         "0",
         "0",
         "0",
         "1",
         "0",
         "0",
         "0",
         "1"
        ],
        [
         "10",
         "25",
         "0",
         "26",
         "0",
         "0",
         "2721",
         "0",
         "0",
         "0",
         "0",
         "1",
         "0",
         "1",
         "0",
         "0"
        ],
        [
         "11",
         "62",
         "1",
         "26",
         "0",
         "1",
         "27808",
         "0",
         "1",
         "0",
         "0",
         "1",
         "0",
         "0",
         "0",
         "1"
        ],
        [
         "12",
         "23",
         "0",
         "34",
         "0",
         "0",
         "1826",
         "0",
         "0",
         "1",
         "0",
         "0",
         "1",
         "1",
         "0",
         "0"
        ],
        [
         "13",
         "56",
         "1",
         "39",
         "0",
         "0",
         "11090",
         "0",
         "1",
         "0",
         "0",
         "0",
         "1",
         "0",
         "1",
         "0"
        ],
        [
         "14",
         "27",
         "0",
         "42",
         "0",
         "1",
         "39611",
         "0",
         "1",
         "0",
         "0",
         "0",
         "1",
         "1",
         "0",
         "0"
        ],
        [
         "15",
         "19",
         "0",
         "24",
         "1",
         "0",
         "1837",
         "0",
         "0",
         "1",
         "1",
         "0",
         "0",
         "0",
         "0",
         "0"
        ],
        [
         "16",
         "52",
         "1",
         "30",
         "1",
         "0",
         "10797",
         "0",
         "0",
         "0",
         "0",
         "0",
         "1",
         "0",
         "1",
         "0"
        ],
        [
         "17",
         "23",
         "0",
         "23",
         "0",
         "0",
         "2395",
         "0",
         "0",
         "0",
         "1",
         "0",
         "0",
         "1",
         "0",
         "0"
        ],
        [
         "18",
         "56",
         "0",
         "40",
         "0",
         "0",
         "10602",
         "0",
         "0",
         "1",
         "0",
         "0",
         "1",
         "0",
         "1",
         "0"
        ],
        [
         "19",
         "30",
         "0",
         "35",
         "0",
         "1",
         "36837",
         "0",
         "0",
         "1",
         "0",
         "0",
         "1",
         "1",
         "0",
         "0"
        ],
        [
         "20",
         "60",
         "1",
         "36",
         "0",
         "0",
         "13228",
         "0",
         "0",
         "0",
         "0",
         "0",
         "1",
         "0",
         "0",
         "1"
        ],
        [
         "21",
         "30",
         "1",
         "32",
         "1",
         "0",
         "4149",
         "0",
         "0",
         "1",
         "0",
         "0",
         "1",
         "1",
         "0",
         "0"
        ],
        [
         "22",
         "18",
         "0",
         "34",
         "0",
         "0",
         "1137",
         "0",
         "1",
         "0",
         "0",
         "0",
         "1",
         "0",
         "0",
         "0"
        ],
        [
         "23",
         "34",
         "1",
         "31",
         "1",
         "1",
         "37701",
         "0",
         "0",
         "0",
         "0",
         "0",
         "1",
         "1",
         "0",
         "0"
        ],
        [
         "24",
         "37",
         "0",
         "28",
         "2",
         "0",
         "6203",
         "1",
         "0",
         "0",
         "0",
         "1",
         "0",
         "1",
         "0",
         "0"
        ],
        [
         "25",
         "59",
         "1",
         "27",
         "3",
         "0",
         "14001",
         "0",
         "1",
         "0",
         "0",
         "1",
         "0",
         "0",
         "1",
         "0"
        ],
        [
         "26",
         "63",
         "1",
         "23",
         "0",
         "0",
         "14451",
         "0",
         "0",
         "0",
         "1",
         "0",
         "0",
         "0",
         "0",
         "1"
        ],
        [
         "27",
         "55",
         "1",
         "32",
         "2",
         "0",
         "12268",
         "1",
         "0",
         "0",
         "0",
         "0",
         "1",
         "0",
         "1",
         "0"
        ],
        [
         "28",
         "23",
         "0",
         "17",
         "1",
         "0",
         "2775",
         "1",
         "0",
         "0",
         "0",
         "0",
         "0",
         "1",
         "0",
         "0"
        ],
        [
         "29",
         "31",
         "0",
         "36",
         "2",
         "1",
         "38711",
         "0",
         "0",
         "1",
         "0",
         "0",
         "1",
         "1",
         "0",
         "0"
        ],
        [
         "30",
         "22",
         "0",
         "35",
         "0",
         "1",
         "35585",
         "0",
         "0",
         "1",
         "0",
         "0",
         "1",
         "1",
         "0",
         "0"
        ],
        [
         "31",
         "18",
         "1",
         "26",
         "0",
         "0",
         "2198",
         "0",
         "0",
         "0",
         "0",
         "1",
         "0",
         "0",
         "0",
         "0"
        ],
        [
         "32",
         "19",
         "1",
         "28",
         "5",
         "0",
         "4687",
         "0",
         "0",
         "1",
         "0",
         "1",
         "0",
         "0",
         "0",
         "0"
        ],
        [
         "33",
         "63",
         "0",
         "28",
         "0",
         "0",
         "13770",
         "1",
         "0",
         "0",
         "0",
         "1",
         "0",
         "0",
         "0",
         "1"
        ],
        [
         "34",
         "28",
         "0",
         "36",
         "1",
         "1",
         "51194",
         "0",
         "0",
         "1",
         "0",
         "0",
         "1",
         "1",
         "0",
         "0"
        ],
        [
         "35",
         "19",
         "0",
         "20",
         "0",
         "0",
         "1625",
         "1",
         "0",
         "0",
         "1",
         "0",
         "0",
         "0",
         "0",
         "0"
        ],
        [
         "36",
         "62",
         "1",
         "32",
         "3",
         "0",
         "15612",
         "1",
         "0",
         "0",
         "0",
         "0",
         "1",
         "0",
         "0",
         "1"
        ],
        [
         "37",
         "26",
         "0",
         "20",
         "0",
         "0",
         "2302",
         "0",
         "0",
         "1",
         "1",
         "0",
         "0",
         "1",
         "0",
         "0"
        ],
        [
         "38",
         "35",
         "0",
         "36",
         "1",
         "1",
         "39774",
         "0",
         "0",
         "0",
         "0",
         "0",
         "1",
         "1",
         "0",
         "0"
        ],
        [
         "39",
         "60",
         "0",
         "39",
         "0",
         "1",
         "48173",
         "0",
         "0",
         "1",
         "0",
         "0",
         "1",
         "0",
         "0",
         "1"
        ],
        [
         "40",
         "24",
         "1",
         "26",
         "0",
         "0",
         "3046",
         "0",
         "0",
         "0",
         "0",
         "1",
         "0",
         "1",
         "0",
         "0"
        ],
        [
         "41",
         "31",
         "1",
         "36",
         "2",
         "0",
         "4949",
         "0",
         "1",
         "0",
         "0",
         "0",
         "1",
         "1",
         "0",
         "0"
        ],
        [
         "42",
         "41",
         "0",
         "21",
         "1",
         "0",
         "6272",
         "0",
         "1",
         "0",
         "1",
         "0",
         "0",
         "0",
         "1",
         "0"
        ],
        [
         "43",
         "37",
         "1",
         "30",
         "2",
         "0",
         "6313",
         "0",
         "1",
         "0",
         "0",
         "0",
         "1",
         "1",
         "0",
         "0"
        ],
        [
         "44",
         "38",
         "0",
         "37",
         "1",
         "0",
         "6079",
         "0",
         "0",
         "0",
         "0",
         "0",
         "1",
         "1",
         "0",
         "0"
        ],
        [
         "45",
         "55",
         "0",
         "37",
         "0",
         "0",
         "20630",
         "0",
         "0",
         "1",
         "0",
         "0",
         "1",
         "0",
         "1",
         "0"
        ],
        [
         "46",
         "18",
         "1",
         "38",
         "2",
         "0",
         "3393",
         "0",
         "0",
         "0",
         "0",
         "0",
         "1",
         "0",
         "0",
         "0"
        ],
        [
         "47",
         "28",
         "1",
         "34",
         "0",
         "0",
         "3556",
         "1",
         "0",
         "0",
         "0",
         "0",
         "1",
         "1",
         "0",
         "0"
        ],
        [
         "48",
         "60",
         "1",
         "24",
         "0",
         "0",
         "12629",
         "0",
         "1",
         "0",
         "1",
         "0",
         "0",
         "0",
         "0",
         "1"
        ],
        [
         "49",
         "36",
         "0",
         "35",
         "1",
         "1",
         "38709",
         "0",
         "1",
         "0",
         "0",
         "0",
         "1",
         "1",
         "0",
         "0"
        ]
       ],
       "shape": {
        "columns": 15,
        "rows": 1337
       }
      },
      "text/html": [
       "<div>\n",
       "<style scoped>\n",
       "    .dataframe tbody tr th:only-of-type {\n",
       "        vertical-align: middle;\n",
       "    }\n",
       "\n",
       "    .dataframe tbody tr th {\n",
       "        vertical-align: top;\n",
       "    }\n",
       "\n",
       "    .dataframe thead th {\n",
       "        text-align: right;\n",
       "    }\n",
       "</style>\n",
       "<table border=\"1\" class=\"dataframe\">\n",
       "  <thead>\n",
       "    <tr style=\"text-align: right;\">\n",
       "      <th></th>\n",
       "      <th>age</th>\n",
       "      <th>gender</th>\n",
       "      <th>bmi</th>\n",
       "      <th>children</th>\n",
       "      <th>smoker</th>\n",
       "      <th>charges</th>\n",
       "      <th>region_northwest</th>\n",
       "      <th>region_southeast</th>\n",
       "      <th>region_southwest</th>\n",
       "      <th>bmi_category_Normal</th>\n",
       "      <th>bmi_category_Overweight</th>\n",
       "      <th>bmi_category_Obese</th>\n",
       "      <th>Age_category_Youngadult</th>\n",
       "      <th>Age_category_middleage</th>\n",
       "      <th>Age_category_Senioradult</th>\n",
       "    </tr>\n",
       "  </thead>\n",
       "  <tbody>\n",
       "    <tr>\n",
       "      <th>0</th>\n",
       "      <td>19</td>\n",
       "      <td>1</td>\n",
       "      <td>27</td>\n",
       "      <td>0</td>\n",
       "      <td>1</td>\n",
       "      <td>16884</td>\n",
       "      <td>0</td>\n",
       "      <td>0</td>\n",
       "      <td>1</td>\n",
       "      <td>0</td>\n",
       "      <td>1</td>\n",
       "      <td>0</td>\n",
       "      <td>0</td>\n",
       "      <td>0</td>\n",
       "      <td>0</td>\n",
       "    </tr>\n",
       "    <tr>\n",
       "      <th>1</th>\n",
       "      <td>18</td>\n",
       "      <td>0</td>\n",
       "      <td>33</td>\n",
       "      <td>1</td>\n",
       "      <td>0</td>\n",
       "      <td>1725</td>\n",
       "      <td>0</td>\n",
       "      <td>1</td>\n",
       "      <td>0</td>\n",
       "      <td>0</td>\n",
       "      <td>0</td>\n",
       "      <td>1</td>\n",
       "      <td>0</td>\n",
       "      <td>0</td>\n",
       "      <td>0</td>\n",
       "    </tr>\n",
       "    <tr>\n",
       "      <th>2</th>\n",
       "      <td>28</td>\n",
       "      <td>0</td>\n",
       "      <td>33</td>\n",
       "      <td>3</td>\n",
       "      <td>0</td>\n",
       "      <td>4449</td>\n",
       "      <td>0</td>\n",
       "      <td>1</td>\n",
       "      <td>0</td>\n",
       "      <td>0</td>\n",
       "      <td>0</td>\n",
       "      <td>1</td>\n",
       "      <td>1</td>\n",
       "      <td>0</td>\n",
       "      <td>0</td>\n",
       "    </tr>\n",
       "    <tr>\n",
       "      <th>3</th>\n",
       "      <td>33</td>\n",
       "      <td>0</td>\n",
       "      <td>22</td>\n",
       "      <td>0</td>\n",
       "      <td>0</td>\n",
       "      <td>21984</td>\n",
       "      <td>1</td>\n",
       "      <td>0</td>\n",
       "      <td>0</td>\n",
       "      <td>1</td>\n",
       "      <td>0</td>\n",
       "      <td>0</td>\n",
       "      <td>1</td>\n",
       "      <td>0</td>\n",
       "      <td>0</td>\n",
       "    </tr>\n",
       "    <tr>\n",
       "      <th>4</th>\n",
       "      <td>32</td>\n",
       "      <td>0</td>\n",
       "      <td>28</td>\n",
       "      <td>0</td>\n",
       "      <td>0</td>\n",
       "      <td>3866</td>\n",
       "      <td>1</td>\n",
       "      <td>0</td>\n",
       "      <td>0</td>\n",
       "      <td>0</td>\n",
       "      <td>1</td>\n",
       "      <td>0</td>\n",
       "      <td>1</td>\n",
       "      <td>0</td>\n",
       "      <td>0</td>\n",
       "    </tr>\n",
       "    <tr>\n",
       "      <th>...</th>\n",
       "      <td>...</td>\n",
       "      <td>...</td>\n",
       "      <td>...</td>\n",
       "      <td>...</td>\n",
       "      <td>...</td>\n",
       "      <td>...</td>\n",
       "      <td>...</td>\n",
       "      <td>...</td>\n",
       "      <td>...</td>\n",
       "      <td>...</td>\n",
       "      <td>...</td>\n",
       "      <td>...</td>\n",
       "      <td>...</td>\n",
       "      <td>...</td>\n",
       "      <td>...</td>\n",
       "    </tr>\n",
       "    <tr>\n",
       "      <th>1333</th>\n",
       "      <td>50</td>\n",
       "      <td>0</td>\n",
       "      <td>30</td>\n",
       "      <td>3</td>\n",
       "      <td>0</td>\n",
       "      <td>10600</td>\n",
       "      <td>1</td>\n",
       "      <td>0</td>\n",
       "      <td>0</td>\n",
       "      <td>0</td>\n",
       "      <td>0</td>\n",
       "      <td>1</td>\n",
       "      <td>0</td>\n",
       "      <td>1</td>\n",
       "      <td>0</td>\n",
       "    </tr>\n",
       "    <tr>\n",
       "      <th>1334</th>\n",
       "      <td>18</td>\n",
       "      <td>1</td>\n",
       "      <td>31</td>\n",
       "      <td>0</td>\n",
       "      <td>0</td>\n",
       "      <td>2205</td>\n",
       "      <td>0</td>\n",
       "      <td>0</td>\n",
       "      <td>0</td>\n",
       "      <td>0</td>\n",
       "      <td>0</td>\n",
       "      <td>1</td>\n",
       "      <td>0</td>\n",
       "      <td>0</td>\n",
       "      <td>0</td>\n",
       "    </tr>\n",
       "    <tr>\n",
       "      <th>1335</th>\n",
       "      <td>18</td>\n",
       "      <td>1</td>\n",
       "      <td>36</td>\n",
       "      <td>0</td>\n",
       "      <td>0</td>\n",
       "      <td>1629</td>\n",
       "      <td>0</td>\n",
       "      <td>1</td>\n",
       "      <td>0</td>\n",
       "      <td>0</td>\n",
       "      <td>0</td>\n",
       "      <td>1</td>\n",
       "      <td>0</td>\n",
       "      <td>0</td>\n",
       "      <td>0</td>\n",
       "    </tr>\n",
       "    <tr>\n",
       "      <th>1336</th>\n",
       "      <td>21</td>\n",
       "      <td>1</td>\n",
       "      <td>25</td>\n",
       "      <td>0</td>\n",
       "      <td>0</td>\n",
       "      <td>2007</td>\n",
       "      <td>0</td>\n",
       "      <td>0</td>\n",
       "      <td>1</td>\n",
       "      <td>0</td>\n",
       "      <td>1</td>\n",
       "      <td>0</td>\n",
       "      <td>1</td>\n",
       "      <td>0</td>\n",
       "      <td>0</td>\n",
       "    </tr>\n",
       "    <tr>\n",
       "      <th>1337</th>\n",
       "      <td>61</td>\n",
       "      <td>1</td>\n",
       "      <td>29</td>\n",
       "      <td>0</td>\n",
       "      <td>1</td>\n",
       "      <td>29141</td>\n",
       "      <td>1</td>\n",
       "      <td>0</td>\n",
       "      <td>0</td>\n",
       "      <td>0</td>\n",
       "      <td>1</td>\n",
       "      <td>0</td>\n",
       "      <td>0</td>\n",
       "      <td>0</td>\n",
       "      <td>1</td>\n",
       "    </tr>\n",
       "  </tbody>\n",
       "</table>\n",
       "<p>1337 rows × 15 columns</p>\n",
       "</div>"
      ],
      "text/plain": [
       "      age  gender  bmi  children  smoker  charges  region_northwest  \\\n",
       "0      19       1   27         0       1    16884                 0   \n",
       "1      18       0   33         1       0     1725                 0   \n",
       "2      28       0   33         3       0     4449                 0   \n",
       "3      33       0   22         0       0    21984                 1   \n",
       "4      32       0   28         0       0     3866                 1   \n",
       "...   ...     ...  ...       ...     ...      ...               ...   \n",
       "1333   50       0   30         3       0    10600                 1   \n",
       "1334   18       1   31         0       0     2205                 0   \n",
       "1335   18       1   36         0       0     1629                 0   \n",
       "1336   21       1   25         0       0     2007                 0   \n",
       "1337   61       1   29         0       1    29141                 1   \n",
       "\n",
       "      region_southeast  region_southwest  bmi_category_Normal  \\\n",
       "0                    0                 1                    0   \n",
       "1                    1                 0                    0   \n",
       "2                    1                 0                    0   \n",
       "3                    0                 0                    1   \n",
       "4                    0                 0                    0   \n",
       "...                ...               ...                  ...   \n",
       "1333                 0                 0                    0   \n",
       "1334                 0                 0                    0   \n",
       "1335                 1                 0                    0   \n",
       "1336                 0                 1                    0   \n",
       "1337                 0                 0                    0   \n",
       "\n",
       "      bmi_category_Overweight  bmi_category_Obese  Age_category_Youngadult  \\\n",
       "0                           1                   0                        0   \n",
       "1                           0                   1                        0   \n",
       "2                           0                   1                        1   \n",
       "3                           0                   0                        1   \n",
       "4                           1                   0                        1   \n",
       "...                       ...                 ...                      ...   \n",
       "1333                        0                   1                        0   \n",
       "1334                        0                   1                        0   \n",
       "1335                        0                   1                        0   \n",
       "1336                        1                   0                        1   \n",
       "1337                        1                   0                        0   \n",
       "\n",
       "      Age_category_middleage  Age_category_Senioradult  \n",
       "0                          0                         0  \n",
       "1                          0                         0  \n",
       "2                          0                         0  \n",
       "3                          0                         0  \n",
       "4                          0                         0  \n",
       "...                      ...                       ...  \n",
       "1333                       1                         0  \n",
       "1334                       0                         0  \n",
       "1335                       0                         0  \n",
       "1336                       0                         0  \n",
       "1337                       0                         1  \n",
       "\n",
       "[1337 rows x 15 columns]"
      ]
     },
     "execution_count": 41,
     "metadata": {},
     "output_type": "execute_result"
    }
   ],
   "source": [
    "cleaned_data = cleaned_data.astype(int)\n",
    "cleaned_data\n"
   ]
  },
  {
   "cell_type": "code",
   "execution_count": 42,
   "id": "67349e23",
   "metadata": {},
   "outputs": [
    {
     "data": {
      "application/vnd.microsoft.datawrangler.viewer.v0+json": {
       "columns": [
        {
         "name": "index",
         "rawType": "int64",
         "type": "integer"
        },
        {
         "name": "age",
         "rawType": "int64",
         "type": "integer"
        },
        {
         "name": "gender",
         "rawType": "int64",
         "type": "integer"
        },
        {
         "name": "bmi",
         "rawType": "int64",
         "type": "integer"
        },
        {
         "name": "children",
         "rawType": "int64",
         "type": "integer"
        },
        {
         "name": "smoker",
         "rawType": "int64",
         "type": "integer"
        },
        {
         "name": "charges",
         "rawType": "int64",
         "type": "integer"
        },
        {
         "name": "region_northwest",
         "rawType": "int64",
         "type": "integer"
        },
        {
         "name": "region_southeast",
         "rawType": "int64",
         "type": "integer"
        },
        {
         "name": "region_southwest",
         "rawType": "int64",
         "type": "integer"
        },
        {
         "name": "bmi_category_Normal",
         "rawType": "int64",
         "type": "integer"
        },
        {
         "name": "bmi_category_Overweight",
         "rawType": "int64",
         "type": "integer"
        },
        {
         "name": "bmi_category_Obese",
         "rawType": "int64",
         "type": "integer"
        },
        {
         "name": "Age_category_Youngadult",
         "rawType": "int64",
         "type": "integer"
        },
        {
         "name": "Age_category_middleage",
         "rawType": "int64",
         "type": "integer"
        },
        {
         "name": "Age_category_Senioradult",
         "rawType": "int64",
         "type": "integer"
        }
       ],
       "ref": "37d19154-bd78-4b0b-bf8a-bef995f7b0c9",
       "rows": [
        [
         "0",
         "19",
         "1",
         "27",
         "0",
         "1",
         "16884",
         "0",
         "0",
         "1",
         "0",
         "1",
         "0",
         "0",
         "0",
         "0"
        ],
        [
         "1",
         "18",
         "0",
         "33",
         "1",
         "0",
         "1725",
         "0",
         "1",
         "0",
         "0",
         "0",
         "1",
         "0",
         "0",
         "0"
        ],
        [
         "2",
         "28",
         "0",
         "33",
         "3",
         "0",
         "4449",
         "0",
         "1",
         "0",
         "0",
         "0",
         "1",
         "1",
         "0",
         "0"
        ],
        [
         "3",
         "33",
         "0",
         "22",
         "0",
         "0",
         "21984",
         "1",
         "0",
         "0",
         "1",
         "0",
         "0",
         "1",
         "0",
         "0"
        ],
        [
         "4",
         "32",
         "0",
         "28",
         "0",
         "0",
         "3866",
         "1",
         "0",
         "0",
         "0",
         "1",
         "0",
         "1",
         "0",
         "0"
        ]
       ],
       "shape": {
        "columns": 15,
        "rows": 5
       }
      },
      "text/html": [
       "<div>\n",
       "<style scoped>\n",
       "    .dataframe tbody tr th:only-of-type {\n",
       "        vertical-align: middle;\n",
       "    }\n",
       "\n",
       "    .dataframe tbody tr th {\n",
       "        vertical-align: top;\n",
       "    }\n",
       "\n",
       "    .dataframe thead th {\n",
       "        text-align: right;\n",
       "    }\n",
       "</style>\n",
       "<table border=\"1\" class=\"dataframe\">\n",
       "  <thead>\n",
       "    <tr style=\"text-align: right;\">\n",
       "      <th></th>\n",
       "      <th>age</th>\n",
       "      <th>gender</th>\n",
       "      <th>bmi</th>\n",
       "      <th>children</th>\n",
       "      <th>smoker</th>\n",
       "      <th>charges</th>\n",
       "      <th>region_northwest</th>\n",
       "      <th>region_southeast</th>\n",
       "      <th>region_southwest</th>\n",
       "      <th>bmi_category_Normal</th>\n",
       "      <th>bmi_category_Overweight</th>\n",
       "      <th>bmi_category_Obese</th>\n",
       "      <th>Age_category_Youngadult</th>\n",
       "      <th>Age_category_middleage</th>\n",
       "      <th>Age_category_Senioradult</th>\n",
       "    </tr>\n",
       "  </thead>\n",
       "  <tbody>\n",
       "    <tr>\n",
       "      <th>0</th>\n",
       "      <td>19</td>\n",
       "      <td>1</td>\n",
       "      <td>27</td>\n",
       "      <td>0</td>\n",
       "      <td>1</td>\n",
       "      <td>16884</td>\n",
       "      <td>0</td>\n",
       "      <td>0</td>\n",
       "      <td>1</td>\n",
       "      <td>0</td>\n",
       "      <td>1</td>\n",
       "      <td>0</td>\n",
       "      <td>0</td>\n",
       "      <td>0</td>\n",
       "      <td>0</td>\n",
       "    </tr>\n",
       "    <tr>\n",
       "      <th>1</th>\n",
       "      <td>18</td>\n",
       "      <td>0</td>\n",
       "      <td>33</td>\n",
       "      <td>1</td>\n",
       "      <td>0</td>\n",
       "      <td>1725</td>\n",
       "      <td>0</td>\n",
       "      <td>1</td>\n",
       "      <td>0</td>\n",
       "      <td>0</td>\n",
       "      <td>0</td>\n",
       "      <td>1</td>\n",
       "      <td>0</td>\n",
       "      <td>0</td>\n",
       "      <td>0</td>\n",
       "    </tr>\n",
       "    <tr>\n",
       "      <th>2</th>\n",
       "      <td>28</td>\n",
       "      <td>0</td>\n",
       "      <td>33</td>\n",
       "      <td>3</td>\n",
       "      <td>0</td>\n",
       "      <td>4449</td>\n",
       "      <td>0</td>\n",
       "      <td>1</td>\n",
       "      <td>0</td>\n",
       "      <td>0</td>\n",
       "      <td>0</td>\n",
       "      <td>1</td>\n",
       "      <td>1</td>\n",
       "      <td>0</td>\n",
       "      <td>0</td>\n",
       "    </tr>\n",
       "    <tr>\n",
       "      <th>3</th>\n",
       "      <td>33</td>\n",
       "      <td>0</td>\n",
       "      <td>22</td>\n",
       "      <td>0</td>\n",
       "      <td>0</td>\n",
       "      <td>21984</td>\n",
       "      <td>1</td>\n",
       "      <td>0</td>\n",
       "      <td>0</td>\n",
       "      <td>1</td>\n",
       "      <td>0</td>\n",
       "      <td>0</td>\n",
       "      <td>1</td>\n",
       "      <td>0</td>\n",
       "      <td>0</td>\n",
       "    </tr>\n",
       "    <tr>\n",
       "      <th>4</th>\n",
       "      <td>32</td>\n",
       "      <td>0</td>\n",
       "      <td>28</td>\n",
       "      <td>0</td>\n",
       "      <td>0</td>\n",
       "      <td>3866</td>\n",
       "      <td>1</td>\n",
       "      <td>0</td>\n",
       "      <td>0</td>\n",
       "      <td>0</td>\n",
       "      <td>1</td>\n",
       "      <td>0</td>\n",
       "      <td>1</td>\n",
       "      <td>0</td>\n",
       "      <td>0</td>\n",
       "    </tr>\n",
       "  </tbody>\n",
       "</table>\n",
       "</div>"
      ],
      "text/plain": [
       "   age  gender  bmi  children  smoker  charges  region_northwest  \\\n",
       "0   19       1   27         0       1    16884                 0   \n",
       "1   18       0   33         1       0     1725                 0   \n",
       "2   28       0   33         3       0     4449                 0   \n",
       "3   33       0   22         0       0    21984                 1   \n",
       "4   32       0   28         0       0     3866                 1   \n",
       "\n",
       "   region_southeast  region_southwest  bmi_category_Normal  \\\n",
       "0                 0                 1                    0   \n",
       "1                 1                 0                    0   \n",
       "2                 1                 0                    0   \n",
       "3                 0                 0                    1   \n",
       "4                 0                 0                    0   \n",
       "\n",
       "   bmi_category_Overweight  bmi_category_Obese  Age_category_Youngadult  \\\n",
       "0                        1                   0                        0   \n",
       "1                        0                   1                        0   \n",
       "2                        0                   1                        1   \n",
       "3                        0                   0                        1   \n",
       "4                        1                   0                        1   \n",
       "\n",
       "   Age_category_middleage  Age_category_Senioradult  \n",
       "0                       0                         0  \n",
       "1                       0                         0  \n",
       "2                       0                         0  \n",
       "3                       0                         0  \n",
       "4                       0                         0  "
      ]
     },
     "execution_count": 42,
     "metadata": {},
     "output_type": "execute_result"
    }
   ],
   "source": [
    "cleaned_data.head()"
   ]
  },
  {
   "cell_type": "markdown",
   "id": "95f80ef4",
   "metadata": {},
   "source": [
    "Feature Scaling"
   ]
  },
  {
   "cell_type": "code",
   "execution_count": 43,
   "id": "4d8c7543",
   "metadata": {},
   "outputs": [
    {
     "data": {
      "text/plain": [
       "Index(['age', 'gender', 'bmi', 'children', 'smoker', 'charges',\n",
       "       'region_northwest', 'region_southeast', 'region_southwest',\n",
       "       'bmi_category_Normal', 'bmi_category_Overweight', 'bmi_category_Obese',\n",
       "       'Age_category_Youngadult', 'Age_category_middleage',\n",
       "       'Age_category_Senioradult'],\n",
       "      dtype='object')"
      ]
     },
     "execution_count": 43,
     "metadata": {},
     "output_type": "execute_result"
    }
   ],
   "source": [
    "cleaned_data.columns"
   ]
  },
  {
   "cell_type": "code",
   "execution_count": 44,
   "id": "44ce415d",
   "metadata": {},
   "outputs": [],
   "source": [
    "#Use Sklearn to Preprocess the data and make it scale \n",
    "from sklearn.preprocessing import StandardScaler\n",
    "cols = ['age', 'bmi', 'children']\n",
    "scaler = StandardScaler()\n",
    "cleaned_data[cols] = scaler.fit_transform(cleaned_data[cols])\n"
   ]
  },
  {
   "cell_type": "code",
   "execution_count": 45,
   "id": "b0d5fb4b",
   "metadata": {},
   "outputs": [
    {
     "data": {
      "application/vnd.microsoft.datawrangler.viewer.v0+json": {
       "columns": [
        {
         "name": "index",
         "rawType": "int64",
         "type": "integer"
        },
        {
         "name": "age",
         "rawType": "float64",
         "type": "float"
        },
        {
         "name": "gender",
         "rawType": "int64",
         "type": "integer"
        },
        {
         "name": "bmi",
         "rawType": "float64",
         "type": "float"
        },
        {
         "name": "children",
         "rawType": "float64",
         "type": "float"
        },
        {
         "name": "smoker",
         "rawType": "int64",
         "type": "integer"
        },
        {
         "name": "charges",
         "rawType": "int64",
         "type": "integer"
        },
        {
         "name": "region_northwest",
         "rawType": "int64",
         "type": "integer"
        },
        {
         "name": "region_southeast",
         "rawType": "int64",
         "type": "integer"
        },
        {
         "name": "region_southwest",
         "rawType": "int64",
         "type": "integer"
        },
        {
         "name": "bmi_category_Normal",
         "rawType": "int64",
         "type": "integer"
        },
        {
         "name": "bmi_category_Overweight",
         "rawType": "int64",
         "type": "integer"
        },
        {
         "name": "bmi_category_Obese",
         "rawType": "int64",
         "type": "integer"
        },
        {
         "name": "Age_category_Youngadult",
         "rawType": "int64",
         "type": "integer"
        },
        {
         "name": "Age_category_middleage",
         "rawType": "int64",
         "type": "integer"
        },
        {
         "name": "Age_category_Senioradult",
         "rawType": "int64",
         "type": "integer"
        }
       ],
       "ref": "43d29dae-dc55-41db-ae13-ff44c444e2b0",
       "rows": [
        [
         "0",
         "-1.4404177293803346",
         "1",
         "-0.5179491381563489",
         "-0.9092341626291546",
         "1",
         "16884",
         "0",
         "0",
         "1",
         "0",
         "1",
         "0",
         "0",
         "0",
         "0"
        ],
        [
         "1",
         "-1.5116474702606657",
         "0",
         "0.462463317315626",
         "-0.07944161966998751",
         "0",
         "1725",
         "0",
         "1",
         "0",
         "0",
         "0",
         "1",
         "0",
         "0",
         "0"
        ],
        [
         "2",
         "-0.7993500614573563",
         "0",
         "0.462463317315626",
         "1.5801434662483465",
         "0",
         "4449",
         "0",
         "1",
         "0",
         "0",
         "0",
         "1",
         "1",
         "0",
         "0"
        ],
        [
         "3",
         "-0.44320135705570163",
         "0",
         "-1.334959517716328",
         "-0.9092341626291546",
         "0",
         "21984",
         "1",
         "0",
         "0",
         "1",
         "0",
         "0",
         "1",
         "0",
         "0"
        ],
        [
         "4",
         "-0.5144310979360326",
         "0",
         "-0.35454706224435306",
         "-0.9092341626291546",
         "0",
         "3866",
         "1",
         "0",
         "0",
         "0",
         "1",
         "0",
         "1",
         "0",
         "0"
        ]
       ],
       "shape": {
        "columns": 15,
        "rows": 5
       }
      },
      "text/html": [
       "<div>\n",
       "<style scoped>\n",
       "    .dataframe tbody tr th:only-of-type {\n",
       "        vertical-align: middle;\n",
       "    }\n",
       "\n",
       "    .dataframe tbody tr th {\n",
       "        vertical-align: top;\n",
       "    }\n",
       "\n",
       "    .dataframe thead th {\n",
       "        text-align: right;\n",
       "    }\n",
       "</style>\n",
       "<table border=\"1\" class=\"dataframe\">\n",
       "  <thead>\n",
       "    <tr style=\"text-align: right;\">\n",
       "      <th></th>\n",
       "      <th>age</th>\n",
       "      <th>gender</th>\n",
       "      <th>bmi</th>\n",
       "      <th>children</th>\n",
       "      <th>smoker</th>\n",
       "      <th>charges</th>\n",
       "      <th>region_northwest</th>\n",
       "      <th>region_southeast</th>\n",
       "      <th>region_southwest</th>\n",
       "      <th>bmi_category_Normal</th>\n",
       "      <th>bmi_category_Overweight</th>\n",
       "      <th>bmi_category_Obese</th>\n",
       "      <th>Age_category_Youngadult</th>\n",
       "      <th>Age_category_middleage</th>\n",
       "      <th>Age_category_Senioradult</th>\n",
       "    </tr>\n",
       "  </thead>\n",
       "  <tbody>\n",
       "    <tr>\n",
       "      <th>0</th>\n",
       "      <td>-1.440418</td>\n",
       "      <td>1</td>\n",
       "      <td>-0.517949</td>\n",
       "      <td>-0.909234</td>\n",
       "      <td>1</td>\n",
       "      <td>16884</td>\n",
       "      <td>0</td>\n",
       "      <td>0</td>\n",
       "      <td>1</td>\n",
       "      <td>0</td>\n",
       "      <td>1</td>\n",
       "      <td>0</td>\n",
       "      <td>0</td>\n",
       "      <td>0</td>\n",
       "      <td>0</td>\n",
       "    </tr>\n",
       "    <tr>\n",
       "      <th>1</th>\n",
       "      <td>-1.511647</td>\n",
       "      <td>0</td>\n",
       "      <td>0.462463</td>\n",
       "      <td>-0.079442</td>\n",
       "      <td>0</td>\n",
       "      <td>1725</td>\n",
       "      <td>0</td>\n",
       "      <td>1</td>\n",
       "      <td>0</td>\n",
       "      <td>0</td>\n",
       "      <td>0</td>\n",
       "      <td>1</td>\n",
       "      <td>0</td>\n",
       "      <td>0</td>\n",
       "      <td>0</td>\n",
       "    </tr>\n",
       "    <tr>\n",
       "      <th>2</th>\n",
       "      <td>-0.799350</td>\n",
       "      <td>0</td>\n",
       "      <td>0.462463</td>\n",
       "      <td>1.580143</td>\n",
       "      <td>0</td>\n",
       "      <td>4449</td>\n",
       "      <td>0</td>\n",
       "      <td>1</td>\n",
       "      <td>0</td>\n",
       "      <td>0</td>\n",
       "      <td>0</td>\n",
       "      <td>1</td>\n",
       "      <td>1</td>\n",
       "      <td>0</td>\n",
       "      <td>0</td>\n",
       "    </tr>\n",
       "    <tr>\n",
       "      <th>3</th>\n",
       "      <td>-0.443201</td>\n",
       "      <td>0</td>\n",
       "      <td>-1.334960</td>\n",
       "      <td>-0.909234</td>\n",
       "      <td>0</td>\n",
       "      <td>21984</td>\n",
       "      <td>1</td>\n",
       "      <td>0</td>\n",
       "      <td>0</td>\n",
       "      <td>1</td>\n",
       "      <td>0</td>\n",
       "      <td>0</td>\n",
       "      <td>1</td>\n",
       "      <td>0</td>\n",
       "      <td>0</td>\n",
       "    </tr>\n",
       "    <tr>\n",
       "      <th>4</th>\n",
       "      <td>-0.514431</td>\n",
       "      <td>0</td>\n",
       "      <td>-0.354547</td>\n",
       "      <td>-0.909234</td>\n",
       "      <td>0</td>\n",
       "      <td>3866</td>\n",
       "      <td>1</td>\n",
       "      <td>0</td>\n",
       "      <td>0</td>\n",
       "      <td>0</td>\n",
       "      <td>1</td>\n",
       "      <td>0</td>\n",
       "      <td>1</td>\n",
       "      <td>0</td>\n",
       "      <td>0</td>\n",
       "    </tr>\n",
       "  </tbody>\n",
       "</table>\n",
       "</div>"
      ],
      "text/plain": [
       "        age  gender       bmi  children  smoker  charges  region_northwest  \\\n",
       "0 -1.440418       1 -0.517949 -0.909234       1    16884                 0   \n",
       "1 -1.511647       0  0.462463 -0.079442       0     1725                 0   \n",
       "2 -0.799350       0  0.462463  1.580143       0     4449                 0   \n",
       "3 -0.443201       0 -1.334960 -0.909234       0    21984                 1   \n",
       "4 -0.514431       0 -0.354547 -0.909234       0     3866                 1   \n",
       "\n",
       "   region_southeast  region_southwest  bmi_category_Normal  \\\n",
       "0                 0                 1                    0   \n",
       "1                 1                 0                    0   \n",
       "2                 1                 0                    0   \n",
       "3                 0                 0                    1   \n",
       "4                 0                 0                    0   \n",
       "\n",
       "   bmi_category_Overweight  bmi_category_Obese  Age_category_Youngadult  \\\n",
       "0                        1                   0                        0   \n",
       "1                        0                   1                        0   \n",
       "2                        0                   1                        1   \n",
       "3                        0                   0                        1   \n",
       "4                        1                   0                        1   \n",
       "\n",
       "   Age_category_middleage  Age_category_Senioradult  \n",
       "0                       0                         0  \n",
       "1                       0                         0  \n",
       "2                       0                         0  \n",
       "3                       0                         0  \n",
       "4                       0                         0  "
      ]
     },
     "execution_count": 45,
     "metadata": {},
     "output_type": "execute_result"
    }
   ],
   "source": [
    "cleaned_data.head()"
   ]
  },
  {
   "cell_type": "code",
   "execution_count": 46,
   "id": "0749cddb",
   "metadata": {},
   "outputs": [
    {
     "data": {
      "application/vnd.microsoft.datawrangler.viewer.v0+json": {
       "columns": [
        {
         "name": "index",
         "rawType": "int64",
         "type": "integer"
        },
        {
         "name": "Feature",
         "rawType": "object",
         "type": "string"
        },
        {
         "name": "Pearson Correlation",
         "rawType": "float64",
         "type": "float"
        }
       ],
       "ref": "75d88e49-0b84-423f-9e74-e90e9a00dd98",
       "rows": [
        [
         "5",
         "charges",
         "0.9999999999999998"
        ],
        [
         "4",
         "smoker",
         "0.7872337542693594"
        ],
        [
         "0",
         "age",
         "0.29830870258771747"
        ],
        [
         "11",
         "bmi_category_Obese",
         "0.20034756980289614"
        ],
        [
         "2",
         "bmi",
         "0.1962362929936443"
        ],
        [
         "7",
         "region_southeast",
         "0.07357719339126034"
        ],
        [
         "3",
         "children",
         "0.0673902418591206"
        ],
        [
         "6",
         "region_northwest",
         "-0.03869515161276132"
        ],
        [
         "8",
         "region_southwest",
         "-0.04363698192991322"
        ],
        [
         "1",
         "gender",
         "-0.05804580933726394"
        ],
        [
         "9",
         "bmi_category_Normal",
         "-0.10404195904728356"
        ],
        [
         "10",
         "bmi_category_Overweight",
         "-0.12060129307098051"
        ]
       ],
       "shape": {
        "columns": 2,
        "rows": 12
       }
      },
      "text/html": [
       "<div>\n",
       "<style scoped>\n",
       "    .dataframe tbody tr th:only-of-type {\n",
       "        vertical-align: middle;\n",
       "    }\n",
       "\n",
       "    .dataframe tbody tr th {\n",
       "        vertical-align: top;\n",
       "    }\n",
       "\n",
       "    .dataframe thead th {\n",
       "        text-align: right;\n",
       "    }\n",
       "</style>\n",
       "<table border=\"1\" class=\"dataframe\">\n",
       "  <thead>\n",
       "    <tr style=\"text-align: right;\">\n",
       "      <th></th>\n",
       "      <th>Feature</th>\n",
       "      <th>Pearson Correlation</th>\n",
       "    </tr>\n",
       "  </thead>\n",
       "  <tbody>\n",
       "    <tr>\n",
       "      <th>5</th>\n",
       "      <td>charges</td>\n",
       "      <td>1.000000</td>\n",
       "    </tr>\n",
       "    <tr>\n",
       "      <th>4</th>\n",
       "      <td>smoker</td>\n",
       "      <td>0.787234</td>\n",
       "    </tr>\n",
       "    <tr>\n",
       "      <th>0</th>\n",
       "      <td>age</td>\n",
       "      <td>0.298309</td>\n",
       "    </tr>\n",
       "    <tr>\n",
       "      <th>11</th>\n",
       "      <td>bmi_category_Obese</td>\n",
       "      <td>0.200348</td>\n",
       "    </tr>\n",
       "    <tr>\n",
       "      <th>2</th>\n",
       "      <td>bmi</td>\n",
       "      <td>0.196236</td>\n",
       "    </tr>\n",
       "    <tr>\n",
       "      <th>7</th>\n",
       "      <td>region_southeast</td>\n",
       "      <td>0.073577</td>\n",
       "    </tr>\n",
       "    <tr>\n",
       "      <th>3</th>\n",
       "      <td>children</td>\n",
       "      <td>0.067390</td>\n",
       "    </tr>\n",
       "    <tr>\n",
       "      <th>6</th>\n",
       "      <td>region_northwest</td>\n",
       "      <td>-0.038695</td>\n",
       "    </tr>\n",
       "    <tr>\n",
       "      <th>8</th>\n",
       "      <td>region_southwest</td>\n",
       "      <td>-0.043637</td>\n",
       "    </tr>\n",
       "    <tr>\n",
       "      <th>1</th>\n",
       "      <td>gender</td>\n",
       "      <td>-0.058046</td>\n",
       "    </tr>\n",
       "    <tr>\n",
       "      <th>9</th>\n",
       "      <td>bmi_category_Normal</td>\n",
       "      <td>-0.104042</td>\n",
       "    </tr>\n",
       "    <tr>\n",
       "      <th>10</th>\n",
       "      <td>bmi_category_Overweight</td>\n",
       "      <td>-0.120601</td>\n",
       "    </tr>\n",
       "  </tbody>\n",
       "</table>\n",
       "</div>"
      ],
      "text/plain": [
       "                    Feature  Pearson Correlation\n",
       "5                   charges             1.000000\n",
       "4                    smoker             0.787234\n",
       "0                       age             0.298309\n",
       "11       bmi_category_Obese             0.200348\n",
       "2                       bmi             0.196236\n",
       "7          region_southeast             0.073577\n",
       "3                  children             0.067390\n",
       "6          region_northwest            -0.038695\n",
       "8          region_southwest            -0.043637\n",
       "1                    gender            -0.058046\n",
       "9       bmi_category_Normal            -0.104042\n",
       "10  bmi_category_Overweight            -0.120601"
      ]
     },
     "execution_count": 46,
     "metadata": {},
     "output_type": "execute_result"
    }
   ],
   "source": [
    "#Extracting the Features that are highly correlated with the Result\n",
    "#We will Use Pearsonr Correlation Correlation\n",
    "\n",
    "from scipy.stats import pearsonr\n",
    "\n",
    "selected_features = [\n",
    "    'age', 'gender', 'bmi', 'children', 'smoker', 'charges',\n",
    "    'region_northwest', 'region_southeast', 'region_southwest',\n",
    "    'bmi_category_Normal', 'bmi_category_Overweight', 'bmi_category_Obese'\n",
    "]\n",
    "correlations = {\n",
    "    feature: pearsonr(cleaned_data[feature], cleaned_data['charges'])[0]\n",
    "    for feature in selected_features\n",
    "}\n",
    "correlation_df = pd.DataFrame(list(correlations.items()), columns=['Feature', 'Pearson Correlation'])\n",
    "correlation_df.sort_values(by='Pearson Correlation', ascending=False)"
   ]
  },
  {
   "cell_type": "code",
   "execution_count": 47,
   "id": "106d6f39",
   "metadata": {},
   "outputs": [],
   "source": [
    "# Now Analyzing Categorical Squre Test\n",
    "cat_features = [\n",
    "    'gender', 'smoker',\n",
    "    'region_northwest', 'region_southeast', 'region_southwest',\n",
    "    'bmi_category_Normal', 'bmi_category_Overweight', 'bmi_category_Obese'\n",
    "]"
   ]
  },
  {
   "cell_type": "code",
   "execution_count": 48,
   "id": "894a2141",
   "metadata": {},
   "outputs": [
    {
     "data": {
      "application/vnd.microsoft.datawrangler.viewer.v0+json": {
       "columns": [
        {
         "name": "index",
         "rawType": "object",
         "type": "string"
        },
        {
         "name": "chi2_statistic",
         "rawType": "object",
         "type": "unknown"
        },
        {
         "name": "p_value",
         "rawType": "object",
         "type": "unknown"
        },
        {
         "name": "Decision",
         "rawType": "object",
         "type": "string"
        }
       ],
       "ref": "a80f5287-3b62-4873-8376-c65d7d088166",
       "rows": [
        [
         "smoker",
         "848.2191784691495",
         "1.5074776554531109e-183",
         "Reject Null (Keep Feature)"
        ],
        [
         "region_southeast",
         "15.998167448977355",
         "0.0011349657141180658",
         "Reject Null (Keep Feature)"
        ],
        [
         "gender",
         "10.258784131896034",
         "0.016489740254825688",
         "Reject Null (Keep Feature)"
        ],
        [
         "bmi_category_Obese",
         "8.515710780987105",
         "0.03647336117085788",
         "Reject Null (Keep Feature)"
        ],
        [
         "region_southwest",
         "5.091893034250699",
         "0.16519063312163632",
         "Accept Null (Drop Feature)"
        ],
        [
         "bmi_category_Overweight",
         "4.2514897526301425",
         "0.23555707838052772",
         "Accept Null (Drop Feature)"
        ],
        [
         "bmi_category_Normal",
         "3.7080882993067794",
         "0.29475953089283036",
         "Accept Null (Drop Feature)"
        ],
        [
         "region_northwest",
         "1.1342403613235656",
         "0.76881540917986",
         "Accept Null (Drop Feature)"
        ]
       ],
       "shape": {
        "columns": 3,
        "rows": 8
       }
      },
      "text/html": [
       "<div>\n",
       "<style scoped>\n",
       "    .dataframe tbody tr th:only-of-type {\n",
       "        vertical-align: middle;\n",
       "    }\n",
       "\n",
       "    .dataframe tbody tr th {\n",
       "        vertical-align: top;\n",
       "    }\n",
       "\n",
       "    .dataframe thead th {\n",
       "        text-align: right;\n",
       "    }\n",
       "</style>\n",
       "<table border=\"1\" class=\"dataframe\">\n",
       "  <thead>\n",
       "    <tr style=\"text-align: right;\">\n",
       "      <th></th>\n",
       "      <th>chi2_statistic</th>\n",
       "      <th>p_value</th>\n",
       "      <th>Decision</th>\n",
       "    </tr>\n",
       "  </thead>\n",
       "  <tbody>\n",
       "    <tr>\n",
       "      <th>smoker</th>\n",
       "      <td>848.219178</td>\n",
       "      <td>0.0</td>\n",
       "      <td>Reject Null (Keep Feature)</td>\n",
       "    </tr>\n",
       "    <tr>\n",
       "      <th>region_southeast</th>\n",
       "      <td>15.998167</td>\n",
       "      <td>0.001135</td>\n",
       "      <td>Reject Null (Keep Feature)</td>\n",
       "    </tr>\n",
       "    <tr>\n",
       "      <th>gender</th>\n",
       "      <td>10.258784</td>\n",
       "      <td>0.01649</td>\n",
       "      <td>Reject Null (Keep Feature)</td>\n",
       "    </tr>\n",
       "    <tr>\n",
       "      <th>bmi_category_Obese</th>\n",
       "      <td>8.515711</td>\n",
       "      <td>0.036473</td>\n",
       "      <td>Reject Null (Keep Feature)</td>\n",
       "    </tr>\n",
       "    <tr>\n",
       "      <th>region_southwest</th>\n",
       "      <td>5.091893</td>\n",
       "      <td>0.165191</td>\n",
       "      <td>Accept Null (Drop Feature)</td>\n",
       "    </tr>\n",
       "    <tr>\n",
       "      <th>bmi_category_Overweight</th>\n",
       "      <td>4.25149</td>\n",
       "      <td>0.235557</td>\n",
       "      <td>Accept Null (Drop Feature)</td>\n",
       "    </tr>\n",
       "    <tr>\n",
       "      <th>bmi_category_Normal</th>\n",
       "      <td>3.708088</td>\n",
       "      <td>0.29476</td>\n",
       "      <td>Accept Null (Drop Feature)</td>\n",
       "    </tr>\n",
       "    <tr>\n",
       "      <th>region_northwest</th>\n",
       "      <td>1.13424</td>\n",
       "      <td>0.768815</td>\n",
       "      <td>Accept Null (Drop Feature)</td>\n",
       "    </tr>\n",
       "  </tbody>\n",
       "</table>\n",
       "</div>"
      ],
      "text/plain": [
       "                        chi2_statistic   p_value                    Decision\n",
       "smoker                      848.219178       0.0  Reject Null (Keep Feature)\n",
       "region_southeast             15.998167  0.001135  Reject Null (Keep Feature)\n",
       "gender                       10.258784   0.01649  Reject Null (Keep Feature)\n",
       "bmi_category_Obese            8.515711  0.036473  Reject Null (Keep Feature)\n",
       "region_southwest              5.091893  0.165191  Accept Null (Drop Feature)\n",
       "bmi_category_Overweight        4.25149  0.235557  Accept Null (Drop Feature)\n",
       "bmi_category_Normal           3.708088   0.29476  Accept Null (Drop Feature)\n",
       "region_northwest               1.13424  0.768815  Accept Null (Drop Feature)"
      ]
     },
     "execution_count": 48,
     "metadata": {},
     "output_type": "execute_result"
    }
   ],
   "source": [
    "#Using Chi-Square Test --> This test is used to compare the categorical data \n",
    "\n",
    "from scipy.stats import chi2_contingency\n",
    "import pandas as pd\n",
    "\n",
    "alpha = 0.05\n",
    "\n",
    "cleaned_data['charges_bin'] = pd.qcut(cleaned_data['charges'], q=4, labels=False)\n",
    "chi2_results = {}\n",
    "\n",
    "for col in cat_features:\n",
    "    contingency = pd.crosstab(cleaned_data[col], cleaned_data['charges_bin'])\n",
    "    chi2_stat, p_val, _, _ = chi2_contingency(contingency)\n",
    "    decision = 'Reject Null (Keep Feature)' if p_val < alpha else 'Accept Null (Drop Feature)'\n",
    "    chi2_results[col] = {\n",
    "        'chi2_statistic': chi2_stat,\n",
    "        'p_value': p_val,\n",
    "        'Decision': decision\n",
    "    }\n",
    "\n",
    "chi2_df = pd.DataFrame(chi2_results).T\n",
    "chi2_df = chi2_df.sort_values(by='p_value')\n",
    "chi2_df"
   ]
  },
  {
   "cell_type": "code",
   "execution_count": 49,
   "id": "2b070ebc",
   "metadata": {},
   "outputs": [
    {
     "data": {
      "application/vnd.microsoft.datawrangler.viewer.v0+json": {
       "columns": [
        {
         "name": "index",
         "rawType": "int64",
         "type": "integer"
        },
        {
         "name": "age",
         "rawType": "float64",
         "type": "float"
        },
        {
         "name": "gender",
         "rawType": "int64",
         "type": "integer"
        },
        {
         "name": "bmi",
         "rawType": "float64",
         "type": "float"
        },
        {
         "name": "children",
         "rawType": "float64",
         "type": "float"
        },
        {
         "name": "smoker",
         "rawType": "int64",
         "type": "integer"
        },
        {
         "name": "charges",
         "rawType": "int64",
         "type": "integer"
        },
        {
         "name": "region_southeast",
         "rawType": "int64",
         "type": "integer"
        },
        {
         "name": "bmi_category_Obese",
         "rawType": "int64",
         "type": "integer"
        }
       ],
       "ref": "91b17137-68d1-4ef5-8aef-52885e78d971",
       "rows": [
        [
         "0",
         "-1.4404177293803346",
         "1",
         "-0.5179491381563489",
         "-0.9092341626291546",
         "1",
         "16884",
         "0",
         "0"
        ],
        [
         "1",
         "-1.5116474702606657",
         "0",
         "0.462463317315626",
         "-0.07944161966998751",
         "0",
         "1725",
         "1",
         "1"
        ],
        [
         "2",
         "-0.7993500614573563",
         "0",
         "0.462463317315626",
         "1.5801434662483465",
         "0",
         "4449",
         "1",
         "1"
        ],
        [
         "3",
         "-0.44320135705570163",
         "0",
         "-1.334959517716328",
         "-0.9092341626291546",
         "0",
         "21984",
         "0",
         "0"
        ],
        [
         "4",
         "-0.5144310979360326",
         "0",
         "-0.35454706224435306",
         "-0.9092341626291546",
         "0",
         "3866",
         "0",
         "0"
        ],
        [
         "5",
         "-0.5856608388163635",
         "1",
         "-0.8447532899803405",
         "-0.9092341626291546",
         "0",
         "3756",
         "1",
         "0"
        ],
        [
         "6",
         "0.48278527438860047",
         "1",
         "0.462463317315626",
         "-0.07944161966998751",
         "0",
         "8240",
         "1",
         "1"
        ],
        [
         "7",
         "-0.15828239353437792",
         "1",
         "-0.5179491381563489",
         "1.5801434662483465",
         "0",
         "7281",
         "0",
         "0"
        ],
        [
         "8",
         "-0.15828239353437792",
         "0",
         "-0.19114498633235724",
         "0.7503509232891795",
         "0",
         "6406",
         "0",
         "0"
        ],
        [
         "9",
         "1.4800016467132335",
         "1",
         "-0.8447532899803405",
         "-0.9092341626291546",
         "0",
         "28923",
         "0",
         "0"
        ],
        [
         "10",
         "-1.013039284098349",
         "0",
         "-0.6813512140683446",
         "-0.9092341626291546",
         "0",
         "2721",
         "0",
         "0"
        ],
        [
         "11",
         "1.6224611284738955",
         "1",
         "-0.6813512140683446",
         "-0.9092341626291546",
         "1",
         "27808",
         "1",
         "0"
        ],
        [
         "12",
         "-1.155498765859011",
         "0",
         "0.6258653932276218",
         "-0.9092341626291546",
         "0",
         "1826",
         "0",
         "1"
        ],
        [
         "13",
         "1.1950826831919097",
         "1",
         "1.442875772787601",
         "-0.9092341626291546",
         "0",
         "11090",
         "1",
         "1"
        ],
        [
         "14",
         "-0.8705798023376873",
         "0",
         "1.9330820005235883",
         "-0.9092341626291546",
         "1",
         "39611",
         "1",
         "1"
        ],
        [
         "15",
         "-1.4404177293803346",
         "0",
         "-1.0081553658923363",
         "-0.07944161966998751",
         "0",
         "1837",
         "0",
         "0"
        ],
        [
         "16",
         "0.9101637196705861",
         "1",
         "-0.02774291042036144",
         "-0.07944161966998751",
         "0",
         "10797",
         "0",
         "1"
        ],
        [
         "17",
         "-1.155498765859011",
         "0",
         "-1.1715574418043322",
         "-0.9092341626291546",
         "0",
         "2395",
         "0",
         "0"
        ],
        [
         "18",
         "1.1950826831919097",
         "0",
         "1.6062778486995968",
         "-0.9092341626291546",
         "0",
         "10602",
         "0",
         "1"
        ],
        [
         "19",
         "-0.6568905796966944",
         "0",
         "0.7892674691396177",
         "-0.9092341626291546",
         "1",
         "36837",
         "0",
         "1"
        ],
        [
         "20",
         "1.4800016467132335",
         "1",
         "0.9526695450516135",
         "-0.9092341626291546",
         "0",
         "13228",
         "0",
         "1"
        ],
        [
         "21",
         "-0.6568905796966944",
         "1",
         "0.2990612414036302",
         "-0.07944161966998751",
         "0",
         "4149",
         "0",
         "1"
        ],
        [
         "22",
         "-1.5116474702606657",
         "0",
         "0.6258653932276218",
         "-0.9092341626291546",
         "0",
         "1137",
         "1",
         "1"
        ],
        [
         "23",
         "-0.3719716161753707",
         "1",
         "0.13565916549163437",
         "-0.07944161966998751",
         "1",
         "37701",
         "0",
         "1"
        ],
        [
         "24",
         "-0.15828239353437792",
         "0",
         "-0.35454706224435306",
         "0.7503509232891795",
         "0",
         "6203",
         "0",
         "0"
        ],
        [
         "25",
         "1.4087719058329027",
         "1",
         "-0.5179491381563489",
         "1.5801434662483465",
         "0",
         "14001",
         "1",
         "0"
        ],
        [
         "26",
         "1.6936908693542263",
         "1",
         "-1.1715574418043322",
         "-0.9092341626291546",
         "0",
         "14451",
         "0",
         "0"
        ],
        [
         "27",
         "1.1238529423115788",
         "1",
         "0.2990612414036302",
         "0.7503509232891795",
         "0",
         "12268",
         "0",
         "1"
        ],
        [
         "28",
         "-1.155498765859011",
         "0",
         "-2.151969897276307",
         "-0.07944161966998751",
         "0",
         "2775",
         "0",
         "0"
        ],
        [
         "29",
         "-0.5856608388163635",
         "0",
         "0.9526695450516135",
         "0.7503509232891795",
         "1",
         "38711",
         "0",
         "1"
        ],
        [
         "30",
         "-1.2267285067393419",
         "0",
         "0.7892674691396177",
         "-0.9092341626291546",
         "1",
         "35585",
         "0",
         "1"
        ],
        [
         "31",
         "-1.5116474702606657",
         "1",
         "-0.6813512140683446",
         "-0.9092341626291546",
         "0",
         "2198",
         "0",
         "0"
        ],
        [
         "32",
         "-1.4404177293803346",
         "1",
         "-0.35454706224435306",
         "3.2397285521666808",
         "0",
         "4687",
         "0",
         "0"
        ],
        [
         "33",
         "1.6936908693542263",
         "0",
         "-0.35454706224435306",
         "-0.9092341626291546",
         "0",
         "13770",
         "0",
         "0"
        ],
        [
         "34",
         "-0.7993500614573563",
         "0",
         "0.9526695450516135",
         "-0.07944161966998751",
         "1",
         "51194",
         "0",
         "1"
        ],
        [
         "35",
         "-1.4404177293803346",
         "0",
         "-1.6617636695403195",
         "-0.9092341626291546",
         "0",
         "1625",
         "0",
         "0"
        ],
        [
         "36",
         "1.6224611284738955",
         "1",
         "0.2990612414036302",
         "1.5801434662483465",
         "0",
         "15612",
         "0",
         "1"
        ],
        [
         "37",
         "-0.9418095432180181",
         "0",
         "-1.6617636695403195",
         "-0.9092341626291546",
         "0",
         "2302",
         "0",
         "0"
        ],
        [
         "38",
         "-0.30074187529503976",
         "0",
         "0.9526695450516135",
         "-0.07944161966998751",
         "1",
         "39774",
         "0",
         "1"
        ],
        [
         "39",
         "1.4800016467132335",
         "0",
         "1.442875772787601",
         "-0.9092341626291546",
         "1",
         "48173",
         "0",
         "1"
        ],
        [
         "40",
         "-1.08426902497868",
         "1",
         "-0.6813512140683446",
         "-0.9092341626291546",
         "0",
         "3046",
         "0",
         "0"
        ],
        [
         "41",
         "-0.5856608388163635",
         "1",
         "0.9526695450516135",
         "0.7503509232891795",
         "0",
         "4949",
         "1",
         "1"
        ],
        [
         "42",
         "0.1266365699869458",
         "0",
         "-1.4983615936283237",
         "-0.07944161966998751",
         "0",
         "6272",
         "1",
         "0"
        ],
        [
         "43",
         "-0.15828239353437792",
         "1",
         "-0.02774291042036144",
         "0.7503509232891795",
         "0",
         "6313",
         "1",
         "1"
        ],
        [
         "44",
         "-0.08705265265404699",
         "0",
         "1.1160716209636092",
         "-0.07944161966998751",
         "0",
         "6079",
         "0",
         "1"
        ],
        [
         "45",
         "1.1238529423115788",
         "0",
         "1.1160716209636092",
         "-0.9092341626291546",
         "0",
         "20630",
         "0",
         "1"
        ],
        [
         "46",
         "-1.5116474702606657",
         "1",
         "1.279473696875605",
         "0.7503509232891795",
         "0",
         "3393",
         "0",
         "1"
        ],
        [
         "47",
         "-0.7993500614573563",
         "1",
         "0.6258653932276218",
         "-0.9092341626291546",
         "0",
         "3556",
         "0",
         "1"
        ],
        [
         "48",
         "1.4800016467132335",
         "1",
         "-1.0081553658923363",
         "-0.9092341626291546",
         "0",
         "12629",
         "1",
         "0"
        ],
        [
         "49",
         "-0.22951213441470886",
         "0",
         "0.7892674691396177",
         "-0.07944161966998751",
         "1",
         "38709",
         "1",
         "1"
        ]
       ],
       "shape": {
        "columns": 8,
        "rows": 1337
       }
      },
      "text/html": [
       "<div>\n",
       "<style scoped>\n",
       "    .dataframe tbody tr th:only-of-type {\n",
       "        vertical-align: middle;\n",
       "    }\n",
       "\n",
       "    .dataframe tbody tr th {\n",
       "        vertical-align: top;\n",
       "    }\n",
       "\n",
       "    .dataframe thead th {\n",
       "        text-align: right;\n",
       "    }\n",
       "</style>\n",
       "<table border=\"1\" class=\"dataframe\">\n",
       "  <thead>\n",
       "    <tr style=\"text-align: right;\">\n",
       "      <th></th>\n",
       "      <th>age</th>\n",
       "      <th>gender</th>\n",
       "      <th>bmi</th>\n",
       "      <th>children</th>\n",
       "      <th>smoker</th>\n",
       "      <th>charges</th>\n",
       "      <th>region_southeast</th>\n",
       "      <th>bmi_category_Obese</th>\n",
       "    </tr>\n",
       "  </thead>\n",
       "  <tbody>\n",
       "    <tr>\n",
       "      <th>0</th>\n",
       "      <td>-1.440418</td>\n",
       "      <td>1</td>\n",
       "      <td>-0.517949</td>\n",
       "      <td>-0.909234</td>\n",
       "      <td>1</td>\n",
       "      <td>16884</td>\n",
       "      <td>0</td>\n",
       "      <td>0</td>\n",
       "    </tr>\n",
       "    <tr>\n",
       "      <th>1</th>\n",
       "      <td>-1.511647</td>\n",
       "      <td>0</td>\n",
       "      <td>0.462463</td>\n",
       "      <td>-0.079442</td>\n",
       "      <td>0</td>\n",
       "      <td>1725</td>\n",
       "      <td>1</td>\n",
       "      <td>1</td>\n",
       "    </tr>\n",
       "    <tr>\n",
       "      <th>2</th>\n",
       "      <td>-0.799350</td>\n",
       "      <td>0</td>\n",
       "      <td>0.462463</td>\n",
       "      <td>1.580143</td>\n",
       "      <td>0</td>\n",
       "      <td>4449</td>\n",
       "      <td>1</td>\n",
       "      <td>1</td>\n",
       "    </tr>\n",
       "    <tr>\n",
       "      <th>3</th>\n",
       "      <td>-0.443201</td>\n",
       "      <td>0</td>\n",
       "      <td>-1.334960</td>\n",
       "      <td>-0.909234</td>\n",
       "      <td>0</td>\n",
       "      <td>21984</td>\n",
       "      <td>0</td>\n",
       "      <td>0</td>\n",
       "    </tr>\n",
       "    <tr>\n",
       "      <th>4</th>\n",
       "      <td>-0.514431</td>\n",
       "      <td>0</td>\n",
       "      <td>-0.354547</td>\n",
       "      <td>-0.909234</td>\n",
       "      <td>0</td>\n",
       "      <td>3866</td>\n",
       "      <td>0</td>\n",
       "      <td>0</td>\n",
       "    </tr>\n",
       "    <tr>\n",
       "      <th>...</th>\n",
       "      <td>...</td>\n",
       "      <td>...</td>\n",
       "      <td>...</td>\n",
       "      <td>...</td>\n",
       "      <td>...</td>\n",
       "      <td>...</td>\n",
       "      <td>...</td>\n",
       "      <td>...</td>\n",
       "    </tr>\n",
       "    <tr>\n",
       "      <th>1333</th>\n",
       "      <td>0.767704</td>\n",
       "      <td>0</td>\n",
       "      <td>-0.027743</td>\n",
       "      <td>1.580143</td>\n",
       "      <td>0</td>\n",
       "      <td>10600</td>\n",
       "      <td>0</td>\n",
       "      <td>1</td>\n",
       "    </tr>\n",
       "    <tr>\n",
       "      <th>1334</th>\n",
       "      <td>-1.511647</td>\n",
       "      <td>1</td>\n",
       "      <td>0.135659</td>\n",
       "      <td>-0.909234</td>\n",
       "      <td>0</td>\n",
       "      <td>2205</td>\n",
       "      <td>0</td>\n",
       "      <td>1</td>\n",
       "    </tr>\n",
       "    <tr>\n",
       "      <th>1335</th>\n",
       "      <td>-1.511647</td>\n",
       "      <td>1</td>\n",
       "      <td>0.952670</td>\n",
       "      <td>-0.909234</td>\n",
       "      <td>0</td>\n",
       "      <td>1629</td>\n",
       "      <td>1</td>\n",
       "      <td>1</td>\n",
       "    </tr>\n",
       "    <tr>\n",
       "      <th>1336</th>\n",
       "      <td>-1.297958</td>\n",
       "      <td>1</td>\n",
       "      <td>-0.844753</td>\n",
       "      <td>-0.909234</td>\n",
       "      <td>0</td>\n",
       "      <td>2007</td>\n",
       "      <td>0</td>\n",
       "      <td>0</td>\n",
       "    </tr>\n",
       "    <tr>\n",
       "      <th>1337</th>\n",
       "      <td>1.551231</td>\n",
       "      <td>1</td>\n",
       "      <td>-0.191145</td>\n",
       "      <td>-0.909234</td>\n",
       "      <td>1</td>\n",
       "      <td>29141</td>\n",
       "      <td>0</td>\n",
       "      <td>0</td>\n",
       "    </tr>\n",
       "  </tbody>\n",
       "</table>\n",
       "<p>1337 rows × 8 columns</p>\n",
       "</div>"
      ],
      "text/plain": [
       "           age  gender       bmi  children  smoker  charges  region_southeast  \\\n",
       "0    -1.440418       1 -0.517949 -0.909234       1    16884                 0   \n",
       "1    -1.511647       0  0.462463 -0.079442       0     1725                 1   \n",
       "2    -0.799350       0  0.462463  1.580143       0     4449                 1   \n",
       "3    -0.443201       0 -1.334960 -0.909234       0    21984                 0   \n",
       "4    -0.514431       0 -0.354547 -0.909234       0     3866                 0   \n",
       "...        ...     ...       ...       ...     ...      ...               ...   \n",
       "1333  0.767704       0 -0.027743  1.580143       0    10600                 0   \n",
       "1334 -1.511647       1  0.135659 -0.909234       0     2205                 0   \n",
       "1335 -1.511647       1  0.952670 -0.909234       0     1629                 1   \n",
       "1336 -1.297958       1 -0.844753 -0.909234       0     2007                 0   \n",
       "1337  1.551231       1 -0.191145 -0.909234       1    29141                 0   \n",
       "\n",
       "      bmi_category_Obese  \n",
       "0                      0  \n",
       "1                      1  \n",
       "2                      1  \n",
       "3                      0  \n",
       "4                      0  \n",
       "...                  ...  \n",
       "1333                   1  \n",
       "1334                   1  \n",
       "1335                   1  \n",
       "1336                   0  \n",
       "1337                   0  \n",
       "\n",
       "[1337 rows x 8 columns]"
      ]
     },
     "execution_count": 49,
     "metadata": {},
     "output_type": "execute_result"
    }
   ],
   "source": [
    "final_df = cleaned_data[['age', 'gender', 'bmi', 'children', 'smoker', 'charges','region_southeast','bmi_category_Obese']]\n",
    "final_df"
   ]
  },
  {
   "cell_type": "markdown",
   "id": "a5af2012",
   "metadata": {},
   "source": [
    "## Now training a Model by using the data on 80/20 ratio, 80 for training and 20 for testing, and then evaluating the model on the test data."
   ]
  },
  {
   "cell_type": "code",
   "execution_count": 50,
   "id": "06517745",
   "metadata": {},
   "outputs": [],
   "source": [
    "from sklearn.model_selection import train_test_split"
   ]
  },
  {
   "cell_type": "code",
   "execution_count": null,
   "id": "3da09900",
   "metadata": {},
   "outputs": [],
   "source": [
    "X = final_df.drop('charges', axis=1) # taking the features as input except charges\n",
    "y = final_df['charges'] # taking the target as output"
   ]
  },
  {
   "cell_type": "code",
   "execution_count": 56,
   "id": "505b8e3d",
   "metadata": {},
   "outputs": [],
   "source": [
    "X_train, X_test, y_train, y_test = train_test_split(\n",
    "X, y, test_size=0.20, random_state=42)"
   ]
  },
  {
   "cell_type": "code",
   "execution_count": 57,
   "id": "f4b2066e",
   "metadata": {},
   "outputs": [],
   "source": [
    "from sklearn.linear_model import LinearRegression"
   ]
  },
  {
   "cell_type": "code",
   "execution_count": 58,
   "id": "aec81495",
   "metadata": {},
   "outputs": [
    {
     "data": {
      "text/html": [
       "<style>#sk-container-id-1 {\n",
       "  /* Definition of color scheme common for light and dark mode */\n",
       "  --sklearn-color-text: #000;\n",
       "  --sklearn-color-text-muted: #666;\n",
       "  --sklearn-color-line: gray;\n",
       "  /* Definition of color scheme for unfitted estimators */\n",
       "  --sklearn-color-unfitted-level-0: #fff5e6;\n",
       "  --sklearn-color-unfitted-level-1: #f6e4d2;\n",
       "  --sklearn-color-unfitted-level-2: #ffe0b3;\n",
       "  --sklearn-color-unfitted-level-3: chocolate;\n",
       "  /* Definition of color scheme for fitted estimators */\n",
       "  --sklearn-color-fitted-level-0: #f0f8ff;\n",
       "  --sklearn-color-fitted-level-1: #d4ebff;\n",
       "  --sklearn-color-fitted-level-2: #b3dbfd;\n",
       "  --sklearn-color-fitted-level-3: cornflowerblue;\n",
       "\n",
       "  /* Specific color for light theme */\n",
       "  --sklearn-color-text-on-default-background: var(--sg-text-color, var(--theme-code-foreground, var(--jp-content-font-color1, black)));\n",
       "  --sklearn-color-background: var(--sg-background-color, var(--theme-background, var(--jp-layout-color0, white)));\n",
       "  --sklearn-color-border-box: var(--sg-text-color, var(--theme-code-foreground, var(--jp-content-font-color1, black)));\n",
       "  --sklearn-color-icon: #696969;\n",
       "\n",
       "  @media (prefers-color-scheme: dark) {\n",
       "    /* Redefinition of color scheme for dark theme */\n",
       "    --sklearn-color-text-on-default-background: var(--sg-text-color, var(--theme-code-foreground, var(--jp-content-font-color1, white)));\n",
       "    --sklearn-color-background: var(--sg-background-color, var(--theme-background, var(--jp-layout-color0, #111)));\n",
       "    --sklearn-color-border-box: var(--sg-text-color, var(--theme-code-foreground, var(--jp-content-font-color1, white)));\n",
       "    --sklearn-color-icon: #878787;\n",
       "  }\n",
       "}\n",
       "\n",
       "#sk-container-id-1 {\n",
       "  color: var(--sklearn-color-text);\n",
       "}\n",
       "\n",
       "#sk-container-id-1 pre {\n",
       "  padding: 0;\n",
       "}\n",
       "\n",
       "#sk-container-id-1 input.sk-hidden--visually {\n",
       "  border: 0;\n",
       "  clip: rect(1px 1px 1px 1px);\n",
       "  clip: rect(1px, 1px, 1px, 1px);\n",
       "  height: 1px;\n",
       "  margin: -1px;\n",
       "  overflow: hidden;\n",
       "  padding: 0;\n",
       "  position: absolute;\n",
       "  width: 1px;\n",
       "}\n",
       "\n",
       "#sk-container-id-1 div.sk-dashed-wrapped {\n",
       "  border: 1px dashed var(--sklearn-color-line);\n",
       "  margin: 0 0.4em 0.5em 0.4em;\n",
       "  box-sizing: border-box;\n",
       "  padding-bottom: 0.4em;\n",
       "  background-color: var(--sklearn-color-background);\n",
       "}\n",
       "\n",
       "#sk-container-id-1 div.sk-container {\n",
       "  /* jupyter's `normalize.less` sets `[hidden] { display: none; }`\n",
       "     but bootstrap.min.css set `[hidden] { display: none !important; }`\n",
       "     so we also need the `!important` here to be able to override the\n",
       "     default hidden behavior on the sphinx rendered scikit-learn.org.\n",
       "     See: https://github.com/scikit-learn/scikit-learn/issues/21755 */\n",
       "  display: inline-block !important;\n",
       "  position: relative;\n",
       "}\n",
       "\n",
       "#sk-container-id-1 div.sk-text-repr-fallback {\n",
       "  display: none;\n",
       "}\n",
       "\n",
       "div.sk-parallel-item,\n",
       "div.sk-serial,\n",
       "div.sk-item {\n",
       "  /* draw centered vertical line to link estimators */\n",
       "  background-image: linear-gradient(var(--sklearn-color-text-on-default-background), var(--sklearn-color-text-on-default-background));\n",
       "  background-size: 2px 100%;\n",
       "  background-repeat: no-repeat;\n",
       "  background-position: center center;\n",
       "}\n",
       "\n",
       "/* Parallel-specific style estimator block */\n",
       "\n",
       "#sk-container-id-1 div.sk-parallel-item::after {\n",
       "  content: \"\";\n",
       "  width: 100%;\n",
       "  border-bottom: 2px solid var(--sklearn-color-text-on-default-background);\n",
       "  flex-grow: 1;\n",
       "}\n",
       "\n",
       "#sk-container-id-1 div.sk-parallel {\n",
       "  display: flex;\n",
       "  align-items: stretch;\n",
       "  justify-content: center;\n",
       "  background-color: var(--sklearn-color-background);\n",
       "  position: relative;\n",
       "}\n",
       "\n",
       "#sk-container-id-1 div.sk-parallel-item {\n",
       "  display: flex;\n",
       "  flex-direction: column;\n",
       "}\n",
       "\n",
       "#sk-container-id-1 div.sk-parallel-item:first-child::after {\n",
       "  align-self: flex-end;\n",
       "  width: 50%;\n",
       "}\n",
       "\n",
       "#sk-container-id-1 div.sk-parallel-item:last-child::after {\n",
       "  align-self: flex-start;\n",
       "  width: 50%;\n",
       "}\n",
       "\n",
       "#sk-container-id-1 div.sk-parallel-item:only-child::after {\n",
       "  width: 0;\n",
       "}\n",
       "\n",
       "/* Serial-specific style estimator block */\n",
       "\n",
       "#sk-container-id-1 div.sk-serial {\n",
       "  display: flex;\n",
       "  flex-direction: column;\n",
       "  align-items: center;\n",
       "  background-color: var(--sklearn-color-background);\n",
       "  padding-right: 1em;\n",
       "  padding-left: 1em;\n",
       "}\n",
       "\n",
       "\n",
       "/* Toggleable style: style used for estimator/Pipeline/ColumnTransformer box that is\n",
       "clickable and can be expanded/collapsed.\n",
       "- Pipeline and ColumnTransformer use this feature and define the default style\n",
       "- Estimators will overwrite some part of the style using the `sk-estimator` class\n",
       "*/\n",
       "\n",
       "/* Pipeline and ColumnTransformer style (default) */\n",
       "\n",
       "#sk-container-id-1 div.sk-toggleable {\n",
       "  /* Default theme specific background. It is overwritten whether we have a\n",
       "  specific estimator or a Pipeline/ColumnTransformer */\n",
       "  background-color: var(--sklearn-color-background);\n",
       "}\n",
       "\n",
       "/* Toggleable label */\n",
       "#sk-container-id-1 label.sk-toggleable__label {\n",
       "  cursor: pointer;\n",
       "  display: flex;\n",
       "  width: 100%;\n",
       "  margin-bottom: 0;\n",
       "  padding: 0.5em;\n",
       "  box-sizing: border-box;\n",
       "  text-align: center;\n",
       "  align-items: start;\n",
       "  justify-content: space-between;\n",
       "  gap: 0.5em;\n",
       "}\n",
       "\n",
       "#sk-container-id-1 label.sk-toggleable__label .caption {\n",
       "  font-size: 0.6rem;\n",
       "  font-weight: lighter;\n",
       "  color: var(--sklearn-color-text-muted);\n",
       "}\n",
       "\n",
       "#sk-container-id-1 label.sk-toggleable__label-arrow:before {\n",
       "  /* Arrow on the left of the label */\n",
       "  content: \"▸\";\n",
       "  float: left;\n",
       "  margin-right: 0.25em;\n",
       "  color: var(--sklearn-color-icon);\n",
       "}\n",
       "\n",
       "#sk-container-id-1 label.sk-toggleable__label-arrow:hover:before {\n",
       "  color: var(--sklearn-color-text);\n",
       "}\n",
       "\n",
       "/* Toggleable content - dropdown */\n",
       "\n",
       "#sk-container-id-1 div.sk-toggleable__content {\n",
       "  max-height: 0;\n",
       "  max-width: 0;\n",
       "  overflow: hidden;\n",
       "  text-align: left;\n",
       "  /* unfitted */\n",
       "  background-color: var(--sklearn-color-unfitted-level-0);\n",
       "}\n",
       "\n",
       "#sk-container-id-1 div.sk-toggleable__content.fitted {\n",
       "  /* fitted */\n",
       "  background-color: var(--sklearn-color-fitted-level-0);\n",
       "}\n",
       "\n",
       "#sk-container-id-1 div.sk-toggleable__content pre {\n",
       "  margin: 0.2em;\n",
       "  border-radius: 0.25em;\n",
       "  color: var(--sklearn-color-text);\n",
       "  /* unfitted */\n",
       "  background-color: var(--sklearn-color-unfitted-level-0);\n",
       "}\n",
       "\n",
       "#sk-container-id-1 div.sk-toggleable__content.fitted pre {\n",
       "  /* unfitted */\n",
       "  background-color: var(--sklearn-color-fitted-level-0);\n",
       "}\n",
       "\n",
       "#sk-container-id-1 input.sk-toggleable__control:checked~div.sk-toggleable__content {\n",
       "  /* Expand drop-down */\n",
       "  max-height: 200px;\n",
       "  max-width: 100%;\n",
       "  overflow: auto;\n",
       "}\n",
       "\n",
       "#sk-container-id-1 input.sk-toggleable__control:checked~label.sk-toggleable__label-arrow:before {\n",
       "  content: \"▾\";\n",
       "}\n",
       "\n",
       "/* Pipeline/ColumnTransformer-specific style */\n",
       "\n",
       "#sk-container-id-1 div.sk-label input.sk-toggleable__control:checked~label.sk-toggleable__label {\n",
       "  color: var(--sklearn-color-text);\n",
       "  background-color: var(--sklearn-color-unfitted-level-2);\n",
       "}\n",
       "\n",
       "#sk-container-id-1 div.sk-label.fitted input.sk-toggleable__control:checked~label.sk-toggleable__label {\n",
       "  background-color: var(--sklearn-color-fitted-level-2);\n",
       "}\n",
       "\n",
       "/* Estimator-specific style */\n",
       "\n",
       "/* Colorize estimator box */\n",
       "#sk-container-id-1 div.sk-estimator input.sk-toggleable__control:checked~label.sk-toggleable__label {\n",
       "  /* unfitted */\n",
       "  background-color: var(--sklearn-color-unfitted-level-2);\n",
       "}\n",
       "\n",
       "#sk-container-id-1 div.sk-estimator.fitted input.sk-toggleable__control:checked~label.sk-toggleable__label {\n",
       "  /* fitted */\n",
       "  background-color: var(--sklearn-color-fitted-level-2);\n",
       "}\n",
       "\n",
       "#sk-container-id-1 div.sk-label label.sk-toggleable__label,\n",
       "#sk-container-id-1 div.sk-label label {\n",
       "  /* The background is the default theme color */\n",
       "  color: var(--sklearn-color-text-on-default-background);\n",
       "}\n",
       "\n",
       "/* On hover, darken the color of the background */\n",
       "#sk-container-id-1 div.sk-label:hover label.sk-toggleable__label {\n",
       "  color: var(--sklearn-color-text);\n",
       "  background-color: var(--sklearn-color-unfitted-level-2);\n",
       "}\n",
       "\n",
       "/* Label box, darken color on hover, fitted */\n",
       "#sk-container-id-1 div.sk-label.fitted:hover label.sk-toggleable__label.fitted {\n",
       "  color: var(--sklearn-color-text);\n",
       "  background-color: var(--sklearn-color-fitted-level-2);\n",
       "}\n",
       "\n",
       "/* Estimator label */\n",
       "\n",
       "#sk-container-id-1 div.sk-label label {\n",
       "  font-family: monospace;\n",
       "  font-weight: bold;\n",
       "  display: inline-block;\n",
       "  line-height: 1.2em;\n",
       "}\n",
       "\n",
       "#sk-container-id-1 div.sk-label-container {\n",
       "  text-align: center;\n",
       "}\n",
       "\n",
       "/* Estimator-specific */\n",
       "#sk-container-id-1 div.sk-estimator {\n",
       "  font-family: monospace;\n",
       "  border: 1px dotted var(--sklearn-color-border-box);\n",
       "  border-radius: 0.25em;\n",
       "  box-sizing: border-box;\n",
       "  margin-bottom: 0.5em;\n",
       "  /* unfitted */\n",
       "  background-color: var(--sklearn-color-unfitted-level-0);\n",
       "}\n",
       "\n",
       "#sk-container-id-1 div.sk-estimator.fitted {\n",
       "  /* fitted */\n",
       "  background-color: var(--sklearn-color-fitted-level-0);\n",
       "}\n",
       "\n",
       "/* on hover */\n",
       "#sk-container-id-1 div.sk-estimator:hover {\n",
       "  /* unfitted */\n",
       "  background-color: var(--sklearn-color-unfitted-level-2);\n",
       "}\n",
       "\n",
       "#sk-container-id-1 div.sk-estimator.fitted:hover {\n",
       "  /* fitted */\n",
       "  background-color: var(--sklearn-color-fitted-level-2);\n",
       "}\n",
       "\n",
       "/* Specification for estimator info (e.g. \"i\" and \"?\") */\n",
       "\n",
       "/* Common style for \"i\" and \"?\" */\n",
       "\n",
       ".sk-estimator-doc-link,\n",
       "a:link.sk-estimator-doc-link,\n",
       "a:visited.sk-estimator-doc-link {\n",
       "  float: right;\n",
       "  font-size: smaller;\n",
       "  line-height: 1em;\n",
       "  font-family: monospace;\n",
       "  background-color: var(--sklearn-color-background);\n",
       "  border-radius: 1em;\n",
       "  height: 1em;\n",
       "  width: 1em;\n",
       "  text-decoration: none !important;\n",
       "  margin-left: 0.5em;\n",
       "  text-align: center;\n",
       "  /* unfitted */\n",
       "  border: var(--sklearn-color-unfitted-level-1) 1pt solid;\n",
       "  color: var(--sklearn-color-unfitted-level-1);\n",
       "}\n",
       "\n",
       ".sk-estimator-doc-link.fitted,\n",
       "a:link.sk-estimator-doc-link.fitted,\n",
       "a:visited.sk-estimator-doc-link.fitted {\n",
       "  /* fitted */\n",
       "  border: var(--sklearn-color-fitted-level-1) 1pt solid;\n",
       "  color: var(--sklearn-color-fitted-level-1);\n",
       "}\n",
       "\n",
       "/* On hover */\n",
       "div.sk-estimator:hover .sk-estimator-doc-link:hover,\n",
       ".sk-estimator-doc-link:hover,\n",
       "div.sk-label-container:hover .sk-estimator-doc-link:hover,\n",
       ".sk-estimator-doc-link:hover {\n",
       "  /* unfitted */\n",
       "  background-color: var(--sklearn-color-unfitted-level-3);\n",
       "  color: var(--sklearn-color-background);\n",
       "  text-decoration: none;\n",
       "}\n",
       "\n",
       "div.sk-estimator.fitted:hover .sk-estimator-doc-link.fitted:hover,\n",
       ".sk-estimator-doc-link.fitted:hover,\n",
       "div.sk-label-container:hover .sk-estimator-doc-link.fitted:hover,\n",
       ".sk-estimator-doc-link.fitted:hover {\n",
       "  /* fitted */\n",
       "  background-color: var(--sklearn-color-fitted-level-3);\n",
       "  color: var(--sklearn-color-background);\n",
       "  text-decoration: none;\n",
       "}\n",
       "\n",
       "/* Span, style for the box shown on hovering the info icon */\n",
       ".sk-estimator-doc-link span {\n",
       "  display: none;\n",
       "  z-index: 9999;\n",
       "  position: relative;\n",
       "  font-weight: normal;\n",
       "  right: .2ex;\n",
       "  padding: .5ex;\n",
       "  margin: .5ex;\n",
       "  width: min-content;\n",
       "  min-width: 20ex;\n",
       "  max-width: 50ex;\n",
       "  color: var(--sklearn-color-text);\n",
       "  box-shadow: 2pt 2pt 4pt #999;\n",
       "  /* unfitted */\n",
       "  background: var(--sklearn-color-unfitted-level-0);\n",
       "  border: .5pt solid var(--sklearn-color-unfitted-level-3);\n",
       "}\n",
       "\n",
       ".sk-estimator-doc-link.fitted span {\n",
       "  /* fitted */\n",
       "  background: var(--sklearn-color-fitted-level-0);\n",
       "  border: var(--sklearn-color-fitted-level-3);\n",
       "}\n",
       "\n",
       ".sk-estimator-doc-link:hover span {\n",
       "  display: block;\n",
       "}\n",
       "\n",
       "/* \"?\"-specific style due to the `<a>` HTML tag */\n",
       "\n",
       "#sk-container-id-1 a.estimator_doc_link {\n",
       "  float: right;\n",
       "  font-size: 1rem;\n",
       "  line-height: 1em;\n",
       "  font-family: monospace;\n",
       "  background-color: var(--sklearn-color-background);\n",
       "  border-radius: 1rem;\n",
       "  height: 1rem;\n",
       "  width: 1rem;\n",
       "  text-decoration: none;\n",
       "  /* unfitted */\n",
       "  color: var(--sklearn-color-unfitted-level-1);\n",
       "  border: var(--sklearn-color-unfitted-level-1) 1pt solid;\n",
       "}\n",
       "\n",
       "#sk-container-id-1 a.estimator_doc_link.fitted {\n",
       "  /* fitted */\n",
       "  border: var(--sklearn-color-fitted-level-1) 1pt solid;\n",
       "  color: var(--sklearn-color-fitted-level-1);\n",
       "}\n",
       "\n",
       "/* On hover */\n",
       "#sk-container-id-1 a.estimator_doc_link:hover {\n",
       "  /* unfitted */\n",
       "  background-color: var(--sklearn-color-unfitted-level-3);\n",
       "  color: var(--sklearn-color-background);\n",
       "  text-decoration: none;\n",
       "}\n",
       "\n",
       "#sk-container-id-1 a.estimator_doc_link.fitted:hover {\n",
       "  /* fitted */\n",
       "  background-color: var(--sklearn-color-fitted-level-3);\n",
       "}\n",
       "</style><div id=\"sk-container-id-1\" class=\"sk-top-container\"><div class=\"sk-text-repr-fallback\"><pre>LinearRegression()</pre><b>In a Jupyter environment, please rerun this cell to show the HTML representation or trust the notebook. <br />On GitHub, the HTML representation is unable to render, please try loading this page with nbviewer.org.</b></div><div class=\"sk-container\" hidden><div class=\"sk-item\"><div class=\"sk-estimator fitted sk-toggleable\"><input class=\"sk-toggleable__control sk-hidden--visually\" id=\"sk-estimator-id-1\" type=\"checkbox\" checked><label for=\"sk-estimator-id-1\" class=\"sk-toggleable__label fitted sk-toggleable__label-arrow\"><div><div>LinearRegression</div></div><div><a class=\"sk-estimator-doc-link fitted\" rel=\"noreferrer\" target=\"_blank\" href=\"https://scikit-learn.org/1.6/modules/generated/sklearn.linear_model.LinearRegression.html\">?<span>Documentation for LinearRegression</span></a><span class=\"sk-estimator-doc-link fitted\">i<span>Fitted</span></span></div></label><div class=\"sk-toggleable__content fitted\"><pre>LinearRegression()</pre></div> </div></div></div></div>"
      ],
      "text/plain": [
       "LinearRegression()"
      ]
     },
     "execution_count": 58,
     "metadata": {},
     "output_type": "execute_result"
    }
   ],
   "source": [
    "model = LinearRegression()\n",
    "model.fit(X_train, y_train)"
   ]
  },
  {
   "cell_type": "markdown",
   "id": "5ecf355c",
   "metadata": {},
   "source": [
    "Now we will evalute our Model, by using R-Square and Adjusted R -Square. These are performane matrices that helps us to know how good our model is."
   ]
  },
  {
   "cell_type": "code",
   "execution_count": 60,
   "id": "c4b95e7a",
   "metadata": {},
   "outputs": [],
   "source": [
    "y_prediction = model.predict(X_test)"
   ]
  },
  {
   "cell_type": "code",
   "execution_count": 63,
   "id": "5faaf576",
   "metadata": {},
   "outputs": [
    {
     "data": {
      "text/plain": [
       "0.7987962362937232"
      ]
     },
     "execution_count": 63,
     "metadata": {},
     "output_type": "execute_result"
    }
   ],
   "source": [
    "# Performance Exvaluation\n",
    "from sklearn.metrics import r2_score\n",
    "\n",
    "r2 = r2_score(y_test, y_prediction)\n",
    "r2\n",
    "\n",
    "n = X_test.shape[0] # Selecting the Rows\n",
    "p = X_test.shape[1] # Selecting the Columns\n",
    "\n",
    "adjusted_r2 = 1 - ((1 - r2) * (n - 1)) / (n - p - 1) # Adjusted R-squared formula\n",
    "adjusted_r2"
   ]
  },
  {
   "cell_type": "code",
   "execution_count": 64,
   "id": "d39b493e",
   "metadata": {},
   "outputs": [
    {
     "data": {
      "image/png": "[encoded data removed]",
      "text/plain": [
       "<Figure size 800x500 with 1 Axes>"
      ]
     },
     "metadata": {},
     "output_type": "display_data"
    }
   ],
   "source": [
    "plt.figure(figsize=(8,5))\n",
    "plt.scatter(y_test, y_prediction, alpha=0.5)\n",
    "plt.xlabel(\"Actual Charges\")\n",
    "plt.ylabel(\"Predicted Charges\")\n",
    "plt.title(\"Actual vs Predicted Insurance Charges\")\n",
    "plt.plot([y_test.min(), y_test.max()], [y_test.min(), y_test.max()], 'r--')\n",
    "plt.show()"
   ]
  }
 ],
 "metadata": {
  "kernelspec": {
   "display_name": ".venv",
   "language": "python",
   "name": "python3"
  },
  "language_info": {
   "codemirror_mode": {
    "name": "ipython",
    "version": 3
   },
   "file_extension": ".py",
   "mimetype": "text/x-python",
   "name": "python",
   "nbconvert_exporter": "python",
   "pygments_lexer": "ipython3",
   "version": "3.11.0"
  }
 },
 "nbformat": 4,
 "nbformat_minor": 5
}
